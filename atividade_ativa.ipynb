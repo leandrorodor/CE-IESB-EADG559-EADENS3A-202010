{
  "nbformat": 4,
  "nbformat_minor": 0,
  "metadata": {
    "colab": {
      "name": "Untitled3.ipynb",
      "provenance": [],
      "collapsed_sections": [],
      "authorship_tag": "ABX9TyMRkkvMJnAaDq0WAL8wMEsQ",
      "include_colab_link": true
    },
    "kernelspec": {
      "name": "python3",
      "display_name": "Python 3"
    }
  },
  "cells": [
    {
      "cell_type": "markdown",
      "metadata": {
        "id": "view-in-github",
        "colab_type": "text"
      },
      "source": [
        "<a href=\"https://colab.research.google.com/github/leandrorodor/GR-IESB-EADG559-EADENS3A-202010/blob/master/atividade_ativa.ipynb\" target=\"_parent\"><img src=\"https://colab.research.google.com/assets/colab-badge.svg\" alt=\"Open In Colab\"/></a>"
      ]
    },
    {
      "cell_type": "code",
      "metadata": {
        "id": "sLr8E28n6BrS",
        "colab_type": "code",
        "colab": {}
      },
      "source": [
        "### EADG559-EADENS3A-202010\n",
        "### Leandro Rodor de Oliveira"
      ],
      "execution_count": null,
      "outputs": []
    },
    {
      "cell_type": "code",
      "metadata": {
        "id": "T1exm4zU6jtf",
        "colab_type": "code",
        "colab": {}
      },
      "source": [
        "from datetime import datetime"
      ],
      "execution_count": null,
      "outputs": []
    },
    {
      "cell_type": "markdown",
      "metadata": {
        "id": "f6S4VBYfaImO",
        "colab_type": "text"
      },
      "source": [
        "**Parte 1**"
      ]
    },
    {
      "cell_type": "markdown",
      "metadata": {
        "id": "3a1wrOgVI8In",
        "colab_type": "text"
      },
      "source": [
        "Função para gravar novo cliente em arquivo csv - CLIENTES\n",
        "\n",
        "\n",
        "---\n",
        "\n"
      ]
    },
    {
      "cell_type": "code",
      "metadata": {
        "id": "DpHiRiIzEhOq",
        "colab_type": "code",
        "colab": {}
      },
      "source": [
        "def gravar_clientes_csv(cpf, nome, rg):\n",
        "  \"\"\"\n",
        "  Função para gracação dos dados de clientes arquivo CSV, separado por “;” com os campos CPF, Nome e RG.\n",
        "  \"\"\"\n",
        "  csv = open(\"clientes.csv\",\"a\")\n",
        "  csv.write(f\"{cpf};{nome};{rg}\\n\")\n",
        "  csv.close()\n",
        "  print(\"Observação registrada em arquivo csv\")"
      ],
      "execution_count": 3,
      "outputs": []
    },
    {
      "cell_type": "markdown",
      "metadata": {
        "id": "xRqjQT4FY3BH",
        "colab_type": "text"
      },
      "source": [
        "Estrutura de repetição para formulário de entrada de dados - CLIENTES\n",
        "\n",
        "\n",
        "---\n",
        "\n"
      ]
    },
    {
      "cell_type": "code",
      "metadata": {
        "id": "ZKUWCZp96WdS",
        "colab_type": "code",
        "colab": {
          "base_uri": "https://localhost:8080/",
          "height": 969
        },
        "outputId": "bfb605da-4bc4-4193-9acb-fd9aae591a2b"
      },
      "source": [
        "# Flag para indicar inserção de novos clientes\n",
        "clientes_novos = True\n",
        "while clientes_novos:\n",
        "\n",
        "  # Solicitar entrada para cpf, nome e rg\n",
        "  cpf = input(\"CPF do cliente: \")\n",
        "  nome = input(\"Nome do cliente: \")\n",
        "  rg = input(\"RG do cliente: \")\n",
        "  \n",
        "  # Armazenar dados em dicionário\n",
        "  clientes_dic = {}\n",
        "  clientes_dic[cpf] = [nome,rg]\n",
        "\n",
        "  # Chama função para gravação de arquivo csv\n",
        "  gravar_clientes_csv(cpf, nome, rg)\n",
        "\n",
        "  # Perguntar ao usuário se deseja inserir novo cliente\n",
        "  print(\"\\nDigite 'sim' ou 'nao'\\n\")\n",
        "  repetir = input(\"\\n\\nVocê deseja incluir novo cliente? \\n\")\n",
        "  if repetir == 'nao':\n",
        "    clientes_novos = False\n",
        "\n",
        "  # Finalizar e imprimir comprovante de cadastro de cliente\n",
        "  print (\"-\" * 70) # cabeçalho\n",
        "  print(\"CLIENTE CADASTRADO COM SUCESSO\\n\")\n"
      ],
      "execution_count": 4,
      "outputs": [
        {
          "output_type": "stream",
          "text": [
            "CPF do cliente: 12345678911\n",
            "Nome do cliente: Rolando C. R.\n",
            "RG do cliente: 123456\n",
            "Observação registrada em arquivo csv\n",
            "\n",
            "Digite 'sim' ou 'nao'\n",
            "\n",
            "\n",
            "\n",
            "Você deseja incluir novo cliente? \n",
            "sim\n",
            "----------------------------------------------------------------------\n",
            "CLIENTE CADASTRADO COM SUCESSO\n",
            "\n",
            "CPF do cliente: 12345678922\n",
            "Nome do cliente: João S. B.\n",
            "RG do cliente: 456789\n",
            "Observação registrada em arquivo csv\n",
            "\n",
            "Digite 'sim' ou 'nao'\n",
            "\n",
            "\n",
            "\n",
            "Você deseja incluir novo cliente? \n",
            "sim\n",
            "----------------------------------------------------------------------\n",
            "CLIENTE CADASTRADO COM SUCESSO\n",
            "\n",
            "CPF do cliente: 12345678933\n",
            "Nome do cliente: José N. S.\n",
            "RG do cliente: 987654\n",
            "Observação registrada em arquivo csv\n",
            "\n",
            "Digite 'sim' ou 'nao'\n",
            "\n",
            "\n",
            "\n",
            "Você deseja incluir novo cliente? \n",
            "sim\n",
            "----------------------------------------------------------------------\n",
            "CLIENTE CADASTRADO COM SUCESSO\n",
            "\n",
            "CPF do cliente: 12345678955\n",
            "Nome do cliente: Francisco B. S.\n",
            "RG do cliente: 654321\n",
            "Observação registrada em arquivo csv\n",
            "\n",
            "Digite 'sim' ou 'nao'\n",
            "\n",
            "\n",
            "\n",
            "Você deseja incluir novo cliente? \n",
            "nao\n",
            "----------------------------------------------------------------------\n",
            "CLIENTE CADASTRADO COM SUCESSO\n",
            "\n"
          ],
          "name": "stdout"
        }
      ]
    },
    {
      "cell_type": "markdown",
      "metadata": {
        "id": "eOhlIjGmYO8K",
        "colab_type": "text"
      },
      "source": [
        "Função para gerar relatório de clientes a partir de arquivo csv - CLIENTES\n",
        "\n",
        "\n",
        "---\n",
        "\n"
      ]
    },
    {
      "cell_type": "code",
      "metadata": {
        "id": "3bXfQ9Lz2L-s",
        "colab_type": "code",
        "colab": {
          "base_uri": "https://localhost:8080/",
          "height": 119
        },
        "outputId": "38d035dc-077e-4428-a696-482ec484d2b5"
      },
      "source": [
        "def ler_clientes_csv():\n",
        "  \"\"\"\n",
        "  Dados dos clientes lidos a partir de arquivo CSV, separado por “;” com os campos Nome, RG, CPF.\n",
        "  \"\"\"\n",
        "  # Abre arquivo clientes.csv\n",
        "  clientes = open(\"clientes.csv\", \"r\").read().split(\"\\n\")\n",
        "\n",
        "  # Cabeçalho \n",
        "  print (\"-\" * 70) \n",
        "  print (\"CPF\\t\\t\", \"NOME\\t\\t\\t\", \"RG\") # nome das colunas\n",
        "  \n",
        "  # Percorre cada linha de clientes\n",
        "  for cliente in clientes:\n",
        "    if cliente != \"\":\n",
        "      cpf_cliente, nome_cliente, rg_cliente = cliente.split(\";\")\n",
        "      print(f\"{cpf_cliente}\\t{nome_cliente}\\t\\t{rg_cliente}\")\n",
        "ler_clientes_csv()"
      ],
      "execution_count": 7,
      "outputs": [
        {
          "output_type": "stream",
          "text": [
            "----------------------------------------------------------------------\n",
            "CPF\t\t NOME\t\t\t RG\n",
            "12345678911\tRolando C. R.\t\t123456\n",
            "12345678922\tJoão S. B.\t\t456789\n",
            "12345678933\tJosé N. S.\t\t987654\n",
            "12345678955\tFrancisco B. S.\t\t654321\n"
          ],
          "name": "stdout"
        }
      ]
    },
    {
      "cell_type": "markdown",
      "metadata": {
        "id": "C2HR74TdbVga",
        "colab_type": "text"
      },
      "source": [
        "**Parte 2**"
      ]
    },
    {
      "cell_type": "markdown",
      "metadata": {
        "id": "GT0pdzcH4gN4",
        "colab_type": "text"
      },
      "source": [
        "Função para gravar novo cliente em arquivo csv - FILMES\n",
        "\n",
        "\n",
        "---\n",
        "\n"
      ]
    },
    {
      "cell_type": "code",
      "metadata": {
        "id": "iZm_NSLD45yd",
        "colab_type": "code",
        "colab": {}
      },
      "source": [
        "def gravar_filmes_csv(codigo, tipo, tituto, ano):\n",
        "  \"\"\"\n",
        "  Dados dos filmes gravados em arquivo CSV, separado por “;” com os campos Código, Tipo, Título, Ano.\n",
        "  \"\"\"\n",
        "  csv = open(\"filmes.csv\",\"a\")\n",
        "  csv.write(f\"{codigo};{tipo};{titulo};{ano}\\r\")\n",
        "  csv.close()\n",
        "  print(\"Observação registrada em arquivo csv\")"
      ],
      "execution_count": 8,
      "outputs": []
    },
    {
      "cell_type": "markdown",
      "metadata": {
        "id": "oS4txOGIbj4k",
        "colab_type": "text"
      },
      "source": [
        "Estrutura de repetição para formulário de entrada de dados - FILMES\n",
        "\n",
        "\n",
        "---\n",
        "\n"
      ]
    },
    {
      "cell_type": "code",
      "metadata": {
        "id": "PnTjcMLn41sf",
        "colab_type": "code",
        "colab": {
          "base_uri": "https://localhost:8080/",
          "height": 1000
        },
        "outputId": "a79764f1-328b-41c3-98fa-4cfe44f8967c"
      },
      "source": [
        "# Flag para indicar inserção de novos filmes\n",
        "filmes_novos = True\n",
        "while filmes_novos:\n",
        "  # Solicitar entrada para tipo, titulo e ano\n",
        "  codigo = input(\"Código: \")\n",
        "  tipo = input(\"Tipo (Fita/DVD): \")\n",
        "  titulo = input(\"Título: \")\n",
        "  ano = input(\"Ano: \")\n",
        "\n",
        "  # Armazenar dados em dicionário\n",
        "  filmes_dic = {} \n",
        "  filmes_dic[codigo] = [tipo,titulo,ano]\n",
        "\n",
        "  # Chama função para gravação de arquivo csv\n",
        "  gravar_filmes_csv(codigo, tipo, titulo, ano)\n",
        "\n",
        "  # Perguntar ao usuário se deseja inserir novo filme\n",
        "  print(\"Digite 'sim' ou 'nao'\")\n",
        "  repetir = input(\"\\n\\nVocê deseja incluir novo filme? \")\n",
        "  if repetir == 'nao':\n",
        "    filmes_novos = False\n",
        "\n",
        "    print(\"Rotina encerrada\")\n",
        "\n",
        "  # Finalizar e imprimir comprovante de cadastro de cliente\n",
        "  print (\"-\" * 70) # cabeçalho\n",
        "  print(\"FILME CADASTRADO COM SUCESSO\\n\")"
      ],
      "execution_count": 10,
      "outputs": [
        {
          "output_type": "stream",
          "text": [
            "Código: 1\n",
            "Tipo (Fita/DVD): Fita\n",
            "Título: De volta para o futuro I\n",
            "Ano: 1985\n",
            "Observação registrada em arquivo csv\n",
            "Digite 'sim' ou 'nao'\n",
            "\n",
            "\n",
            "Você deseja incluir novo filme? sim\n",
            "----------------------------------------------------------------------\n",
            "FILME CADASTRADO COM SUCESSO\n",
            "\n",
            "Código: 2\n",
            "Tipo (Fita/DVD): Fita\n",
            "Título: De volta para o futuro II\n",
            "Ano: 1989\n",
            "Observação registrada em arquivo csv\n",
            "Digite 'sim' ou 'nao'\n",
            "\n",
            "\n",
            "Você deseja incluir novo filme? sim\n",
            "----------------------------------------------------------------------\n",
            "FILME CADASTRADO COM SUCESSO\n",
            "\n",
            "Código: 3\n",
            "Tipo (Fita/DVD): Fita\n",
            "Título: De volta para o futuro III\n",
            "Ano: 1990\n",
            "Observação registrada em arquivo csv\n",
            "Digite 'sim' ou 'nao'\n",
            "\n",
            "\n",
            "Você deseja incluir novo filme? sim\n",
            "----------------------------------------------------------------------\n",
            "FILME CADASTRADO COM SUCESSO\n",
            "\n",
            "Código: 4\n",
            "Tipo (Fita/DVD): DVD\n",
            "Título: Como treinar seu dragão 3\n",
            "Ano: 2019\n",
            "Observação registrada em arquivo csv\n",
            "Digite 'sim' ou 'nao'\n",
            "\n",
            "\n",
            "Você deseja incluir novo filme? sim\n",
            "----------------------------------------------------------------------\n",
            "FILME CADASTRADO COM SUCESSO\n",
            "\n",
            "Código: 5\n",
            "Tipo (Fita/DVD): DVD\n",
            "Título: Uma aventura lego\n",
            "Ano: 2019\n",
            "Observação registrada em arquivo csv\n",
            "Digite 'sim' ou 'nao'\n",
            "\n",
            "\n",
            "Você deseja incluir novo filme? sim\n",
            "----------------------------------------------------------------------\n",
            "FILME CADASTRADO COM SUCESSO\n",
            "\n",
            "Código: 6\n",
            "Tipo (Fita/DVD): DVD\n",
            "Título: O menino que queria ser rei\n",
            "Ano: 2019\n",
            "Observação registrada em arquivo csv\n",
            "Digite 'sim' ou 'nao'\n",
            "\n",
            "\n",
            "Você deseja incluir novo filme? sim\n",
            "----------------------------------------------------------------------\n",
            "FILME CADASTRADO COM SUCESSO\n",
            "\n",
            "Código: 7\n",
            "Tipo (Fita/DVD): DVD\n",
            "Título: Dumbo\n",
            "Ano: 2019\n",
            "Observação registrada em arquivo csv\n",
            "Digite 'sim' ou 'nao'\n",
            "\n",
            "\n",
            "Você deseja incluir novo filme? nao\n",
            "Rotina encerrada\n",
            "----------------------------------------------------------------------\n",
            "FILME CADASTRADO COM SUCESSO\n",
            "\n"
          ],
          "name": "stdout"
        }
      ]
    },
    {
      "cell_type": "markdown",
      "metadata": {
        "id": "EhqJUzu4YliB",
        "colab_type": "text"
      },
      "source": [
        "Função para gerar relatório a partir de arquivo csv - FILMES\n",
        "\n",
        "\n",
        "---\n",
        "\n"
      ]
    },
    {
      "cell_type": "code",
      "metadata": {
        "id": "awfWJBeb7N6F",
        "colab_type": "code",
        "colab": {
          "base_uri": "https://localhost:8080/",
          "height": 170
        },
        "outputId": "6864a295-ccb0-46cc-e0e5-04ec34d86e32"
      },
      "source": [
        "def ler_filmes_csv():\n",
        "  \"\"\"\n",
        "  Dados dos filmes lidos a partir de arquivo CSV, separado por “;” com os campos Código, Tipo, Título, Ano.\n",
        "  \"\"\"\n",
        "  # Abre arquivo filmes.csv\n",
        "  filmes = open(\"filmes.csv\", \"r\").read().split(\"\\n\")\n",
        "\n",
        "  # Cabeçalho \n",
        "  print (\"-\" * 70) \n",
        "  print (\"Código\\t\", \"Tipo\\t\\t\", \"Título\\t\\t\\t\\t\", \"Ano\") # nome das colunas\n",
        "  \n",
        "  # Percorre cada linha de filmes\n",
        "  for filme in filmes:\n",
        "    if filme != \"\":\n",
        "      codigo_filme, tipo_filme, titulo_filme, ano_filme = filme.split(\";\")\n",
        "      print(f\"{codigo_filme}\\t{tipo_filme}\\t\\t{titulo_filme}\\t{ano_filme}\")\n",
        "ler_filmes_csv()"
      ],
      "execution_count": 14,
      "outputs": [
        {
          "output_type": "stream",
          "text": [
            "----------------------------------------------------------------------\n",
            "Código\t Tipo\t\t Título\t\t\t\t Ano\n",
            "1\tFita\t\tDe volta para o futuro I\t1985\n",
            "2\tFita\t\tDe volta para o futuro II\t1989\n",
            "3\tFita\t\tDe volta para o futuro III\t1990\n",
            "4\tDVD\t\tComo treinar seu dragão 3\t2019\n",
            "5\tDVD\t\tUma aventura lego\t2019\n",
            "6\tDVD\t\tO menino que queria ser rei\t2019\n",
            "7\tDVD\t\tDumbo\t2019\n"
          ],
          "name": "stdout"
        }
      ]
    },
    {
      "cell_type": "markdown",
      "metadata": {
        "id": "U5_8eFIga6u7",
        "colab_type": "text"
      },
      "source": [
        "**Parte 3**"
      ]
    },
    {
      "cell_type": "markdown",
      "metadata": {
        "id": "8GsCRhOQ-TPO",
        "colab_type": "text"
      },
      "source": [
        "Função para gravar novo cliente em arquivo csv - EMPRÉSTIMOS\n",
        "\n",
        "\n",
        "---\n",
        "\n",
        "\n"
      ]
    },
    {
      "cell_type": "code",
      "metadata": {
        "id": "0SXR4vSE__uW",
        "colab_type": "code",
        "colab": {}
      },
      "source": [
        "def gravar_emprestimos_csv(codigo,nome,data_emprestimo):\n",
        "  \"\"\"\n",
        "  Dados dos empréstimos realizados em arquivo CSV, separado por “;” com os campos Usuário, Código, Data.\n",
        "  \"\"\"\n",
        "  csv = open(\"emprestimos.csv\",\"a\")\n",
        "  csv.write(f\"{codigo};{nome};{data_emprestimo}\\r\")\n",
        "  csv.close()\n",
        "  print(\"Observação registrada em arquivo csv\")"
      ],
      "execution_count": 15,
      "outputs": []
    },
    {
      "cell_type": "markdown",
      "metadata": {
        "id": "p5BilFoxdUhH",
        "colab_type": "text"
      },
      "source": [
        "Estrutura de repetição para formulário de entrada de dados - EMPRÉSTIMOS\n",
        "\n",
        "\n",
        "---\n",
        "\n"
      ]
    },
    {
      "cell_type": "code",
      "metadata": {
        "id": "X2hllift-vDR",
        "colab_type": "code",
        "colab": {
          "base_uri": "https://localhost:8080/",
          "height": 408
        },
        "outputId": "f6456595-bb8e-4e44-8fe4-bc8a6c89c1ef"
      },
      "source": [
        "# Flag para indicar inserção de empréstimos\n",
        "emprestimos_novos = True\n",
        "while emprestimos_novos:\n",
        "  # Solicitar entrada para nome, codigo e data\n",
        "  nome = input(\"Nome: \")\n",
        "  codigo = input(\"Código: \")\n",
        "  data = input(\"Data: \")\n",
        "\n",
        "  # Armazenar dados em dicionário\n",
        "  emprestimos_dic = {} \n",
        "  emprestimos_dic[codigo] = [nome,data]\n",
        "\n",
        "  # Chama função para gravação de arquivo csv\n",
        "  gravar_emprestimos_csv(codigo,nome,data)\n",
        "\n",
        "  # Perguntar ao usuário se deseja realizar outro empréstimo\n",
        "  print(\"Digite 'sim' ou 'nao'\")\n",
        "  repetir = input(\"\\n\\nVocê deseja realizar outro empréstimo? \")\n",
        "  if repetir == 'nao':\n",
        "    emprestimos_novos = False\n",
        "\n",
        "    print(\"Rotina encerrada\")\n",
        "\n",
        "  # Finalizar e imprimir comprovante empréstimo\n",
        "  print (\"-\" * 70) # cabeçalho\n",
        "  print(\"EMPRÉSTIMO REALIZADO COM SUCESSO\\n\")"
      ],
      "execution_count": 16,
      "outputs": [
        {
          "output_type": "stream",
          "text": [
            "Nome: Rolando C. R.\n",
            "Código: 2\n",
            "Data: 20/03/2020\n",
            "Observação registrada em arquivo csv\n",
            "Digite 'sim' ou 'nao'\n",
            "\n",
            "\n",
            "Você deseja realizar outro empréstimo? sim\n",
            "----------------------------------------------------------------------\n",
            "EMPRÉSTIMO REALIZADO COM SUCESSO\n",
            "\n",
            "Nome: Francisco B. S.\n",
            "Código: 4\n",
            "Data: 18/08/2020\n",
            "Observação registrada em arquivo csv\n",
            "Digite 'sim' ou 'nao'\n",
            "\n",
            "\n",
            "Você deseja realizar outro empréstimo? nao\n",
            "Rotina encerrada\n",
            "----------------------------------------------------------------------\n",
            "EMPRÉSTIMO REALIZADO COM SUCESSO\n",
            "\n"
          ],
          "name": "stdout"
        }
      ]
    },
    {
      "cell_type": "code",
      "metadata": {
        "id": "3-OJeJfqJgle",
        "colab_type": "code",
        "colab": {
          "base_uri": "https://localhost:8080/",
          "height": 85
        },
        "outputId": "439db086-bac9-458c-d5f1-ba176585fd40"
      },
      "source": [
        "def ler_emprestimos_csv():\n",
        "  \"\"\"\n",
        "  Dados dos emprestimos lidos a partir de arquivo CSV, separado por “;” com os campos Código, nome e Data.\n",
        "  \"\"\"\n",
        "  # Abre arquivo emprestimos.csv\n",
        "  emprestimos = open(\"emprestimos.csv\", \"r\").read().split(\"\\n\")\n",
        "\n",
        "  # Cabeçalho\n",
        "  print (\"-\" * 70) \n",
        "  print (\"Código\\t\\t\",\"Nome\\t\\t\\t\", \"Data\") # nome das colunas\n",
        "  \n",
        "  # Percorre cada linha de clientes\n",
        "  for emprestimo in emprestimos:\n",
        "    if emprestimo != \"\":\n",
        "      codigo_emprestimo, nome_emprestimo, data_emprestimo = emprestimo.split(\";\")\n",
        "      print(f\"{codigo_emprestimo}\\t\\t{nome_emprestimo}\\t\\t{data_emprestimo}\")\n",
        "\n",
        "ler_emprestimos_csv()"
      ],
      "execution_count": 18,
      "outputs": [
        {
          "output_type": "stream",
          "text": [
            "----------------------------------------------------------------------\n",
            "Código\t\t Nome\t\t\t Data\n",
            "2\t\tRolando C. R.\t\t20/03/2020\n",
            "4\t\tFrancisco B. S.\t\t18/08/2020\n"
          ],
          "name": "stdout"
        }
      ]
    },
    {
      "cell_type": "markdown",
      "metadata": {
        "id": "f0lfyRn_AqHq",
        "colab_type": "text"
      },
      "source": [
        "**Parte 4**"
      ]
    },
    {
      "cell_type": "markdown",
      "metadata": {
        "id": "n_fj4BnQe5iO",
        "colab_type": "text"
      },
      "source": [
        "Relatório a partir de arquivo csv - EMPRÉSTIMOS\n",
        "\n",
        "\n",
        "---\n",
        "\n"
      ]
    },
    {
      "cell_type": "code",
      "metadata": {
        "id": "qjI7KiIkAwRJ",
        "colab_type": "code",
        "colab": {}
      },
      "source": [
        "# Importação de biblioteca datetime\n",
        "from datetime import datetime\n",
        "from datetime import date"
      ],
      "execution_count": 19,
      "outputs": []
    },
    {
      "cell_type": "code",
      "metadata": {
        "id": "-gaRzEimOfSI",
        "colab_type": "code",
        "colab": {}
      },
      "source": [
        "def atraso_dias(data):\n",
        "  \"\"\"\n",
        "  Função diferença de datas\n",
        "  \"\"\"\n",
        "  return(datetime.now() - data)"
      ],
      "execution_count": 20,
      "outputs": []
    },
    {
      "cell_type": "code",
      "metadata": {
        "id": "g7aVHbkw6uCU",
        "colab_type": "code",
        "colab": {
          "base_uri": "https://localhost:8080/",
          "height": 102
        },
        "outputId": "84199b34-56ef-4a7b-d8a9-6e1472ccafef"
      },
      "source": [
        "def relatorio_atrasados():\n",
        "  \"\"\"\n",
        "  Função que gera o relatório completo com a identificação de devolução atrasada\n",
        "  \"\"\"\n",
        "  \n",
        "  # abre os csvs e joga na memória para recuperar os dados oportunamente\n",
        "  clientes = open(\"clientes.csv\", \"r\").read().split(\"\\n\")\n",
        "  filmes = open(\"filmes.csv\", \"r\").read().split(\"\\n\")\n",
        "  emprestimos = open(\"emprestimos.csv\", \"r\").read().split(\"\\n\")\n",
        "\n",
        "  # cria o cabeçalho do relatório\n",
        "  print(\"-\" * 110)\n",
        "  print(\"CPF\\t\\t  Nome\\t\\t\\t  Título\\t\\t\\t  Empréstimo\\t  Situação\\t  Dias\")\n",
        "  print(\"-\" * 110)\n",
        "  \n",
        "  \n",
        "  # Percorre cada linha do cadastro e empréstimos\n",
        "  for emprestimo in emprestimos:\n",
        "    # Veririca linha vazia\n",
        "    if emprestimo != \"\":\n",
        "\n",
        "      # Criação de variáveis a partir da linha\n",
        "      emp_codigo, emp_nome, emp_data = emprestimo.split(\";\")\n",
        "\n",
        "      # Tratamento data\n",
        "      data = datetime.strptime(emp_data, '%d/%m/%Y')\n",
        "      situacao = \"\"\n",
        "\n",
        "      # Verificação de atraso\n",
        "      if atraso_dias(data).days > 7:\n",
        "        situacao = \"Atrasado\"\n",
        "      else:\n",
        "        situacao = \"Em dia\"\n",
        "      \n",
        "      cpf_cliente = \"\"\n",
        "      titulo_emprestimo = \"\"\n",
        "      \n",
        "      # Percorre lista de clientes em busca do cpf\n",
        "      for cliente in clientes:\n",
        "        if cliente != \"\":\n",
        "          cliente_cpf, cliente_nome, cliente_rg = cliente.split(\";\")\n",
        "          if cliente_nome == emp_nome:\n",
        "            cpf_cliente = cliente_cpf\n",
        "\n",
        "      # Percorre lista de filmes em busca do título\n",
        "      for filme in filmes:\n",
        "        if filme != \"\":\n",
        "          filme_codigo, filme_tipo, filme_titulo, filme_ano = filme.split(\";\")\n",
        "          if filme_codigo == emp_codigo:\n",
        "            titulo_emprestimo = filme_titulo\n",
        "\n",
        "      # Imprime linha formatada\n",
        "\n",
        "      print(f\"{cpf_cliente}\\t| {emp_nome} \\t| {titulo_emprestimo} \\t| {emp_data} \\t| {situacao} \\t| {atraso_dias(data).days}\")\n",
        "  \n",
        "\n",
        "relatorio_atrasados()"
      ],
      "execution_count": 50,
      "outputs": [
        {
          "output_type": "stream",
          "text": [
            "--------------------------------------------------------------------------------------------------------------\n",
            "CPF\t\t  Nome\t\t\t  Título\t\t\t  Empréstimo\t  Situação\t  Dias\n",
            "--------------------------------------------------------------------------------------------------------------\n",
            "12345678911\t| Rolando C. R. \t| De volta para o futuro II \t| 20/03/2020 \t| Atrasado \t| 154\n",
            "12345678955\t| Francisco B. S. \t| Como treinar seu dragão 3 \t| 18/08/2020 \t| Em dia \t| 3\n"
          ],
          "name": "stdout"
        }
      ]
    },
    {
      "cell_type": "markdown",
      "metadata": {
        "id": "yVF_IrG-NJvn",
        "colab_type": "text"
      },
      "source": [
        "Funções extras\n",
        "\n",
        "---\n",
        "\n",
        "\n"
      ]
    },
    {
      "cell_type": "code",
      "metadata": {
        "id": "mIsOntZ0KZ3E",
        "colab_type": "code",
        "colab": {}
      },
      "source": [
        "### Exclusão de clientes\n",
        "\n",
        "def cliente_exclusao():\n",
        "  cpf=int(input(\"Digite o CPF do cliente: \"))\n",
        "  if cpf in clientes.keys():\n",
        "    del clientes[cpf]\n",
        "    print(\"Cliente excluído\")\n",
        "  else:\n",
        "    print(\"Cliente não encontrado com o CPF informado\")\n",
        "\n",
        "cliente_exclusao()"
      ],
      "execution_count": null,
      "outputs": []
    },
    {
      "cell_type": "markdown",
      "metadata": {
        "id": "N6j5diRRMKgM",
        "colab_type": "text"
      },
      "source": [
        "Função para listar clientes e salvar arquivo csv"
      ]
    }
  ]
}