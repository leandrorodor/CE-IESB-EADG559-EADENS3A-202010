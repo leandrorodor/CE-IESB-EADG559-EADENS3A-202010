{
  "nbformat": 4,
  "nbformat_minor": 0,
  "metadata": {
    "colab": {
      "name": "Untitled3.ipynb",
      "provenance": [],
      "authorship_tag": "ABX9TyOKENNR8bYzo1HT5BaSmggc",
      "include_colab_link": true
    },
    "kernelspec": {
      "name": "python3",
      "display_name": "Python 3"
    }
  },
  "cells": [
    {
      "cell_type": "markdown",
      "metadata": {
        "id": "view-in-github",
        "colab_type": "text"
      },
      "source": [
        "<a href=\"https://colab.research.google.com/github/leandrorodor/GR-IESB-EADG559-EADENS3A-202010/blob/master/atividade_ativa.ipynb\" target=\"_parent\"><img src=\"https://colab.research.google.com/assets/colab-badge.svg\" alt=\"Open In Colab\"/></a>"
      ]
    },
    {
      "cell_type": "markdown",
      "metadata": {
        "id": "HreNcVf-EswN",
        "colab_type": "text"
      },
      "source": [
        "Cadastro de clientes\n",
        "\n",
        "---\n",
        "\n"
      ]
    },
    {
      "cell_type": "code",
      "metadata": {
        "id": "gIJkp7G2Eels",
        "colab_type": "code",
        "colab": {
          "base_uri": "https://localhost:8080/",
          "height": 85
        },
        "outputId": "fc51783b-8635-440b-e38b-99ef6a8b166d"
      },
      "source": [
        "nome=str(input(\"Nome do cliente: \"))\n",
        "rg=int(input(\"RG: \"))\n",
        "cpf=int(input(\"CPF: \"))\n",
        "#print(\"Nome do cliente: {}\\nRG: {} \\nCPF: {}\".format(nome, rg, cpf))\n",
        "\n",
        "print(\"Cadastro concluído\")"
      ],
      "execution_count": 16,
      "outputs": [
        {
          "output_type": "stream",
          "text": [
            "Nome do cliente: Leandro\n",
            "RG: 123\n",
            "CPF: 321\n",
            "Cadastro concluído\n"
          ],
          "name": "stdout"
        }
      ]
    },
    {
      "cell_type": "markdown",
      "metadata": {
        "id": "3a1wrOgVI8In",
        "colab_type": "text"
      },
      "source": [
        "Função para cadastro inclusão de clientes\n",
        "\n",
        "---\n",
        "\n"
      ]
    },
    {
      "cell_type": "code",
      "metadata": {
        "id": "2Uz8G4kUJAgW",
        "colab_type": "code",
        "colab": {}
      },
      "source": [
        "def cliente_novo():\n",
        "  nome=str(input(\"Nome do cliente: \"))\n",
        "  rg=int(input(\"RG: \"))\n",
        "  cpf=int(input(\"CPF: \"))\n",
        "  if cpf in clientes.keys():\n",
        "    print(\"CPF já cadastrado\")\n",
        "  else:\n",
        "    clientes[cpf]=[nome,rg]\n",
        "    print(\"Cadastro concluído\") "
      ],
      "execution_count": 25,
      "outputs": []
    },
    {
      "cell_type": "code",
      "metadata": {
        "id": "qE5CClabJ7-R",
        "colab_type": "code",
        "colab": {
          "base_uri": "https://localhost:8080/",
          "height": 85
        },
        "outputId": "c3025d4b-f3b2-45d9-d272-00eb7a6bd0a5"
      },
      "source": [
        "cliente_novo()"
      ],
      "execution_count": 43,
      "outputs": [
        {
          "output_type": "stream",
          "text": [
            "Nome do cliente: Leandro\n",
            "RG: 123\n",
            "CPF: 321\n",
            "Cadastro concluído\n"
          ],
          "name": "stdout"
        }
      ]
    },
    {
      "cell_type": "markdown",
      "metadata": {
        "id": "yVF_IrG-NJvn",
        "colab_type": "text"
      },
      "source": [
        "Função para exclusão de cliente\n",
        "\n",
        "---\n",
        "\n",
        "\n"
      ]
    },
    {
      "cell_type": "code",
      "metadata": {
        "id": "mIsOntZ0KZ3E",
        "colab_type": "code",
        "colab": {}
      },
      "source": [
        "def cliente_exclusao():\n",
        "  cpf=int(input(\"Digite o CPF do cliente: \"))\n",
        "  if cpf in clientes.keys():\n",
        "    del clientes[cpf]\n",
        "    print(\"Cliente excluído\")\n",
        "  else:\n",
        "    print(\"Cliente não encontrado com o CPF informado\")"
      ],
      "execution_count": 32,
      "outputs": []
    },
    {
      "cell_type": "code",
      "metadata": {
        "id": "XaqBOYzmMEND",
        "colab_type": "code",
        "colab": {
          "base_uri": "https://localhost:8080/",
          "height": 51
        },
        "outputId": "bead52ce-3109-49e1-a228-9a522150a221"
      },
      "source": [
        "cliente_exclusao()"
      ],
      "execution_count": 41,
      "outputs": [
        {
          "output_type": "stream",
          "text": [
            "Digite o CPF do cliente: 321\n",
            "Cliente não encontrado com o CPF informado\n"
          ],
          "name": "stdout"
        }
      ]
    },
    {
      "cell_type": "markdown",
      "metadata": {
        "id": "N6j5diRRMKgM",
        "colab_type": "text"
      },
      "source": [
        "Função para listar clientes e salvar arquivo csv"
      ]
    },
    {
      "cell_type": "code",
      "metadata": {
        "id": "8xj6zMwYMV_s",
        "colab_type": "code",
        "colab": {}
      },
      "source": [
        "def cliente_relatorio():\n",
        "    print(\"Clientes cadastrados:\")\n",
        "    for item, amount in clientes.items():  # dct.iteritems() in Python 2\n",
        "        print(\"{} ({})\".format(item, amount))\n",
        "        #print(\"Nome do cliente: {}\\nRG: {} \\nCPF: {}\".format(nome, rg, cpf))\n",
        "    arquivo_csv = open(\"clientes.csv\", \"a+\")\n",
        "    arquivo_csv.write(f'{clientes[cpf][0]}')\n",
        "    arquivo_csv.close()"
      ],
      "execution_count": 47,
      "outputs": []
    },
    {
      "cell_type": "code",
      "metadata": {
        "id": "N1zZijOwJ-Au",
        "colab_type": "code",
        "colab": {
          "base_uri": "https://localhost:8080/",
          "height": 68
        },
        "outputId": "388c9817-17e8-44d3-aad5-bc38094775e6"
      },
      "source": [
        "cliente_relatorio()"
      ],
      "execution_count": 44,
      "outputs": [
        {
          "output_type": "stream",
          "text": [
            "Clientes cadastrados:\n",
            "123 (['Ana', 321])\n",
            "321 (['Leandro', 123])\n"
          ],
          "name": "stdout"
        }
      ]
    },
    {
      "cell_type": "markdown",
      "metadata": {
        "id": "5LaYeMGzQlgx",
        "colab_type": "text"
      },
      "source": [
        "# Nova seção"
      ]
    },
    {
      "cell_type": "code",
      "metadata": {
        "id": "vVpdJPAwQ3Uk",
        "colab_type": "code",
        "colab": {}
      },
      "source": [
        "from google.colab import drive\n",
        "drive.mount('/content/drive')"
      ],
      "execution_count": null,
      "outputs": []
    },
    {
      "cell_type": "markdown",
      "metadata": {
        "id": "HSaWYWI4F77K",
        "colab_type": "text"
      },
      "source": [
        "### Criação de dicionário a partir das variáveis de cadastro de clientes"
      ]
    },
    {
      "cell_type": "code",
      "metadata": {
        "id": "wyD281QjIyGb",
        "colab_type": "code",
        "colab": {}
      },
      "source": [
        ""
      ],
      "execution_count": null,
      "outputs": []
    }
  ]
}