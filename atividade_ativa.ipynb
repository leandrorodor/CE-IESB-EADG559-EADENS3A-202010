{
  "nbformat": 4,
  "nbformat_minor": 0,
  "metadata": {
    "colab": {
      "name": "Untitled3.ipynb",
      "provenance": [],
      "collapsed_sections": [],
      "authorship_tag": "ABX9TyPqVRZ4nO+CjXay2c2wRsrm",
      "include_colab_link": true
    },
    "kernelspec": {
      "name": "python3",
      "display_name": "Python 3"
    }
  },
  "cells": [
    {
      "cell_type": "markdown",
      "metadata": {
        "id": "view-in-github",
        "colab_type": "text"
      },
      "source": [
        "<a href=\"https://colab.research.google.com/github/leandrorodor/GR-IESB-EADG559-EADENS3A-202010/blob/master/atividade_ativa.ipynb\" target=\"_parent\"><img src=\"https://colab.research.google.com/assets/colab-badge.svg\" alt=\"Open In Colab\"/></a>"
      ]
    },
    {
      "cell_type": "markdown",
      "metadata": {
        "id": "3a1wrOgVI8In",
        "colab_type": "text"
      },
      "source": [
        "Função para cadastro de cliente\n",
        "\n",
        "---\n",
        "\n"
      ]
    },
    {
      "cell_type": "code",
      "metadata": {
        "id": "2Uz8G4kUJAgW",
        "colab_type": "code",
        "colab": {}
      },
      "source": [
        "def cliente_novo():\n",
        "  nome=str(input(\"Nome do cliente: \"))\n",
        "  rg=int(input(\"RG: \"))\n",
        "  cpf=int(input(\"CPF: \"))\n",
        "  if cpf in clientes.keys():\n",
        "    print(\"CPF já cadastrado\")\n",
        "  else:\n",
        "    clientes[cpf]=[nome,rg]\n",
        "    print(\"\\nCadastro concluído\") "
      ],
      "execution_count": 61,
      "outputs": []
    },
    {
      "cell_type": "code",
      "metadata": {
        "id": "qE5CClabJ7-R",
        "colab_type": "code",
        "colab": {
          "base_uri": "https://localhost:8080/",
          "height": 102
        },
        "outputId": "7dc7c302-2792-4a6c-b193-41464080f748"
      },
      "source": [
        "cliente_novo()"
      ],
      "execution_count": 64,
      "outputs": [
        {
          "output_type": "stream",
          "text": [
            "Nome do cliente: Rolando Caio da Rocha III\n",
            "RG: 123345\n",
            "CPF: 12345678933\n",
            "\n",
            "Cadastro concluído\n"
          ],
          "name": "stdout"
        }
      ]
    },
    {
      "cell_type": "markdown",
      "metadata": {
        "id": "yVF_IrG-NJvn",
        "colab_type": "text"
      },
      "source": [
        "Função para exclusão de cliente\n",
        "\n",
        "---\n",
        "\n",
        "\n"
      ]
    },
    {
      "cell_type": "code",
      "metadata": {
        "id": "mIsOntZ0KZ3E",
        "colab_type": "code",
        "colab": {}
      },
      "source": [
        "def cliente_exclusao():\n",
        "  cpf=int(input(\"Digite o CPF do cliente: \"))\n",
        "  if cpf in clientes.keys():\n",
        "    del clientes[cpf]\n",
        "    print(\"Cliente excluído\")\n",
        "  else:\n",
        "    print(\"Cliente não encontrado com o CPF informado\")"
      ],
      "execution_count": 32,
      "outputs": []
    },
    {
      "cell_type": "code",
      "metadata": {
        "id": "XaqBOYzmMEND",
        "colab_type": "code",
        "colab": {
          "base_uri": "https://localhost:8080/",
          "height": 51
        },
        "outputId": "8e9c4887-1739-4f53-9058-fd1767255b3a"
      },
      "source": [
        "cliente_exclusao()"
      ],
      "execution_count": 56,
      "outputs": [
        {
          "output_type": "stream",
          "text": [
            "Digite o CPF do cliente: 123\n",
            "Cliente excluído\n"
          ],
          "name": "stdout"
        }
      ]
    },
    {
      "cell_type": "markdown",
      "metadata": {
        "id": "N6j5diRRMKgM",
        "colab_type": "text"
      },
      "source": [
        "Função para listar clientes e salvar arquivo csv"
      ]
    },
    {
      "cell_type": "code",
      "metadata": {
        "id": "8xj6zMwYMV_s",
        "colab_type": "code",
        "colab": {}
      },
      "source": [
        "def cliente_relatorio():\n",
        "    print(\"Clientes cadastrados:\")\n",
        "    for item, amount in clientes.items():  # dct.iteritems() in Python 2\n",
        "        print(\"{} ({})\".format(item, amount))\n",
        "        #print(\"Nome do cliente: {}\\nRG: {} \\nCPF: {}\".format(nome, rg, cpf))\n"
      ],
      "execution_count": 52,
      "outputs": []
    },
    {
      "cell_type": "code",
      "metadata": {
        "id": "N1zZijOwJ-Au",
        "colab_type": "code",
        "colab": {}
      },
      "source": [
        "import csv\n",
        "with open('clientes.csv', 'w') as f:\n",
        "    for key in clientes.keys():\n",
        "        f.write(\"%s,%s\\n\"%(key,clientes[key]))"
      ],
      "execution_count": 65,
      "outputs": []
    },
    {
      "cell_type": "code",
      "metadata": {
        "id": "wyD281QjIyGb",
        "colab_type": "code",
        "colab": {
          "base_uri": "https://localhost:8080/",
          "height": 34
        },
        "outputId": "a59a4cdf-3e77-48ed-d351-a0c94c8571b9"
      },
      "source": [
        "clientes"
      ],
      "execution_count": 57,
      "outputs": [
        {
          "output_type": "execute_result",
          "data": {
            "text/plain": [
              "{}"
            ]
          },
          "metadata": {
            "tags": []
          },
          "execution_count": 57
        }
      ]
    }
  ]
}