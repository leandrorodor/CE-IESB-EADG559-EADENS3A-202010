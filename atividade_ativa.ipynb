{
  "nbformat": 4,
  "nbformat_minor": 0,
  "metadata": {
    "colab": {
      "name": "Untitled3.ipynb",
      "provenance": [],
      "collapsed_sections": [],
      "authorship_tag": "ABX9TyPa/2fQPS2G+3WyVTrsLyBi",
      "include_colab_link": true
    },
    "kernelspec": {
      "name": "python3",
      "display_name": "Python 3"
    }
  },
  "cells": [
    {
      "cell_type": "markdown",
      "metadata": {
        "id": "view-in-github",
        "colab_type": "text"
      },
      "source": [
        "<a href=\"https://colab.research.google.com/github/leandrorodor/GR-IESB-EADG559-EADENS3A-202010/blob/master/atividade_ativa.ipynb\" target=\"_parent\"><img src=\"https://colab.research.google.com/assets/colab-badge.svg\" alt=\"Open In Colab\"/></a>"
      ]
    },
    {
      "cell_type": "code",
      "metadata": {
        "id": "sLr8E28n6BrS",
        "colab_type": "code",
        "colab": {}
      },
      "source": [
        "### 20/08/2020\n",
        "### Leandro Rodor de Oliveira"
      ],
      "execution_count": null,
      "outputs": []
    },
    {
      "cell_type": "code",
      "metadata": {
        "id": "T1exm4zU6jtf",
        "colab_type": "code",
        "colab": {}
      },
      "source": [
        "from datetime import datetime"
      ],
      "execution_count": 57,
      "outputs": []
    },
    {
      "cell_type": "markdown",
      "metadata": {
        "id": "f6S4VBYfaImO",
        "colab_type": "text"
      },
      "source": [
        "**Parte 1**"
      ]
    },
    {
      "cell_type": "markdown",
      "metadata": {
        "id": "3a1wrOgVI8In",
        "colab_type": "text"
      },
      "source": [
        "Função para gravar novo cliente em arquivo csv - CLIENTES\n",
        "\n",
        "\n",
        "---\n",
        "\n"
      ]
    },
    {
      "cell_type": "code",
      "metadata": {
        "id": "DpHiRiIzEhOq",
        "colab_type": "code",
        "colab": {}
      },
      "source": [
        "def gravar_clientes_csv(cpf, nome, rg):\n",
        "  \"\"\"\n",
        "  Função para gracação dos dados de clientes arquivo CSV, separado por “;” com os campos CPF, Nome e RG.\n",
        "  \"\"\"\n",
        "  csv = open(\"clientes.csv\",\"a\")\n",
        "  csv.write(f\"{cpf};{nome};{rg}\\n\")\n",
        "  csv.close()\n",
        "  print(\"Observação registrada em arquivo csv\")"
      ],
      "execution_count": 36,
      "outputs": []
    },
    {
      "cell_type": "markdown",
      "metadata": {
        "id": "xRqjQT4FY3BH",
        "colab_type": "text"
      },
      "source": [
        "Estrutura de repetição para formulário de entrada de dados - CLIENTES\n",
        "\n",
        "\n",
        "---\n",
        "\n"
      ]
    },
    {
      "cell_type": "code",
      "metadata": {
        "id": "ZKUWCZp96WdS",
        "colab_type": "code",
        "colab": {}
      },
      "source": [
        "# Flag para indicar inserção de novos clientes\n",
        "clientes_novos = True\n",
        "while clientes_novos:\n",
        "\n",
        "  # Solicitar entrada para cpf, nome e rg\n",
        "  cpf = input(\"CPF do cliente: \")\n",
        "  nome = input(\"Nome do cliente: \")\n",
        "  rg = input(\"RG do cliente: \")\n",
        "  \n",
        "  # Armazenar dados em dicionário\n",
        "  clientes_dic = {}\n",
        "  clientes_dic[cpf] = [nome,rg]\n",
        "\n",
        "  # Chama função para gravação de arquivo csv\n",
        "  gravar_clientes_csv(cpf, nome, rg)\n",
        "\n",
        "  # Perguntar ao usuário se deseja inserir novo cliente\n",
        "  print(\"\\nDigite 'sim' ou 'nao'\\n\")\n",
        "  repetir = input(\"\\n\\nVocê deseja incluir novo cliente? \\n\")\n",
        "  if repetir == 'nao':\n",
        "    clientes_novos = False\n",
        "\n",
        "  # Finalizar e imprimir comprovante de cadastro de cliente\n",
        "  print (\"-\" * 70) # cabeçalho\n",
        "  print(\"CLIENTE CADASTRADO COM SUCESSO\\n\")\n"
      ],
      "execution_count": null,
      "outputs": []
    },
    {
      "cell_type": "markdown",
      "metadata": {
        "id": "eOhlIjGmYO8K",
        "colab_type": "text"
      },
      "source": [
        "Função para gerar relatório de clientes a partir de arquivo csv - CLIENTES\n",
        "\n",
        "\n",
        "---\n",
        "\n"
      ]
    },
    {
      "cell_type": "code",
      "metadata": {
        "id": "3bXfQ9Lz2L-s",
        "colab_type": "code",
        "colab": {}
      },
      "source": [
        "def ler_clientes_csv():\n",
        "  \"\"\"\n",
        "  Dados dos clientes lidos a partir de arquivo CSV, separado por “;” com os campos Nome, RG, CPF.\n",
        "  \"\"\"\n",
        "  # Abre arquivo clientes.csv\n",
        "  clientes = open(\"clientes.csv\", \"r\").read().split(\"\\n\")\n",
        "\n",
        "  #  Cabeçalho \n",
        "  print (\"-\" * 70) \n",
        "  print (\"CPF\\t\\t\", \"NOME\\t\\t\\t\\t\", \"RG\") # nome das colunas\n",
        "  \n",
        "  \n",
        "  for cliente in clientes:\n",
        "    if cliente != \"\":\n",
        "      cpf_cliente, nome_cliente, rg_cliente = cliente.split(\";\")\n",
        "      print(f\"{cpf_cliente}\\t{nome_cliente}\\t\\t{rg_cliente}\")"
      ],
      "execution_count": 108,
      "outputs": []
    },
    {
      "cell_type": "code",
      "metadata": {
        "id": "lmwnQnFE2Z2b",
        "colab_type": "code",
        "colab": {
          "base_uri": "https://localhost:8080/",
          "height": 119
        },
        "outputId": "e5b068ef-7ac7-4c18-f43d-9ba44551085e"
      },
      "source": [
        "ler_clientes_csv()"
      ],
      "execution_count": 109,
      "outputs": [
        {
          "output_type": "stream",
          "text": [
            "----------------------------------------------------------------------\n",
            "CPF\t\t NOME\t\t\t\t RG\n",
            "65933079120\tRolando Caio da Rocha\t\t123456\n",
            "12345678922\tJoão Sem Braço\t\t123789\n",
            "12345678933\tJosé Baixinho\t\t963852\n",
            "12345678944\tJoão Ninguém\t\t987357\n"
          ],
          "name": "stdout"
        }
      ]
    },
    {
      "cell_type": "markdown",
      "metadata": {
        "id": "C2HR74TdbVga",
        "colab_type": "text"
      },
      "source": [
        "**Parte 2**"
      ]
    },
    {
      "cell_type": "markdown",
      "metadata": {
        "id": "GT0pdzcH4gN4",
        "colab_type": "text"
      },
      "source": [
        "Função para gravar novo cliente em arquivo csv - FILMES\n",
        "\n",
        "\n",
        "---\n",
        "\n"
      ]
    },
    {
      "cell_type": "code",
      "metadata": {
        "id": "iZm_NSLD45yd",
        "colab_type": "code",
        "colab": {}
      },
      "source": [
        "def gravar_filmes_csv(codigo, tipo, tituto, ano):\n",
        "  \"\"\"\n",
        "  Dados dos filmes gravados em arquivo CSV, separado por “;” com os campos Código, Tipo, Título, Ano.\n",
        "  \"\"\"\n",
        "  csv = open(\"filmes.csv\",\"a\")\n",
        "  csv.write(f\"{codigo};{tipo};{titulo};{ano}\\r\")\n",
        "  csv.close()\n",
        "  print(\"Observação registrada em arquivo csv\")"
      ],
      "execution_count": 91,
      "outputs": []
    },
    {
      "cell_type": "markdown",
      "metadata": {
        "id": "oS4txOGIbj4k",
        "colab_type": "text"
      },
      "source": [
        "Estrutura de repetição para formulário de entrada de dados - FILMES\n",
        "\n",
        "\n",
        "---\n",
        "\n"
      ]
    },
    {
      "cell_type": "code",
      "metadata": {
        "id": "PnTjcMLn41sf",
        "colab_type": "code",
        "colab": {
          "base_uri": "https://localhost:8080/",
          "height": 238
        },
        "outputId": "c8128166-8cb3-4202-be88-0736ad547a9c"
      },
      "source": [
        "# Flag para indicar inserção de novos filmes\n",
        "filmes_novos = True\n",
        "while filmes_novos:\n",
        "  # Solicitar entrada para tipo, titulo e ano\n",
        "  # O código será fornecido automaticamente\n",
        "  \n",
        "  codigo = input(\"Código: \")\n",
        "  tipo = input(\"Tipo (Fita/DVD): \")\n",
        "  titulo = input(\"Título: \")\n",
        "  ano = input(\"Ano: \")\n",
        "\n",
        "  # Armazenar dados em dicionário\n",
        "  filmes_dic = {} \n",
        "  filmes_dic[codigo] = [tipo,titulo,ano]\n",
        "\n",
        "  # Chama função para gravação de arquivo csv\n",
        "  gravar_filmes_csv(codigo, tipo, titulo, ano)\n",
        "\n",
        "  # Perguntar ao usuário se deseja inserir novo filme\n",
        "  print(\"Digite 'sim' ou 'nao'\")\n",
        "  repetir = input(\"\\n\\nVocê deseja incluir novo filme? \")\n",
        "  if repetir == 'nao':\n",
        "    filmes_novos = False\n",
        "\n",
        "    print(\"Rotina encerrada\")\n",
        "\n",
        "  # Finalizar e imprimir comprovante de cadastro de cliente\n",
        "  print (\"-\" * 70) # cabeçalho\n",
        "  print(\"FILME CADASTRADO COM SUCESSO\\n\")"
      ],
      "execution_count": 100,
      "outputs": [
        {
          "output_type": "stream",
          "text": [
            "Código: 2\n",
            "Tipo (Fita/DVD): DVD\n",
            "Título: Terminator\n",
            "Ano: 1984\n",
            "Observação registrada em arquivo csv\n",
            "Digite 'sim' ou 'nao'\n",
            "\n",
            "\n",
            "Você deseja incluir novo filme? nao\n",
            "Rotina encerrada\n",
            "----------------------------------------------------------------------\n",
            "FILME CADASTRADO COM SUCESSO\n",
            "\n"
          ],
          "name": "stdout"
        }
      ]
    },
    {
      "cell_type": "markdown",
      "metadata": {
        "id": "EhqJUzu4YliB",
        "colab_type": "text"
      },
      "source": [
        "Função para gerar relatório a partir de arquivo csv - FILMES\n",
        "\n",
        "\n",
        "---\n",
        "\n"
      ]
    },
    {
      "cell_type": "code",
      "metadata": {
        "id": "awfWJBeb7N6F",
        "colab_type": "code",
        "colab": {}
      },
      "source": [
        "def ler_filmes_csv():\n",
        "  \"\"\"\n",
        "  Dados dos filmes lidos a partir de arquivo CSV, separado por “;” com os campos Código, Tipo, Título, Ano.\n",
        "  \"\"\"\n",
        "  # Abre arquivo filmes.csv\n",
        "  filmes = open(\"filmes.csv\", \"r\").read().split(\"\\n\")\n",
        "\n",
        "  #  Cabeçalho \n",
        "  print (\"-\" * 70) \n",
        "  print (\"Código\\t\\t\", \"Tipo\\t\\t\", \"Título\\t\\t\\t\\t\", \"Ano\") # nome das colunas\n",
        "  \n",
        "  \n",
        "  for filme in filmes:\n",
        "    if filme != \"\":\n",
        "      codigo_filme, tipo_filme, titulo_filme, ano_filme = filme.split(\";\")\n",
        "      print(f\"{codigo_filme}\\t{tipo_filme}\\t\\t{titulo_filme}\\t\\t{ano_filme}\")        "
      ],
      "execution_count": 114,
      "outputs": []
    },
    {
      "cell_type": "code",
      "metadata": {
        "id": "dsMcOJ9J8FI4",
        "colab_type": "code",
        "colab": {
          "base_uri": "https://localhost:8080/",
          "height": 119
        },
        "outputId": "1e3b151e-12e1-457c-921d-b6e800572df2"
      },
      "source": [
        "ler_filmes_csv()"
      ],
      "execution_count": 115,
      "outputs": [
        {
          "output_type": "stream",
          "text": [
            "----------------------------------------------------------------------\n",
            "Código\t\t Tipo\t\t Título\t\t\t\t Ano\n",
            "1\tFita\t\tDe volta para o futuro I\t\t1985\n",
            "1\tFita\t\tDevolta para o furuto II\t\t1989\n",
            "1\tFita\t\tDevolta para o furuto III\t\t1990\n",
            "2\tDVD\t\tTerminator\t\t1984\n"
          ],
          "name": "stdout"
        }
      ]
    },
    {
      "cell_type": "markdown",
      "metadata": {
        "id": "U5_8eFIga6u7",
        "colab_type": "text"
      },
      "source": [
        "**Parte 3**"
      ]
    },
    {
      "cell_type": "markdown",
      "metadata": {
        "id": "8GsCRhOQ-TPO",
        "colab_type": "text"
      },
      "source": [
        "Função para gravar novo cliente em arquivo csv - EMPRÉSTIMOS\n",
        "\n",
        "\n",
        "---\n",
        "\n",
        "\n"
      ]
    },
    {
      "cell_type": "code",
      "metadata": {
        "id": "0SXR4vSE__uW",
        "colab_type": "code",
        "colab": {}
      },
      "source": [
        "def gravar_emprestimos_csv(codigo,nome,data_emprestimo):\n",
        "  \"\"\"\n",
        "  Dados dos empréstimos realizados em arquivo CSV, separado por “;” com os campos Usuário, Código, Data.\n",
        "  \"\"\"\n",
        "  csv = open(\"emprestimos.csv\",\"a\")\n",
        "  csv.write(f\"{codigo};{nome};{data_emprestimo}\\r\")\n",
        "  csv.close()\n",
        "  print(\"Observação registrada em arquivo csv\")"
      ],
      "execution_count": 116,
      "outputs": []
    },
    {
      "cell_type": "markdown",
      "metadata": {
        "id": "p5BilFoxdUhH",
        "colab_type": "text"
      },
      "source": [
        "Estrutura de repetição para formulário de entrada de dados - EMPRÉSTIMOS\n",
        "\n",
        "\n",
        "---\n",
        "\n"
      ]
    },
    {
      "cell_type": "code",
      "metadata": {
        "id": "X2hllift-vDR",
        "colab_type": "code",
        "colab": {
          "base_uri": "https://localhost:8080/",
          "height": 221
        },
        "outputId": "239836e7-31e8-4412-ed3e-17427a920e63"
      },
      "source": [
        "# Flag para indicar inserção de empréstimos\n",
        "emprestimos_novos = True\n",
        "while emprestimos_novos:\n",
        "  # Solicitar entrada para nome, codigo e data\n",
        " \n",
        "  nome = input(\"Nome: \")\n",
        "  codigo = input(\"Código: \")\n",
        "  data = input(\"Data: \")\n",
        "\n",
        "  # Armazenar dados em dicionário\n",
        "  emprestimos_dic = {} \n",
        "  emprestimos_dic[codigo] = [nome,data]\n",
        "\n",
        "  # Chama função para gravação de arquivo csv\n",
        "  gravar_emprestimos_csv(codigo,nome,data)\n",
        "\n",
        "  # Perguntar ao usuário se deseja realizar outro empréstimo\n",
        "  print(\"Digite 'sim' ou 'nao'\")\n",
        "  repetir = input(\"\\n\\nVocê deseja realizar outro empréstimo? \")\n",
        "  if repetir == 'nao':\n",
        "    emprestimos_novos = False\n",
        "\n",
        "    print(\"Rotina encerrada\")\n",
        "\n",
        "  # Finalizar e imprimir comprovante empréstimo\n",
        "  print (\"-\" * 70) # cabeçalho\n",
        "  print(\"EMPRÉSTIMO REALIZADO COM SUCESSO\\n\")"
      ],
      "execution_count": 119,
      "outputs": [
        {
          "output_type": "stream",
          "text": [
            "Nome: Rolando Caio da Rocha\n",
            "Código: 1\n",
            "Data: 15/06/2020\n",
            "Observação registrada em arquivo csv\n",
            "Digite 'sim' ou 'nao'\n",
            "\n",
            "\n",
            "Você deseja realizar outro empréstimo? nao\n",
            "Rotina encerrada\n",
            "----------------------------------------------------------------------\n",
            "EMPRÉSTIMO REALIZADO COM SUCESSO\n",
            "\n"
          ],
          "name": "stdout"
        }
      ]
    },
    {
      "cell_type": "code",
      "metadata": {
        "id": "3-OJeJfqJgle",
        "colab_type": "code",
        "colab": {
          "base_uri": "https://localhost:8080/",
          "height": 68
        },
        "outputId": "35a9d2df-ed27-4e91-8065-2761dd925b5d"
      },
      "source": [
        "def ler_emprestimos_csv():\n",
        "  \"\"\"\n",
        "  Dados dos emprestimos lidos a partir de arquivo CSV, separado por “;” com os campos Código, nome e Data.\n",
        "  \"\"\"\n",
        "  # Abre arquivo emprestimos.csv\n",
        "  emprestimos = open(\"emprestimos.csv\", \"r\").read().split(\"\\n\")\n",
        "\n",
        "  #  Cabeçalho \n",
        "  print (\"-\" * 70) \n",
        "  print (\"Código\\t\\t\",\"Nome\\t\\t\\t\\t\", \"Data\") # nome das colunas\n",
        "  \n",
        "  for emprestimo in emprestimos:\n",
        "    if emprestimo != \"\":\n",
        "      codigo_emprestimo, nome_emprestimo, data_emprestimo = emprestimo.split(\";\")\n",
        "      print(f\"{codigo_emprestimo}\\t\\t{nome_emprestimo}\\t\\t{data_emprestimo}\")\n",
        "\n",
        "ler_emprestimos_csv()"
      ],
      "execution_count": 141,
      "outputs": [
        {
          "output_type": "stream",
          "text": [
            "----------------------------------------------------------------------\n",
            "Código\t\t Nome\t\t\t\t Data\n",
            "1\t\tRolando Caio da Rocha\t\t15/06/2020\n"
          ],
          "name": "stdout"
        }
      ]
    },
    {
      "cell_type": "markdown",
      "metadata": {
        "id": "f0lfyRn_AqHq",
        "colab_type": "text"
      },
      "source": [
        "**Parte 4**"
      ]
    },
    {
      "cell_type": "markdown",
      "metadata": {
        "id": "n_fj4BnQe5iO",
        "colab_type": "text"
      },
      "source": [
        "Relatório a partir de arquivo csv - EMPRÉSTIMOS\n",
        "\n",
        "\n",
        "---\n",
        "\n"
      ]
    },
    {
      "cell_type": "code",
      "metadata": {
        "id": "qjI7KiIkAwRJ",
        "colab_type": "code",
        "colab": {}
      },
      "source": [
        "# Importação de biblioteca datetime\n",
        "from datetime import datetime\n",
        "from datetime import date"
      ],
      "execution_count": null,
      "outputs": []
    },
    {
      "cell_type": "code",
      "metadata": {
        "id": "-gaRzEimOfSI",
        "colab_type": "code",
        "colab": {}
      },
      "source": [
        "def atraso_dias(data):\n",
        "  \"\"\"\n",
        "  Abstração da função de diferença de datas\n",
        "  \"\"\"\n",
        "  return(datetime.now() - data)"
      ],
      "execution_count": 143,
      "outputs": []
    },
    {
      "cell_type": "code",
      "metadata": {
        "id": "g7aVHbkw6uCU",
        "colab_type": "code",
        "colab": {
          "base_uri": "https://localhost:8080/",
          "height": 68
        },
        "outputId": "2bc18cc7-c8c4-4b64-f201-d4491e10d1e3"
      },
      "source": [
        "def relatorio_atrasados():\n",
        "  \"\"\"\n",
        "  Função que gera o relatório completo com a identificação de devolução atrasada\n",
        "  \"\"\"\n",
        "  \n",
        "  # abre os csvs e joga na memória para recuperar os dados oportunamente\n",
        "  clientes = open(\"clientes.csv\", \"r\").read().split(\"\\n\")\n",
        "  filmes = open(\"filmes.csv\", \"r\").read().split(\"\\n\")\n",
        "  emprestimos = open(\"emprestimos.csv\", \"r\").read().split(\"\\n\")\n",
        "\n",
        "  # cria o cabeçalho do relatório\n",
        "  print(\"-\" * 100)\n",
        "  print(\"CPF\\t|\\tNome\\t|\\tTítulo\\t|\\tEmpréstimo\\t|\\tSituação\\t|\\tDias\")\n",
        "  \n",
        "  \n",
        "  # percorre cada linha do cadastro e empréstimos\n",
        "  for emprestimo in emprestimos:\n",
        "    # checa se a linha não está vazia\n",
        "    if emprestimo != \"\":\n",
        "\n",
        "      # separa a linha em variáveis\n",
        "      emp_codigo, emp_nome, emp_data = emprestimo.split(\";\")\n",
        "\n",
        "      #trata o tipo data\n",
        "      data = datetime.strptime(emp_data, '%d/%m/%Y')\n",
        "      situacao = \"\"\n",
        "\n",
        "      #checa se há atraso\n",
        "      if atraso_dias(data).days > 7:\n",
        "        situacao = \"Atrasado\"\n",
        "      else:\n",
        "        situacao = \"Em dia\"\n",
        "      \n",
        "      cpf_cliente = \"\"\n",
        "      titulo_emprestimo = \"\"\n",
        "      # corre a lista de clientes em busca do cpf\n",
        "      for cliente in clientes:\n",
        "        if cliente != \"\":\n",
        "          cliente_nome, cliente_rg, cliente_cpf = cliente.split(\";\")\n",
        "          if cliente_nome == emp_nome:\n",
        "            cpf_cliente = cliente_cpf\n",
        "\n",
        "      # corre a lista de filmes em busca do título\n",
        "      for filme in filmes:\n",
        "        if filme != \"\":\n",
        "          filme_codigo, filme_tipo, filme_titulo, filme_ano = filme.split(\";\")\n",
        "          if filme_codigo == emp_codigo:\n",
        "            titulo_emprestimo = filme_titulo\n",
        "\n",
        "      # imprime a linha formatada dos dados\n",
        "\n",
        "      print(f\"{cpf_cliente} | {emp_nome} | {titulo_emprestimo} | {emp_data} | {situacao} | {atraso_dias(data).days}\")\n",
        "  \n",
        "\n",
        "relatorio_atrasados()"
      ],
      "execution_count": 160,
      "outputs": [
        {
          "output_type": "stream",
          "text": [
            "----------------------------------------------------------------------------------------------------\n",
            "CPF\t|\tNome\t|\tTítulo\t|\tEmpréstimo\t|\tSituação\t|\tDias\n",
            " | Rolando Caio da Rocha | Devolta para o furuto III | 15/06/2020 | Atrasado | 67\n"
          ],
          "name": "stdout"
        }
      ]
    },
    {
      "cell_type": "markdown",
      "metadata": {
        "id": "yVF_IrG-NJvn",
        "colab_type": "text"
      },
      "source": [
        "Funções extras\n",
        "\n",
        "---\n",
        "\n",
        "\n"
      ]
    },
    {
      "cell_type": "code",
      "metadata": {
        "id": "mIsOntZ0KZ3E",
        "colab_type": "code",
        "colab": {
          "base_uri": "https://localhost:8080/",
          "height": 561
        },
        "outputId": "5862c6ff-0aa4-43e5-a263-28d44bcae5b9"
      },
      "source": [
        "### Exclusão de clientes\n",
        "\n",
        "def cliente_exclusao():\n",
        "  cpf=int(input(\"Digite o CPF do cliente: \"))\n",
        "  if cpf in clientes.keys():\n",
        "    del clientes[cpf]\n",
        "    print(\"Cliente excluído\")\n",
        "  else:\n",
        "    print(\"Cliente não encontrado com o CPF informado\")\n",
        "\n",
        "cliente_exclusao()"
      ],
      "execution_count": 144,
      "outputs": [
        {
          "output_type": "error",
          "ename": "KeyboardInterrupt",
          "evalue": "ignored",
          "traceback": [
            "\u001b[0;31m---------------------------------------------------------------------------\u001b[0m",
            "\u001b[0;31mKeyboardInterrupt\u001b[0m                         Traceback (most recent call last)",
            "\u001b[0;32m/usr/local/lib/python3.6/dist-packages/ipykernel/kernelbase.py\u001b[0m in \u001b[0;36m_input_request\u001b[0;34m(self, prompt, ident, parent, password)\u001b[0m\n\u001b[1;32m    728\u001b[0m             \u001b[0;32mtry\u001b[0m\u001b[0;34m:\u001b[0m\u001b[0;34m\u001b[0m\u001b[0;34m\u001b[0m\u001b[0m\n\u001b[0;32m--> 729\u001b[0;31m                 \u001b[0mident\u001b[0m\u001b[0;34m,\u001b[0m \u001b[0mreply\u001b[0m \u001b[0;34m=\u001b[0m \u001b[0mself\u001b[0m\u001b[0;34m.\u001b[0m\u001b[0msession\u001b[0m\u001b[0;34m.\u001b[0m\u001b[0mrecv\u001b[0m\u001b[0;34m(\u001b[0m\u001b[0mself\u001b[0m\u001b[0;34m.\u001b[0m\u001b[0mstdin_socket\u001b[0m\u001b[0;34m,\u001b[0m \u001b[0;36m0\u001b[0m\u001b[0;34m)\u001b[0m\u001b[0;34m\u001b[0m\u001b[0;34m\u001b[0m\u001b[0m\n\u001b[0m\u001b[1;32m    730\u001b[0m             \u001b[0;32mexcept\u001b[0m \u001b[0mException\u001b[0m\u001b[0;34m:\u001b[0m\u001b[0;34m\u001b[0m\u001b[0;34m\u001b[0m\u001b[0m\n",
            "\u001b[0;32m/usr/local/lib/python3.6/dist-packages/jupyter_client/session.py\u001b[0m in \u001b[0;36mrecv\u001b[0;34m(self, socket, mode, content, copy)\u001b[0m\n\u001b[1;32m    802\u001b[0m         \u001b[0;32mtry\u001b[0m\u001b[0;34m:\u001b[0m\u001b[0;34m\u001b[0m\u001b[0;34m\u001b[0m\u001b[0m\n\u001b[0;32m--> 803\u001b[0;31m             \u001b[0mmsg_list\u001b[0m \u001b[0;34m=\u001b[0m \u001b[0msocket\u001b[0m\u001b[0;34m.\u001b[0m\u001b[0mrecv_multipart\u001b[0m\u001b[0;34m(\u001b[0m\u001b[0mmode\u001b[0m\u001b[0;34m,\u001b[0m \u001b[0mcopy\u001b[0m\u001b[0;34m=\u001b[0m\u001b[0mcopy\u001b[0m\u001b[0;34m)\u001b[0m\u001b[0;34m\u001b[0m\u001b[0;34m\u001b[0m\u001b[0m\n\u001b[0m\u001b[1;32m    804\u001b[0m         \u001b[0;32mexcept\u001b[0m \u001b[0mzmq\u001b[0m\u001b[0;34m.\u001b[0m\u001b[0mZMQError\u001b[0m \u001b[0;32mas\u001b[0m \u001b[0me\u001b[0m\u001b[0;34m:\u001b[0m\u001b[0;34m\u001b[0m\u001b[0;34m\u001b[0m\u001b[0m\n",
            "\u001b[0;32m/usr/local/lib/python3.6/dist-packages/zmq/sugar/socket.py\u001b[0m in \u001b[0;36mrecv_multipart\u001b[0;34m(self, flags, copy, track)\u001b[0m\n\u001b[1;32m    490\u001b[0m         \"\"\"\n\u001b[0;32m--> 491\u001b[0;31m         \u001b[0mparts\u001b[0m \u001b[0;34m=\u001b[0m \u001b[0;34m[\u001b[0m\u001b[0mself\u001b[0m\u001b[0;34m.\u001b[0m\u001b[0mrecv\u001b[0m\u001b[0;34m(\u001b[0m\u001b[0mflags\u001b[0m\u001b[0;34m,\u001b[0m \u001b[0mcopy\u001b[0m\u001b[0;34m=\u001b[0m\u001b[0mcopy\u001b[0m\u001b[0;34m,\u001b[0m \u001b[0mtrack\u001b[0m\u001b[0;34m=\u001b[0m\u001b[0mtrack\u001b[0m\u001b[0;34m)\u001b[0m\u001b[0;34m]\u001b[0m\u001b[0;34m\u001b[0m\u001b[0;34m\u001b[0m\u001b[0m\n\u001b[0m\u001b[1;32m    492\u001b[0m         \u001b[0;31m# have first part already, only loop while more to receive\u001b[0m\u001b[0;34m\u001b[0m\u001b[0;34m\u001b[0m\u001b[0;34m\u001b[0m\u001b[0m\n",
            "\u001b[0;32mzmq/backend/cython/socket.pyx\u001b[0m in \u001b[0;36mzmq.backend.cython.socket.Socket.recv\u001b[0;34m()\u001b[0m\n",
            "\u001b[0;32mzmq/backend/cython/socket.pyx\u001b[0m in \u001b[0;36mzmq.backend.cython.socket.Socket.recv\u001b[0;34m()\u001b[0m\n",
            "\u001b[0;32mzmq/backend/cython/socket.pyx\u001b[0m in \u001b[0;36mzmq.backend.cython.socket._recv_copy\u001b[0;34m()\u001b[0m\n",
            "\u001b[0;32m/usr/local/lib/python3.6/dist-packages/zmq/backend/cython/checkrc.pxd\u001b[0m in \u001b[0;36mzmq.backend.cython.checkrc._check_rc\u001b[0;34m()\u001b[0m\n",
            "\u001b[0;31mKeyboardInterrupt\u001b[0m: ",
            "\nDuring handling of the above exception, another exception occurred:\n",
            "\u001b[0;31mKeyboardInterrupt\u001b[0m                         Traceback (most recent call last)",
            "\u001b[0;32m<ipython-input-144-ec5972db0457>\u001b[0m in \u001b[0;36m<module>\u001b[0;34m()\u001b[0m\n\u001b[1;32m      9\u001b[0m     \u001b[0mprint\u001b[0m\u001b[0;34m(\u001b[0m\u001b[0;34m\"Cliente não encontrado com o CPF informado\"\u001b[0m\u001b[0;34m)\u001b[0m\u001b[0;34m\u001b[0m\u001b[0;34m\u001b[0m\u001b[0m\n\u001b[1;32m     10\u001b[0m \u001b[0;34m\u001b[0m\u001b[0m\n\u001b[0;32m---> 11\u001b[0;31m \u001b[0mcliente_exclusao\u001b[0m\u001b[0;34m(\u001b[0m\u001b[0;34m)\u001b[0m\u001b[0;34m\u001b[0m\u001b[0;34m\u001b[0m\u001b[0m\n\u001b[0m",
            "\u001b[0;32m<ipython-input-144-ec5972db0457>\u001b[0m in \u001b[0;36mcliente_exclusao\u001b[0;34m()\u001b[0m\n\u001b[1;32m      2\u001b[0m \u001b[0;34m\u001b[0m\u001b[0m\n\u001b[1;32m      3\u001b[0m \u001b[0;32mdef\u001b[0m \u001b[0mcliente_exclusao\u001b[0m\u001b[0;34m(\u001b[0m\u001b[0;34m)\u001b[0m\u001b[0;34m:\u001b[0m\u001b[0;34m\u001b[0m\u001b[0;34m\u001b[0m\u001b[0m\n\u001b[0;32m----> 4\u001b[0;31m   \u001b[0mcpf\u001b[0m\u001b[0;34m=\u001b[0m\u001b[0mint\u001b[0m\u001b[0;34m(\u001b[0m\u001b[0minput\u001b[0m\u001b[0;34m(\u001b[0m\u001b[0;34m\"Digite o CPF do cliente: \"\u001b[0m\u001b[0;34m)\u001b[0m\u001b[0;34m)\u001b[0m\u001b[0;34m\u001b[0m\u001b[0;34m\u001b[0m\u001b[0m\n\u001b[0m\u001b[1;32m      5\u001b[0m   \u001b[0;32mif\u001b[0m \u001b[0mcpf\u001b[0m \u001b[0;32min\u001b[0m \u001b[0mclientes\u001b[0m\u001b[0;34m.\u001b[0m\u001b[0mkeys\u001b[0m\u001b[0;34m(\u001b[0m\u001b[0;34m)\u001b[0m\u001b[0;34m:\u001b[0m\u001b[0;34m\u001b[0m\u001b[0;34m\u001b[0m\u001b[0m\n\u001b[1;32m      6\u001b[0m     \u001b[0;32mdel\u001b[0m \u001b[0mclientes\u001b[0m\u001b[0;34m[\u001b[0m\u001b[0mcpf\u001b[0m\u001b[0;34m]\u001b[0m\u001b[0;34m\u001b[0m\u001b[0;34m\u001b[0m\u001b[0m\n",
            "\u001b[0;32m/usr/local/lib/python3.6/dist-packages/ipykernel/kernelbase.py\u001b[0m in \u001b[0;36mraw_input\u001b[0;34m(self, prompt)\u001b[0m\n\u001b[1;32m    702\u001b[0m             \u001b[0mself\u001b[0m\u001b[0;34m.\u001b[0m\u001b[0m_parent_ident\u001b[0m\u001b[0;34m,\u001b[0m\u001b[0;34m\u001b[0m\u001b[0;34m\u001b[0m\u001b[0m\n\u001b[1;32m    703\u001b[0m             \u001b[0mself\u001b[0m\u001b[0;34m.\u001b[0m\u001b[0m_parent_header\u001b[0m\u001b[0;34m,\u001b[0m\u001b[0;34m\u001b[0m\u001b[0;34m\u001b[0m\u001b[0m\n\u001b[0;32m--> 704\u001b[0;31m             \u001b[0mpassword\u001b[0m\u001b[0;34m=\u001b[0m\u001b[0;32mFalse\u001b[0m\u001b[0;34m,\u001b[0m\u001b[0;34m\u001b[0m\u001b[0;34m\u001b[0m\u001b[0m\n\u001b[0m\u001b[1;32m    705\u001b[0m         )\n\u001b[1;32m    706\u001b[0m \u001b[0;34m\u001b[0m\u001b[0m\n",
            "\u001b[0;32m/usr/local/lib/python3.6/dist-packages/ipykernel/kernelbase.py\u001b[0m in \u001b[0;36m_input_request\u001b[0;34m(self, prompt, ident, parent, password)\u001b[0m\n\u001b[1;32m    732\u001b[0m             \u001b[0;32mexcept\u001b[0m \u001b[0mKeyboardInterrupt\u001b[0m\u001b[0;34m:\u001b[0m\u001b[0;34m\u001b[0m\u001b[0;34m\u001b[0m\u001b[0m\n\u001b[1;32m    733\u001b[0m                 \u001b[0;31m# re-raise KeyboardInterrupt, to truncate traceback\u001b[0m\u001b[0;34m\u001b[0m\u001b[0;34m\u001b[0m\u001b[0;34m\u001b[0m\u001b[0m\n\u001b[0;32m--> 734\u001b[0;31m                 \u001b[0;32mraise\u001b[0m \u001b[0mKeyboardInterrupt\u001b[0m\u001b[0;34m\u001b[0m\u001b[0;34m\u001b[0m\u001b[0m\n\u001b[0m\u001b[1;32m    735\u001b[0m             \u001b[0;32melse\u001b[0m\u001b[0;34m:\u001b[0m\u001b[0;34m\u001b[0m\u001b[0;34m\u001b[0m\u001b[0m\n\u001b[1;32m    736\u001b[0m                 \u001b[0;32mbreak\u001b[0m\u001b[0;34m\u001b[0m\u001b[0;34m\u001b[0m\u001b[0m\n",
            "\u001b[0;31mKeyboardInterrupt\u001b[0m: "
          ]
        }
      ]
    },
    {
      "cell_type": "markdown",
      "metadata": {
        "id": "N6j5diRRMKgM",
        "colab_type": "text"
      },
      "source": [
        "Função para listar clientes e salvar arquivo csv"
      ]
    }
  ]
}