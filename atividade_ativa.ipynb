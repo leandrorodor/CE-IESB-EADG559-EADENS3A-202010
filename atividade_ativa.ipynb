{
  "nbformat": 4,
  "nbformat_minor": 0,
  "metadata": {
    "colab": {
      "name": "Untitled3.ipynb",
      "provenance": [],
      "collapsed_sections": [],
      "authorship_tag": "ABX9TyMOeohzjCz+gl1pR4Ghp6/q",
      "include_colab_link": true
    },
    "kernelspec": {
      "name": "python3",
      "display_name": "Python 3"
    }
  },
  "cells": [
    {
      "cell_type": "markdown",
      "metadata": {
        "id": "view-in-github",
        "colab_type": "text"
      },
      "source": [
        "<a href=\"https://colab.research.google.com/github/leandrorodor/GR-IESB-EADG559-EADENS3A-202010/blob/master/atividade_ativa.ipynb\" target=\"_parent\"><img src=\"https://colab.research.google.com/assets/colab-badge.svg\" alt=\"Open In Colab\"/></a>"
      ]
    },
    {
      "cell_type": "code",
      "metadata": {
        "id": "sLr8E28n6BrS",
        "colab_type": "code",
        "colab": {}
      },
      "source": [
        "### 20/08/2020\n",
        "### Leandro Rodor de Oliveira"
      ],
      "execution_count": null,
      "outputs": []
    },
    {
      "cell_type": "markdown",
      "metadata": {
        "id": "f6S4VBYfaImO",
        "colab_type": "text"
      },
      "source": [
        "**Parte 1**"
      ]
    },
    {
      "cell_type": "markdown",
      "metadata": {
        "id": "3a1wrOgVI8In",
        "colab_type": "text"
      },
      "source": [
        "Função para gravar novo cliente em arquivo csv - CLIENTES\n",
        "\n",
        "\n",
        "---\n",
        "\n"
      ]
    },
    {
      "cell_type": "code",
      "metadata": {
        "id": "DpHiRiIzEhOq",
        "colab_type": "code",
        "colab": {}
      },
      "source": [
        "def gravar_clientes_csv(cpf, nome, rg):\n",
        "  \"\"\"\n",
        "  Dados dos clientes gravados em arquivo CSV, separado por “;” com os campos Nome, RG, CPF.\n",
        "  \"\"\"\n",
        "  csv = open(\"clientes.csv\",\"a\")\n",
        "  csv.write(f\"{nome};{rg};{cpf}\\r\\n\")"
      ],
      "execution_count": 1,
      "outputs": []
    },
    {
      "cell_type": "markdown",
      "metadata": {
        "id": "9MjvDScQx090",
        "colab_type": "text"
      },
      "source": [
        "Verifica existência do arquivo clientes.csv e/ou cria dicionario - CLIENTES\n",
        "\n",
        "\n",
        "---\n",
        "\n"
      ]
    },
    {
      "cell_type": "code",
      "metadata": {
        "id": "1tOSkj_JwZ9g",
        "colab_type": "code",
        "colab": {
          "base_uri": "https://localhost:8080/",
          "height": 51
        },
        "outputId": "5a6e3f23-b99b-4fb2-bc50-494515ec6eeb"
      },
      "source": [
        "if not os.path.exists(\"/content/clientes.csv\"):\n",
        "  print(\"O arquivo clientes.csv não existe\")\n",
        "  clientes_dic={}\n",
        "  print(\"Um dicionário foi criado\")\n",
        "else:\n",
        "  print(\"Arquivo clientes.csv existe\") "
      ],
      "execution_count": 35,
      "outputs": [
        {
          "output_type": "stream",
          "text": [
            "O arquivo clientes.csv não existe\n",
            "Um dicionário foi criado\n"
          ],
          "name": "stdout"
        }
      ]
    },
    {
      "cell_type": "markdown",
      "metadata": {
        "id": "xRqjQT4FY3BH",
        "colab_type": "text"
      },
      "source": [
        "Estrutura de repetição para formulário de entrada de dados - CLIENTES\n",
        "\n",
        "\n",
        "---\n",
        "\n"
      ]
    },
    {
      "cell_type": "code",
      "metadata": {
        "id": "ZKUWCZp96WdS",
        "colab_type": "code",
        "colab": {
          "base_uri": "https://localhost:8080/",
          "height": 578
        },
        "outputId": "7c1c9073-af30-4646-f69f-b240ef4d44a8"
      },
      "source": [
        "# Definir flag para indicar inserção de novos clientes\n",
        "clientes_novos = True\n",
        "while clientes_novos:\n",
        "  # Solicitar entrada para nome, cpf e rg\n",
        "  nome = input(\"Nome do cliente: \")\n",
        "  rg = input(\"RG do cliente: \")\n",
        "  cpf = input(\"CPF do cliente: \")\n",
        "\n",
        "  # Chamar função para gravação de arquivo csv\n",
        "  gravar_clientes_csv(cpf, nome, rg)\n",
        "\n",
        "  # Armazenar respostas em dicionário\n",
        "  clientes_dic[cpf] = [nome,rg]\n",
        "\n",
        "  # Perguntar ao usuário se deseja inserir novo cliente\n",
        "  print(\"Digite 'sim' ou 'nao'\")\n",
        "  repetir = input(\"\\n\\nVocê deseja incluir novo cliente? \")\n",
        "  if repetir == 'nao':\n",
        "    clientes_novos = False\n",
        "\n",
        "  # Finalizar e imprimir novo cliente cadastrado\n",
        "  print(\"\\n---Cliente cadastrados ---\")\n",
        "  for cliente in clientes_dic.items():\n",
        "    print (cliente[0],' - ',cliente[1][0],' - ',cliente[1][1])"
      ],
      "execution_count": 38,
      "outputs": [
        {
          "output_type": "stream",
          "text": [
            "Nome do cliente: Rolando Caio da Rocha\n",
            "RG do cliente: 123\n",
            "CPF do cliente: 12345678911\n",
            "Digite 'sim' ou 'nao'\n",
            "\n",
            "\n",
            "Você deseja incluir novo cliente? sim\n",
            "\n",
            "---Cliente cadastrados ---\n",
            "12345678911  -  Rolando Caio da Rocha  -  123\n",
            "Nome do cliente: João Sem Braço\n",
            "RG do cliente: 456789\n",
            "CPF do cliente: 12345679822\n",
            "Digite 'sim' ou 'nao'\n",
            "\n",
            "\n",
            "Você deseja incluir novo cliente? sim\n",
            "\n",
            "---Cliente cadastrados ---\n",
            "12345678911  -  Rolando Caio da Rocha  -  123\n",
            "12345679822  -  João Sem Braço  -  456789\n",
            "Nome do cliente: José Ninguém\n",
            "RG do cliente: 852963\n",
            "CPF do cliente: 12345678933\n",
            "Digite 'sim' ou 'nao'\n",
            "\n",
            "\n",
            "Você deseja incluir novo cliente? nao\n",
            "\n",
            "---Cliente cadastrados ---\n",
            "12345678911  -  Rolando Caio da Rocha  -  123\n",
            "12345679822  -  João Sem Braço  -  456789\n",
            "12345678933  -  José Ninguém  -  852963\n"
          ],
          "name": "stdout"
        }
      ]
    },
    {
      "cell_type": "markdown",
      "metadata": {
        "id": "eOhlIjGmYO8K",
        "colab_type": "text"
      },
      "source": [
        "Função para gerar relatório a partir de arquivo csv - CLIENTES\n",
        "\n",
        "\n",
        "---\n",
        "\n"
      ]
    },
    {
      "cell_type": "code",
      "metadata": {
        "id": "3bXfQ9Lz2L-s",
        "colab_type": "code",
        "colab": {}
      },
      "source": [
        "def ler_clientes_csv():\n",
        "  \"\"\"\n",
        "  Dados dos clientes lidos a partir de arquivo CSV, separado por “;” com os campos Nome, RG, CPF.\n",
        "  \"\"\"\n",
        "  clientes_dic = {}\n",
        "  csv = open(\"clientes.csv\",\"r\")\n",
        "  arquivo = csv.read()\n",
        "  linhas = arquivo.split(\"\\n\")\n",
        "  for linha in linhas:\n",
        "    cliente = linha.split(\";\")\n",
        "    if len(linha) > 0:\n",
        "      clientes_dic[cliente[2]] = [cliente[0], cliente[1]]\n",
        "  print (\"-\" * 70) # cabeçalho\n",
        "  print (\"CPF\\t\\t\", \"NOME\\t\\t\\t\\t\", \"RG\") # nome das colunas\n",
        "  for cliente in clientes_dic.items():\n",
        "    print (cliente[0],'\\t',cliente[1][0],'\\t\\t',cliente[1][1])\n"
      ],
      "execution_count": 40,
      "outputs": []
    },
    {
      "cell_type": "code",
      "metadata": {
        "id": "lmwnQnFE2Z2b",
        "colab_type": "code",
        "colab": {
          "base_uri": "https://localhost:8080/",
          "height": 102
        },
        "outputId": "1c386eb5-7a2d-40e8-c05f-e75ffd1461b1"
      },
      "source": [
        "ler_clientes_csv()"
      ],
      "execution_count": 41,
      "outputs": [
        {
          "output_type": "stream",
          "text": [
            "----------------------------------------------------------------------\n",
            "CPF\t\t NOME\t\t\t\t RG\n",
            "12345678911 \t Rolando Caio da Rocha \t\t 123\n",
            "12345679822 \t João Sem Braço \t\t 456789\n",
            "12345678933 \t José Ninguém \t\t 852963\n"
          ],
          "name": "stdout"
        }
      ]
    },
    {
      "cell_type": "markdown",
      "metadata": {
        "id": "C2HR74TdbVga",
        "colab_type": "text"
      },
      "source": [
        "**Parte 2**"
      ]
    },
    {
      "cell_type": "markdown",
      "metadata": {
        "id": "2x1kx_L00vDB",
        "colab_type": "text"
      },
      "source": [
        "Verifica existência do arquivo filmes.csv e/ou cria dicionario - FILMES\n",
        "\n",
        "\n",
        "---\n"
      ]
    },
    {
      "cell_type": "code",
      "metadata": {
        "id": "iy1A-yL90vdP",
        "colab_type": "code",
        "colab": {
          "base_uri": "https://localhost:8080/",
          "height": 51
        },
        "outputId": "00f0cb1d-e5be-4a44-dbc8-409cbe331616"
      },
      "source": [
        "if not os.path.exists(\"/content/filmes.csv\"):\n",
        "  print(\"O arquivo filmes.csv não existe\")\n",
        "  filmes_dic={}\n",
        "  print(\"Um dicionário foi criado\")\n",
        "else:\n",
        "  print(\"Arquivo filmes.csv existe\") "
      ],
      "execution_count": 42,
      "outputs": [
        {
          "output_type": "stream",
          "text": [
            "O arquivo filmes.csv não existe\n",
            "Um dicionário foi criado\n"
          ],
          "name": "stdout"
        }
      ]
    },
    {
      "cell_type": "markdown",
      "metadata": {
        "id": "GT0pdzcH4gN4",
        "colab_type": "text"
      },
      "source": [
        "Função para gravar novo cliente em arquivo csv - FILMES\n",
        "\n",
        "\n",
        "---\n",
        "\n"
      ]
    },
    {
      "cell_type": "code",
      "metadata": {
        "id": "iZm_NSLD45yd",
        "colab_type": "code",
        "colab": {}
      },
      "source": [
        "def gravar_filmes_csv(codigo, tipo, tituto, ano):\n",
        "  \"\"\"\n",
        "  Dados dos filmes gravados em arquivo CSV, separado por “;” com os campos Código, Tipo, Título, Ano.\n",
        "  \"\"\"\n",
        "  csv = open(\"filmes.csv\",\"a\")\n",
        "  csv.write(f\"{codigo};{tipo};{titulo};{ano}\\r\\n\")"
      ],
      "execution_count": 44,
      "outputs": []
    },
    {
      "cell_type": "markdown",
      "metadata": {
        "id": "oS4txOGIbj4k",
        "colab_type": "text"
      },
      "source": [
        "Estrutura de repetição para formulário de entrada de dados - FILMES\n",
        "\n",
        "\n",
        "---\n",
        "\n"
      ]
    },
    {
      "cell_type": "code",
      "metadata": {
        "id": "PnTjcMLn41sf",
        "colab_type": "code",
        "colab": {
          "base_uri": "https://localhost:8080/",
          "height": 459
        },
        "outputId": "40b86117-e1d1-41f4-a70e-1e4ebcf955e7"
      },
      "source": [
        "# Criar um dicionário vazio\n",
        "filmes_dic = {}\n",
        "# Definir flag para indicar inserção de novos filmes\n",
        "filmes_novos = True\n",
        "while filmes_novos:\n",
        "  # Solicitar entrada para tipo, titulo e ano\n",
        "  # O código será fornecido automaticamente\n",
        "  codigo = len(filmes_dic)+1\n",
        "  tipo = input(\"Tipo (Fita/DVD): \")\n",
        "  titulo = input(\"Título: \")\n",
        "  ano = input(\"Ano: \")\n",
        "\n",
        "  # Chamar função para gravação de arquivo csv\n",
        "  gravar_filmes_csv(codigo, tipo, titulo, ano)\n",
        "\n",
        "  # Armazenar respostas em dicionário\n",
        "  filmes_dic[codigo] = [tipo,titulo,ano]\n",
        "\n",
        "  # Perguntar ao usuário se deseja inserir novo filme\n",
        "  print(\"Digite 'sim' ou 'nao'\")\n",
        "  repetir = input(\"\\n\\nVocê deseja incluir novo filme? \")\n",
        "  if repetir == 'nao':\n",
        "    filmes_novos = False\n",
        "\n",
        "  # Finalizar e imprimir novo cliente cadastrado\n",
        "print(\"\\n---Filme cadastrado ---\")\n",
        "for filme in filmes_dic.items():\n",
        "  print (filme[0],' - ',filme[1][0],' - ',filme[1][1],' - ',filme[1][2])"
      ],
      "execution_count": 45,
      "outputs": [
        {
          "output_type": "stream",
          "text": [
            "Tipo (Fita/DVD): Fita\n",
            "Título: De volta para o futuro I\n",
            "Ano: 1985\n",
            "Digite 'sim' ou 'nao'\n",
            "\n",
            "\n",
            "Você deseja incluir novo filme? sim\n",
            "Tipo (Fita/DVD): Fita\n",
            "Título: De volta para o futuro II\n",
            "Ano: 1989\n",
            "Digite 'sim' ou 'nao'\n",
            "\n",
            "\n",
            "Você deseja incluir novo filme? sim\n",
            "Tipo (Fita/DVD): Fita\n",
            "Título: De volta para o futuro III\n",
            "Ano: 1990\n",
            "Digite 'sim' ou 'nao'\n",
            "\n",
            "\n",
            "Você deseja incluir novo filme? nao\n",
            "\n",
            "---Filme cadastrado ---\n",
            "1  -  Fita  -  De volta para o futuro I  -  1985\n",
            "2  -  Fita  -  De volta para o futuro II  -  1989\n",
            "3  -  Fita  -  De volta para o futuro III  -  1990\n"
          ],
          "name": "stdout"
        }
      ]
    },
    {
      "cell_type": "markdown",
      "metadata": {
        "id": "EhqJUzu4YliB",
        "colab_type": "text"
      },
      "source": [
        "Função para gerar relatório a partir de arquivo csv - FILMES\n",
        "\n",
        "\n",
        "---\n",
        "\n"
      ]
    },
    {
      "cell_type": "code",
      "metadata": {
        "id": "awfWJBeb7N6F",
        "colab_type": "code",
        "colab": {}
      },
      "source": [
        "def ler_filmes_csv():\n",
        "  \"\"\"\n",
        "  Dados dos filmes lidos a partir de arquivo CSV, separado por “;” com os campos Código, Tipo, Título, Ano.\n",
        "  \"\"\"\n",
        "  filmes_dic = {}\n",
        "  csv = open(\"filmes.csv\",\"r\")\n",
        "  arquivo = csv.read()\n",
        "  linhas = arquivo.split(\"\\n\")\n",
        "  for linha in linhas:\n",
        "    filme = linha.split(\";\")\n",
        "    if len(linha) > 0:\n",
        "      filmes_dic[filme[0]] = [filme[1], filme[2], filme[3]]\n",
        "  print (\"-\" * 70) # cabeçalho\n",
        "  print (\"Código\\t\", \"Tipo\\t\", \"Título\\t\\t\\t\\t\", \"Ano\\t\") # nome das colunas\n",
        "  for filme in filmes_dic.items():\n",
        "    print (filme[0],'\\t',filme[1][0],'\\t',filme[1][1],'\\t',filme[1][2])"
      ],
      "execution_count": 46,
      "outputs": []
    },
    {
      "cell_type": "code",
      "metadata": {
        "id": "dsMcOJ9J8FI4",
        "colab_type": "code",
        "colab": {
          "base_uri": "https://localhost:8080/",
          "height": 102
        },
        "outputId": "dcea4832-2366-45ff-bc23-9de39278ef4d"
      },
      "source": [
        "ler_filmes_csv()"
      ],
      "execution_count": 47,
      "outputs": [
        {
          "output_type": "stream",
          "text": [
            "----------------------------------------------------------------------\n",
            "Código\t Tipo\t Título\t\t\t\t Ano\t\n",
            "1 \t Fita \t De volta para o futuro I \t 1985\n",
            "2 \t Fita \t De volta para o futuro II \t 1989\n",
            "3 \t Fita \t De volta para o futuro III \t 1990\n"
          ],
          "name": "stdout"
        }
      ]
    },
    {
      "cell_type": "markdown",
      "metadata": {
        "id": "U5_8eFIga6u7",
        "colab_type": "text"
      },
      "source": [
        "**Parte 3**"
      ]
    },
    {
      "cell_type": "markdown",
      "metadata": {
        "id": "TZtIvcot1iJU",
        "colab_type": "text"
      },
      "source": [
        "Verifica existência do arquivo emprestimos.csv e/ou cria dicionario - EMPRÉSTIMOS\n",
        "\n",
        "\n",
        "---\n",
        "\n"
      ]
    },
    {
      "cell_type": "code",
      "metadata": {
        "id": "nZ4l6NUP1jBS",
        "colab_type": "code",
        "colab": {
          "base_uri": "https://localhost:8080/",
          "height": 51
        },
        "outputId": "05a8c06b-9e2e-4f78-d7b0-90bd5e49379f"
      },
      "source": [
        "if not os.path.exists(\"/content/emprestimos.csv\"):\n",
        "  print(\"O arquivo emprestimos.csv não existe\")\n",
        "  filmes_dic={}\n",
        "  print(\"Um dicionário foi criado\")\n",
        "else:\n",
        "  print(\"Arquivo emprestimos.csv existe\") "
      ],
      "execution_count": 48,
      "outputs": [
        {
          "output_type": "stream",
          "text": [
            "O arquivo emprestimos.csv não existe\n",
            "Um dicionário foi criado\n"
          ],
          "name": "stdout"
        }
      ]
    },
    {
      "cell_type": "markdown",
      "metadata": {
        "id": "8GsCRhOQ-TPO",
        "colab_type": "text"
      },
      "source": [
        "Função para gravar novo cliente em arquivo csv - EMPRÉSTIMOS\n",
        "\n",
        "\n",
        "---\n",
        "\n",
        "\n"
      ]
    },
    {
      "cell_type": "code",
      "metadata": {
        "id": "0SXR4vSE__uW",
        "colab_type": "code",
        "colab": {}
      },
      "source": [
        "def gravar_emprestimos_csv(codigo,nome,data_emprestimo):\n",
        "  \"\"\"\n",
        "  Dados dos empréstimos realizados em arquivo CSV, separado por “;” com os campos Usuário, Código, Data.\n",
        "  \"\"\"\n",
        "  csv = open(\"emprestimos.csv\",\"a\")\n",
        "  csv.write(f\"{codigo};{nome};{data_emprestimo}\\n\")"
      ],
      "execution_count": 49,
      "outputs": []
    },
    {
      "cell_type": "markdown",
      "metadata": {
        "id": "p5BilFoxdUhH",
        "colab_type": "text"
      },
      "source": [
        "Estrutura de repetição para formulário de entrada de dados - EMPRÉSTIMOS\n",
        "\n",
        "\n",
        "---\n",
        "\n"
      ]
    },
    {
      "cell_type": "code",
      "metadata": {
        "id": "X2hllift-vDR",
        "colab_type": "code",
        "colab": {
          "base_uri": "https://localhost:8080/",
          "height": 170
        },
        "outputId": "8248d371-15df-4352-ccfe-3b86c9f54a5d"
      },
      "source": [
        "from datetime import datetime\n",
        "# Criar um dicionário vazio\n",
        "emprestimos_dic = {}\n",
        "# Definir flag para indicar empréstimos\n",
        "emprestimos_novos = True\n",
        "while emprestimos_novos:\n",
        "  # Solicitar entrada para nome, codigo e titulo\n",
        "  nome = input(\"Nome do usuário: \")\n",
        "  codigo = input(\"Código: \")\n",
        "  data = datetime.now()\n",
        "  data_emprestimo = data.strftime(' %d/%m/%Y')\n",
        "  \n",
        "  # Chamar função para gravação de arquivo csv\n",
        "  gravar_emprestimos_csv(codigo, nome, data_emprestimo)\n",
        "\n",
        "  # Armazenar respostas em dicionário\n",
        "  emprestimos_dic[codigo] = [nome,data_emprestimo]\n",
        "\n",
        "  # Perguntar ao usuário se deseja realizar novo empréstimo\n",
        "  print(\"Digite 'sim' ou 'nao'\")\n",
        "  repetir = input(\"\\n\\nVocê deseja realizar outro empréstimo? \")\n",
        "  if repetir == 'nao':\n",
        "    emprestimos_novos = False\n",
        "\n",
        "  # Finalizar e imprimir empréstimo realizado\n",
        "print(\"\\n---Empréstimo realizado ---\")\n",
        "for emprestimo in emprestimos_dic.items():\n",
        "  print (emprestimo[0],' - ',emprestimo[1][0],' - ',emprestimo[1][1])\n",
        "\n",
        "  for filme in filmes_dic.items():\n",
        "    print (filme[0],'\\t',filme[1][0],'\\t',filme[1][1],'\\t',filme[1][2])"
      ],
      "execution_count": 50,
      "outputs": [
        {
          "output_type": "stream",
          "text": [
            "Nome do usuário: Rolando Caio da Rocha\n",
            "Código: 1\n",
            "Digite 'sim' ou 'nao'\n",
            "\n",
            "\n",
            "Você deseja realizar outro empréstimo? nao\n",
            "\n",
            "---Empréstimo realizado ---\n",
            "1  -  Rolando Caio da Rocha  -   21/08/2020\n"
          ],
          "name": "stdout"
        }
      ]
    },
    {
      "cell_type": "markdown",
      "metadata": {
        "id": "n_fj4BnQe5iO",
        "colab_type": "text"
      },
      "source": [
        "Função para gerar relatório a partir de arquivo csv - EMPRÉSTIMOS\n",
        "\n",
        "\n",
        "---\n",
        "\n"
      ]
    },
    {
      "cell_type": "code",
      "metadata": {
        "id": "qjI7KiIkAwRJ",
        "colab_type": "code",
        "colab": {
          "base_uri": "https://localhost:8080/",
          "height": 68
        },
        "outputId": "4a8edac5-7cfc-49ec-ee7f-e25790083d28"
      },
      "source": [
        "def ler_emprestimos_csv():\n",
        "  \"\"\"\n",
        "  Dados dos emprestimos lidos a partir de arquivo CSV, separado por “;” com os campos Código, Nome e Data de empréstimo.\n",
        "  \"\"\"\n",
        "  csv = open(\"emprestimos.csv\",\"r\")\n",
        "  arquivo = csv.read()\n",
        "  linhas = arquivo.split(\"\\n\")\n",
        "  for linha in linhas:\n",
        "    filme = linha.split(\";\")\n",
        "    if len(linha) > 0:\n",
        "      emprestimos_dic[filme[0]] = [filme[1], filme[2]]\n",
        "  print (\"-\" * 70) # cabeçalho\n",
        "  print (\"Código\\t\", \"Nome\\t\\t\\t\\t\", \"Empréstimo\") # nome das colunas\n",
        "  for empréstimo in emprestimos_dic.items():\n",
        "    print (emprestimo[0],'\\t',emprestimo[1][0],'\\t\\t',emprestimo[1][1])\n",
        "ler_emprestimos_csv()"
      ],
      "execution_count": 51,
      "outputs": [
        {
          "output_type": "stream",
          "text": [
            "----------------------------------------------------------------------\n",
            "Código\t Nome\t\t\t\t Empréstimo\n",
            "1 \t Rolando Caio da Rocha \t\t  21/08/2020\n"
          ],
          "name": "stdout"
        }
      ]
    },
    {
      "cell_type": "code",
      "metadata": {
        "id": "g7aVHbkw6uCU",
        "colab_type": "code",
        "colab": {}
      },
      "source": [
        "def rel_emprestimos_csv():\n",
        "  \"\"\"\n",
        "  Verificar empréstimos em atraso.\n",
        "  \"\"\"\n",
        "  clientes = open('clientes.csv', 'r')\n",
        "  filmes = open('filmes.csv', 'r')\n",
        "  emprestimos = open('emprestimos.csv', 'r')\n",
        "  \n",
        "\n",
        "  clientes = clientes.readlines()\n",
        "  filmes = filmes.readlines()\n",
        "  emprestimos = emprestimos.readlines()\n",
        "\n",
        "  \n",
        "  linhas = arquivo.split(\"\\n\")\n",
        "  for linha in linhas:\n",
        "    filme = linha.split(\";\")\n",
        "    if len(linha) > 0:\n",
        "      emprestimos_dic[filme[0]] = [filme[1], filme[2]]\n",
        "  print (\"-\" * 70) # cabeçalho\n",
        "  print (\"Código\\t\", \"Nome\\t\\t\\t\\t\", \"Empréstimo\") # nome das colunas\n",
        "  for empréstimo in emprestimos_dic.items():\n",
        "    print (emprestimo[0],'\\t',emprestimo[1][0],'\\t\\t',emprestimo[1][1])"
      ],
      "execution_count": null,
      "outputs": []
    },
    {
      "cell_type": "code",
      "metadata": {
        "id": "QtbyCIEkDbbX",
        "colab_type": "code",
        "colab": {
          "base_uri": "https://localhost:8080/",
          "height": 68
        },
        "outputId": "7c60ffec-ac51-4217-ac9b-10d1a3766312"
      },
      "source": [
        "ler_emprestimos_csv()"
      ],
      "execution_count": null,
      "outputs": [
        {
          "output_type": "stream",
          "text": [
            "----------------------------------------------------------------------\n",
            "Código\t Nome\t\t\t\t Empréstimo\n",
            "1 \t Rolando Caio da Rocha \t\t  20/08/2020\n"
          ],
          "name": "stdout"
        }
      ]
    },
    {
      "cell_type": "markdown",
      "metadata": {
        "id": "6zaIAl9LYmxC",
        "colab_type": "text"
      },
      "source": [
        "Função para cruzamento de dados dos arquivos csv e emissão de relatório de empréstimos em atraso\n",
        "\n",
        "\n",
        "---\n",
        "\n",
        "\n"
      ]
    },
    {
      "cell_type": "code",
      "metadata": {
        "id": "N5oR6PprK2En",
        "colab_type": "code",
        "colab": {
          "base_uri": "https://localhost:8080/",
          "height": 129
        },
        "outputId": "6af99066-dd8c-4c3e-f4f8-39e5dd293e8d"
      },
      "source": [
        "from datetime import datetime\n",
        "def rel_emprestimos():\n",
        "  clientes = open('clientes.csv', 'r')\n",
        "  filmes = open('filmes.csv', 'r')\n",
        "  emprestimos = open('emprestimos.csv', 'r')\n",
        "  \n",
        "  clientes = clientes.readlines()\n",
        "  filmes = filmes.readlines()\n",
        "  emprestimos = emprestimos.readlines()\n",
        " \n",
        "  data_inicial = datetime.today()\n",
        "  cpf_atual = 0\n",
        "  nome_filme_atual = ''\n",
        "  quantidade_dias = 6\n",
        "  \n",
        "  print('CPF Nome Título Empréstimo Situação Dias')\n",
        "  for item in emprestimos:\n",
        "    codigo, titulo, data_emprestimo = item.split(';')\n",
        "    if quantidade_dias > 7:\n",
        "      for cliente in clientes:\n",
        "        nome, rg, cpf = cliente.split(';')\n",
        "        if nome_atual == nome:\n",
        "          cpf_atual = cpf\n",
        "          break\n",
        "          for filme in filmes:\n",
        "            codigo, _, nome,_ = filme.split(';')\n",
        "            if codigo == id_filme:\n",
        "              nome_filme_atual = nome\n",
        "              break\n",
        "print(f'{cpf}|{nome}|{titulo}|{data_emprestimo}|atrasado|{quantidade_dias}')\n",
        "atrasadinhos()"
      ],
      "execution_count": null,
      "outputs": [
        {
          "output_type": "error",
          "ename": "IndentationError",
          "evalue": "ignored",
          "traceback": [
            "\u001b[0;36m  File \u001b[0;32m\"<ipython-input-156-f20daae54e82>\"\u001b[0;36m, line \u001b[0;32m36\u001b[0m\n\u001b[0;31m    if id_agora == id_filme:\u001b[0m\n\u001b[0m                            ^\u001b[0m\n\u001b[0;31mIndentationError\u001b[0m\u001b[0;31m:\u001b[0m unindent does not match any outer indentation level\n"
          ]
        }
      ]
    },
    {
      "cell_type": "code",
      "metadata": {
        "id": "OIYdCTgSvf3N",
        "colab_type": "code",
        "colab": {}
      },
      "source": [
        "  clientes = open('clientes.csv', 'r')\n",
        "  filmes = open('filmes.csv', 'r')\n",
        "  emprestimos = open('emprestimos.csv', 'r')\n",
        "  \n",
        "  clientes = clientes.readlines()\n",
        "  filmes = filmes.readlines()\n",
        "  emprestimos = emprestimos.readlines()"
      ],
      "execution_count": null,
      "outputs": []
    },
    {
      "cell_type": "code",
      "metadata": {
        "id": "CEWsjmnSNNAL",
        "colab_type": "code",
        "colab": {
          "base_uri": "https://localhost:8080/",
          "height": 68
        },
        "outputId": "4c172ca0-6f03-4473-d13c-a15d806c5315"
      },
      "source": [
        "clientes"
      ],
      "execution_count": null,
      "outputs": [
        {
          "output_type": "execute_result",
          "data": {
            "text/plain": [
              "['Rolando Caio da Rocha;123456;12345678911\\n',\n",
              " 'João Sem Braço;456789;12345678922\\n',\n",
              " 'José Baixinho da Silva;741852;12345678933\\n']"
            ]
          },
          "metadata": {
            "tags": []
          },
          "execution_count": 162
        }
      ]
    },
    {
      "cell_type": "code",
      "metadata": {
        "id": "kgVPy_CjyllZ",
        "colab_type": "code",
        "colab": {
          "base_uri": "https://localhost:8080/",
          "height": 102
        },
        "outputId": "5c918eaa-67c3-40af-cba3-f19b8c776841"
      },
      "source": [
        "filmes"
      ],
      "execution_count": null,
      "outputs": [
        {
          "output_type": "execute_result",
          "data": {
            "text/plain": [
              "['1;Fita;De volta para o futuro I;1985\\n',\n",
              " '2;Fita;De volta para o futuro II;1989\\n',\n",
              " '3;Fita;De volta para o futuro III;1990\\n',\n",
              " '4;DVD;O exterminador do futuro;1984\\n',\n",
              " '5;DVD;O exterminador do futuro: destino sombrio;2019\\n']"
            ]
          },
          "metadata": {
            "tags": []
          },
          "execution_count": 163
        }
      ]
    },
    {
      "cell_type": "code",
      "metadata": {
        "id": "H4Y5z1LfyrwF",
        "colab_type": "code",
        "colab": {
          "base_uri": "https://localhost:8080/",
          "height": 34
        },
        "outputId": "6043b941-1f32-42bb-8ee9-5ff413205fef"
      },
      "source": [
        "emprestimos"
      ],
      "execution_count": null,
      "outputs": [
        {
          "output_type": "execute_result",
          "data": {
            "text/plain": [
              "['1;Rolando Caio da Rocha; 20/08/2020\\n']"
            ]
          },
          "metadata": {
            "tags": []
          },
          "execution_count": 164
        }
      ]
    },
    {
      "cell_type": "markdown",
      "metadata": {
        "id": "yVF_IrG-NJvn",
        "colab_type": "text"
      },
      "source": [
        "Função para exclusão de cliente\n",
        "\n",
        "---\n",
        "\n",
        "\n"
      ]
    },
    {
      "cell_type": "code",
      "metadata": {
        "id": "mIsOntZ0KZ3E",
        "colab_type": "code",
        "colab": {}
      },
      "source": [
        "def cliente_exclusao():\n",
        "  cpf=int(input(\"Digite o CPF do cliente: \"))\n",
        "  if cpf in clientes.keys():\n",
        "    del clientes[cpf]\n",
        "    print(\"Cliente excluído\")\n",
        "  else:\n",
        "    print(\"Cliente não encontrado com o CPF informado\")"
      ],
      "execution_count": null,
      "outputs": []
    },
    {
      "cell_type": "code",
      "metadata": {
        "id": "XaqBOYzmMEND",
        "colab_type": "code",
        "colab": {}
      },
      "source": [
        "cliente_exclusao()"
      ],
      "execution_count": null,
      "outputs": []
    },
    {
      "cell_type": "markdown",
      "metadata": {
        "id": "N6j5diRRMKgM",
        "colab_type": "text"
      },
      "source": [
        "Função para listar clientes e salvar arquivo csv"
      ]
    }
  ]
}