{
  "nbformat": 4,
  "nbformat_minor": 0,
  "metadata": {
    "colab": {
      "name": "Untitled3.ipynb",
      "provenance": [],
      "collapsed_sections": [],
      "authorship_tag": "ABX9TyPi+sN9IEisks7f7lPbIxcs",
      "include_colab_link": true
    },
    "kernelspec": {
      "name": "python3",
      "display_name": "Python 3"
    }
  },
  "cells": [
    {
      "cell_type": "markdown",
      "metadata": {
        "id": "view-in-github",
        "colab_type": "text"
      },
      "source": [
        "<a href=\"https://colab.research.google.com/github/leandrorodor/GR-IESB-EADG559-EADENS3A-202010/blob/master/atividade_ativa.ipynb\" target=\"_parent\"><img src=\"https://colab.research.google.com/assets/colab-badge.svg\" alt=\"Open In Colab\"/></a>"
      ]
    },
    {
      "cell_type": "code",
      "metadata": {
        "id": "sLr8E28n6BrS",
        "colab_type": "code",
        "colab": {}
      },
      "source": [
        "### 20/08/2020\n",
        "### Leandro Rodor de Oliveira"
      ],
      "execution_count": null,
      "outputs": []
    },
    {
      "cell_type": "markdown",
      "metadata": {
        "id": "3a1wrOgVI8In",
        "colab_type": "text"
      },
      "source": [
        "Estrutura de repetição para cadastro de clientes em dicionário e função para gravar arquivo csv correspondente\n",
        "\n"
      ]
    },
    {
      "cell_type": "code",
      "metadata": {
        "id": "ZKUWCZp96WdS",
        "colab_type": "code",
        "colab": {}
      },
      "source": [
        "# Criar um dicionário vazio\n",
        "clientes_dic = {}\n",
        "# Definir flag para indicar inserção de novos clientes\n",
        "clientes_novos = True\n",
        "while clientes_novos:\n",
        "  # Solicitar entrada para nome, cpf e rg\n",
        "  nome = input(\"Nome do cliente: \")\n",
        "  rg = input(\"RG do cliente: \")\n",
        "  cpf = input(\"CPF do cliente: \")\n",
        "\n",
        "  # Chamar função para gravação de arquivo csv\n",
        "  gravar_clientes_csv(cpf, nome, rg)\n",
        "\n",
        "  # Armazenar respostas em dicionário\n",
        "  clientes_dic[cpf] = [nome,rg]\n",
        "\n",
        "  # Perguntar ao usuário se deseja inserir novo cliente\n",
        "  print(\"Digite 'sim' ou 'nao'\")\n",
        "  repetir = input(\"\\n\\nVocê deseja incluir novo cliente? \")\n",
        "  if repetir == 'nao':\n",
        "    clientes_novos = False\n",
        "\n",
        "  # Finalizar e imprimir novo cliente cadastrado\n",
        "  print(\"\\n---Cliente cadastrados ---\")\n",
        "  for cliente in clientes_dic.items():\n",
        "    print (cliente[0],' - ',cliente[1][0],' - ',cliente[1][1])"
      ],
      "execution_count": null,
      "outputs": []
    },
    {
      "cell_type": "code",
      "metadata": {
        "id": "DpHiRiIzEhOq",
        "colab_type": "code",
        "colab": {}
      },
      "source": [
        "def gravar_clientes_csv(cpf, nome, rg):\n",
        "  \"\"\"\n",
        "  Dados dos clientes gravados em arquivo CSV, separado por “;” com os campos Nome, RG, CPF.\n",
        "  \"\"\"\n",
        "  csv = open(\"clientes.csv\",\"a\")\n",
        "  csv.write(f\"{nome};{rg};{cpf}\\r\\n\")"
      ],
      "execution_count": 144,
      "outputs": []
    },
    {
      "cell_type": "code",
      "metadata": {
        "id": "3bXfQ9Lz2L-s",
        "colab_type": "code",
        "colab": {}
      },
      "source": [
        "def ler_clientes_csv():\n",
        "  \"\"\"\n",
        "  Dados dos clientes lidos a partir de arquivo CSV, separado por “;” com os campos Nome, RG, CPF.\n",
        "  \"\"\"\n",
        "  clientes_dic = {}\n",
        "  csv = open(\"clientes.csv\",\"r\")\n",
        "  arquivo = csv.read()\n",
        "  linhas = arquivo.split(\"\\n\")\n",
        "  for linha in linhas:\n",
        "    cliente = linha.split(\";\")\n",
        "    if len(linha) > 0:\n",
        "      clientes_dic[cliente[2]] = [cliente[0], cliente[1]]\n",
        "  print (\"-\" * 70) # cabeçalho\n",
        "  print (\"CPF\\t\\t\", \"NOME\\t\\t\\t\\t\", \"RG\\n\") # nome das colunas\n",
        "  for cliente in clientes_dic.items():\n",
        "    print (cliente[0],'\\t',cliente[1][0],'\\t',cliente[1][1])\n"
      ],
      "execution_count": null,
      "outputs": []
    },
    {
      "cell_type": "code",
      "metadata": {
        "id": "lmwnQnFE2Z2b",
        "colab_type": "code",
        "colab": {}
      },
      "source": [
        "ler_clientes_csv()"
      ],
      "execution_count": null,
      "outputs": []
    },
    {
      "cell_type": "markdown",
      "metadata": {
        "id": "GT0pdzcH4gN4",
        "colab_type": "text"
      },
      "source": [
        "Estrutura de repetição para cadastro de filmes em dicionário e função para gravar arquivo csv correspondente\n",
        "\n",
        "\n",
        "---\n",
        "\n"
      ]
    },
    {
      "cell_type": "code",
      "metadata": {
        "id": "PnTjcMLn41sf",
        "colab_type": "code",
        "colab": {}
      },
      "source": [
        "# Criar um dicionário vazio\n",
        "filmes_dic = {}\n",
        "# Definir flag para indicar inserção de novos filmes\n",
        "filmes_novos = True\n",
        "while filmes_novos:\n",
        "  # Solicitar entrada para tipo, titulo e ano\n",
        "  # O código será fornecido automaticamente\n",
        "  codigo = len(filmes_dic)+1\n",
        "  tipo = input(\"Tipo (Fita/DVD): \")\n",
        "  titulo = input(\"Título: \")\n",
        "  ano = input(\"Ano: \")\n",
        "\n",
        "  # Chamar função para gravação de arquivo csv\n",
        "  gravar_filmes_csv(codigo, tipo, titulo, ano)\n",
        "\n",
        "  # Armazenar respostas em dicionário\n",
        "  filmes_dic[codigo] = [tipo,titulo,ano]\n",
        "\n",
        "  # Perguntar ao usuário se deseja inserir novo filme\n",
        "  print(\"Digite 'sim' ou 'nao'\")\n",
        "  repetir = input(\"\\n\\nVocê deseja incluir novo filme? \")\n",
        "  if repetir == 'nao':\n",
        "    filmes_novos = False\n",
        "\n",
        "  # Finalizar e imprimir novo cliente cadastrado\n",
        "print(\"\\n---Filme cadastrado ---\")\n",
        "for filme in filmes_dic.items():\n",
        "  print (filme[0],' - ',filme[1][0],' - ',filme[1][1],' - ',filme[1][2])"
      ],
      "execution_count": null,
      "outputs": []
    },
    {
      "cell_type": "code",
      "metadata": {
        "id": "iZm_NSLD45yd",
        "colab_type": "code",
        "colab": {}
      },
      "source": [
        "def gravar_filmes_csv(codigo, tipo, tituto, ano):\n",
        "  \"\"\"\n",
        "  Dados dos filmes gravados em arquivo CSV, separado por “;” com os campos Código, Tipo, Título, Ano.\n",
        "  \"\"\"\n",
        "  csv = open(\"filmes.csv\",\"a\")\n",
        "  csv.write(f\"{codigo};{tipo};{titulo};{ano}\\r\\n\")"
      ],
      "execution_count": 145,
      "outputs": []
    },
    {
      "cell_type": "code",
      "metadata": {
        "id": "awfWJBeb7N6F",
        "colab_type": "code",
        "colab": {}
      },
      "source": [
        "def ler_filmes_csv():\n",
        "  \"\"\"\n",
        "  Dados dos filmes lidos a partir de arquivo CSV, separado por “;” com os campos Código, Tipo, Título, Ano.\n",
        "  \"\"\"\n",
        "  filmes_dic = {}\n",
        "  csv = open(\"filmes.csv\",\"r\")\n",
        "  arquivo = csv.read()\n",
        "  linhas = arquivo.split(\"\\n\")\n",
        "  for linha in linhas:\n",
        "    filme = linha.split(\";\")\n",
        "    if len(linha) > 0:\n",
        "      filmes_dic[filme[0]] = [filme[1], filme[2], filme[3]]\n",
        "  print (\"-\" * 70) # cabeçalho\n",
        "  print (\"Código\\t\", \"Tipo\\t\", \"Título\\t\\t\\t\\t\", \"Ano\\t\") # nome das colunas\n",
        "  for filme in filmes_dic.items():\n",
        "    print (filme[0],'\\t',filme[1][0],'\\t',filme[1][1],'\\t',filme[1][2])"
      ],
      "execution_count": 159,
      "outputs": []
    },
    {
      "cell_type": "code",
      "metadata": {
        "id": "dsMcOJ9J8FI4",
        "colab_type": "code",
        "colab": {
          "base_uri": "https://localhost:8080/",
          "height": 85
        },
        "outputId": "3f1363b1-a060-4322-d86c-0ae22c210c06"
      },
      "source": [
        "ler_filmes_csv()"
      ],
      "execution_count": 160,
      "outputs": [
        {
          "output_type": "stream",
          "text": [
            "----------------------------------------------------------------------\n",
            "Código\t Tipo\t Título\t\t\t\t Ano\t\n",
            "1 \t De volta para o futuro 3 \t asd \t asd\n",
            "2 \t DVD \t De volta para o futuro 2 \t 1989\n"
          ],
          "name": "stdout"
        }
      ]
    },
    {
      "cell_type": "markdown",
      "metadata": {
        "id": "8GsCRhOQ-TPO",
        "colab_type": "text"
      },
      "source": [
        "Estrutura de repetição para controle de empréstimos de Fitas/DVDs em dicionário e função para gravar arquivo csv correspondente\n",
        "\n",
        "\n",
        "---\n",
        "\n"
      ]
    },
    {
      "cell_type": "code",
      "metadata": {
        "id": "X2hllift-vDR",
        "colab_type": "code",
        "colab": {
          "base_uri": "https://localhost:8080/",
          "height": 187
        },
        "outputId": "95a19171-dca8-471c-bf6c-dbdce0d1b1f5"
      },
      "source": [
        "import datetime\n",
        "from datetime import timedelta\n",
        "# Criar um dicionário vazio\n",
        "emprestimos_dic = {}\n",
        "# Definir flag para indicar empréstimos\n",
        "emprestimos_novos = True\n",
        "while emprestimos_novos:\n",
        "  # Solicitar entrada para nome, codigo e titulo\n",
        "  nome = input(\"Nome do usuário: \")\n",
        "  codigo = input(\"Código: \")\n",
        "  data_entrada = input('Data no formato DD-MM-AAAA')\n",
        "  dia, mes, ano = map(int, data_entrada.split('-'))\n",
        "  data = datetime.date(ano, mes, dia)\n",
        "  \n",
        "  # Chamar função para gravação de arquivo csv\n",
        "  gravar_emprestimos_csv(nome, codigo, data)\n",
        "\n",
        "  # Armazenar respostas em dicionário\n",
        "  emprestimos_dic[nome] = [codigo,data]\n",
        "\n",
        "  # Perguntar ao usuário se deseja realizar novo empréstimo\n",
        "  print(\"Digite 'sim' ou 'nao'\")\n",
        "  repetir = input(\"\\n\\nVocê deseja realizar outro empréstimo? \")\n",
        "  if repetir == 'nao':\n",
        "    emprestimos_novos = False\n",
        "\n",
        "  # Finalizar e imprimir empréstimo realizado\n",
        "print(\"\\n---Empréstimo realizado ---\")\n",
        "for emprestimo in emprestimos_dic.items():\n",
        "  print (emprestimo[0],' - ',emprestimo[1][0],' - ',emprestimo[1][1])"
      ],
      "execution_count": 168,
      "outputs": [
        {
          "output_type": "stream",
          "text": [
            "Nome do usuário: Rolando Caio da Rocha\n",
            "Código: 1\n",
            "Data no formato DD-MM-AAAA20-08-2020\n",
            "Digite 'sim' ou 'nao'\n",
            "\n",
            "\n",
            "Você deseja realizar outro empréstimo? nao\n",
            "\n",
            "---Empréstimo realizado ---\n",
            "Rolando Caio da Rocha  -  1  -  2020-08-20\n"
          ],
          "name": "stdout"
        }
      ]
    },
    {
      "cell_type": "code",
      "metadata": {
        "id": "0SXR4vSE__uW",
        "colab_type": "code",
        "colab": {}
      },
      "source": [
        "def gravar_emprestimos_csv(nome, codigo, data):\n",
        "  \"\"\"\n",
        "  Dados dos empréstimos realizados em arquivo CSV, separado por “;” com os campos Usuário, Código, Data.\n",
        "  \"\"\"\n",
        "  csv = open(\"emprestimos.csv\",\"a\")\n",
        "  csv.write(f\"{nome};{codigo};{data}\\r\\n\")"
      ],
      "execution_count": 165,
      "outputs": []
    },
    {
      "cell_type": "code",
      "metadata": {
        "id": "qjI7KiIkAwRJ",
        "colab_type": "code",
        "colab": {}
      },
      "source": [
        "def ler_emprestimos_csv():\n",
        "  \"\"\"\n",
        "  Dados dos empréstimos lidos a partir de arquivo CSV, separado por “;” com os campos Usuário, Código, Data.\n",
        "  \"\"\"\n",
        "  emprestimos_dic = {}\n",
        "  csv = open(\"emprestimos.csv\",\"r\")\n",
        "  arquivo = csv.read()\n",
        "  linhas = arquivo.split(\"\\n\")\n",
        "  for linha in linhas:\n",
        "    emprestimo = linha.split(\";\")\n",
        "    if len(linha) > 0:\n",
        "      emprestimos_dic[emprestimo[0]] = [emprestimo[1], emprestimo[2]]\n",
        "  print (\"-\" * 100) # cabeçalho\n",
        "  print (\"Usuário\\t\\t\\t\", \"Código\\t\", \"Data\") # nome das colunas\n",
        "  for emprestimo in emprestimos_dic.items():\n",
        "    print (emprestimo[0],'\\t',emprestimo[1][0],'\\t',emprestimo[1][1])"
      ],
      "execution_count": 183,
      "outputs": []
    },
    {
      "cell_type": "code",
      "metadata": {
        "id": "QtbyCIEkDbbX",
        "colab_type": "code",
        "colab": {
          "base_uri": "https://localhost:8080/",
          "height": 68
        },
        "outputId": "b89e7c44-41bf-4597-b2a4-3a622c874235"
      },
      "source": [
        "ler_emprestimos_csv()"
      ],
      "execution_count": 184,
      "outputs": [
        {
          "output_type": "stream",
          "text": [
            "----------------------------------------------------------------------------------------------------\n",
            "Usuário\t\t\t Código\t Data\n",
            "Rolando Caio da Rocha \t 1 \t 2020-08-20\n"
          ],
          "name": "stdout"
        }
      ]
    },
    {
      "cell_type": "markdown",
      "metadata": {
        "id": "shudC8YdGQzy",
        "colab_type": "text"
      },
      "source": [
        "Função para relatório de empréstimos atrasados\n",
        "\n",
        "\n",
        "---\n",
        "\n"
      ]
    },
    {
      "cell_type": "code",
      "metadata": {
        "id": "cy4kmqE1Ge1M",
        "colab_type": "code",
        "colab": {}
      },
      "source": [
        "def relatorio_emprestimos():\n",
        "  \"\"\"\n",
        "  Função para apresentar, baseado no arquivo empréstimo.csv, quais usuários estão atrasados na devolução.\n",
        "  Formato de saída:\n",
        "  CPF | Nome | Título | Empréstimo | Situação | Dias\n",
        "  \"\"\""
      ],
      "execution_count": 185,
      "outputs": []
    },
    {
      "cell_type": "code",
      "metadata": {
        "id": "qE5CClabJ7-R",
        "colab_type": "code",
        "colab": {}
      },
      "source": [
        "  cadastro = {}\n",
        "  nome = input(\"Nome do cliente: \")\n",
        "  cpf = input(\"CPF: \")\n",
        "  rg = input(\"RG: \")\n",
        "  cadastro[cpf] = [nome, rg]\n",
        "  gravar_cliente(cpf, cadastro[cpf][0], cadastro[cpf][1])"
      ],
      "execution_count": null,
      "outputs": []
    },
    {
      "cell_type": "code",
      "metadata": {
        "id": "6yXadoktxNPN",
        "colab_type": "code",
        "colab": {}
      },
      "source": [
        "def gravar_cliente(cpf, nome, rg):\n",
        "  csv = open(\"clientes.csv\",\"a\")\n",
        "  csv.write(f\"{nome};{rg};{cpf}\\r\\n\")"
      ],
      "execution_count": null,
      "outputs": []
    },
    {
      "cell_type": "code",
      "metadata": {
        "id": "zrpOIfsPvWQ8",
        "colab_type": "code",
        "colab": {
          "base_uri": "https://localhost:8080/",
          "height": 68
        },
        "outputId": "e7e37615-22a3-4fb2-f0d2-b7f9c3e56af1"
      },
      "source": [
        "novo_cliente()"
      ],
      "execution_count": null,
      "outputs": [
        {
          "output_type": "stream",
          "text": [
            "Nome do cliente: asdf\n",
            "CPF: 2341243\n",
            "RG: 4312431243\n"
          ],
          "name": "stdout"
        }
      ]
    },
    {
      "cell_type": "code",
      "metadata": {
        "id": "p2iLQ3YkwUfW",
        "colab_type": "code",
        "colab": {
          "base_uri": "https://localhost:8080/",
          "height": 163
        },
        "outputId": "a660676d-ff7a-48e2-8b2c-1da2d6086067"
      },
      "source": [
        "cadastro"
      ],
      "execution_count": null,
      "outputs": [
        {
          "output_type": "error",
          "ename": "NameError",
          "evalue": "ignored",
          "traceback": [
            "\u001b[0;31m---------------------------------------------------------------------------\u001b[0m",
            "\u001b[0;31mNameError\u001b[0m                                 Traceback (most recent call last)",
            "\u001b[0;32m<ipython-input-37-a6cf93c74dfc>\u001b[0m in \u001b[0;36m<module>\u001b[0;34m()\u001b[0m\n\u001b[0;32m----> 1\u001b[0;31m \u001b[0mcadastro\u001b[0m\u001b[0;34m\u001b[0m\u001b[0;34m\u001b[0m\u001b[0m\n\u001b[0m",
            "\u001b[0;31mNameError\u001b[0m: name 'cadastro' is not defined"
          ]
        }
      ]
    },
    {
      "cell_type": "markdown",
      "metadata": {
        "id": "yVF_IrG-NJvn",
        "colab_type": "text"
      },
      "source": [
        "Função para exclusão de cliente\n",
        "\n",
        "---\n",
        "\n",
        "\n"
      ]
    },
    {
      "cell_type": "code",
      "metadata": {
        "id": "mIsOntZ0KZ3E",
        "colab_type": "code",
        "colab": {}
      },
      "source": [
        "def cliente_exclusao():\n",
        "  cpf=int(input(\"Digite o CPF do cliente: \"))\n",
        "  if cpf in clientes.keys():\n",
        "    del clientes[cpf]\n",
        "    print(\"Cliente excluído\")\n",
        "  else:\n",
        "    print(\"Cliente não encontrado com o CPF informado\")"
      ],
      "execution_count": null,
      "outputs": []
    },
    {
      "cell_type": "code",
      "metadata": {
        "id": "XaqBOYzmMEND",
        "colab_type": "code",
        "colab": {}
      },
      "source": [
        "cliente_exclusao()"
      ],
      "execution_count": null,
      "outputs": []
    },
    {
      "cell_type": "markdown",
      "metadata": {
        "id": "N6j5diRRMKgM",
        "colab_type": "text"
      },
      "source": [
        "Função para listar clientes e salvar arquivo csv"
      ]
    },
    {
      "cell_type": "code",
      "metadata": {
        "id": "8xj6zMwYMV_s",
        "colab_type": "code",
        "colab": {}
      },
      "source": [
        "def cliente_relatorio():\n",
        "    print(\"Clientes cadastrados:\")\n",
        "    for item, amount in clientes.items():  # dct.iteritems() in Python 2\n",
        "        print(\"{} {}\".format(item, amount))\n",
        "        #print(\"Nome do cliente: {}\\nRG: {} \\nCPF: {}\".format(nome, rg, cpf))\n"
      ],
      "execution_count": null,
      "outputs": []
    },
    {
      "cell_type": "code",
      "metadata": {
        "id": "T931NyqFv5r-",
        "colab_type": "code",
        "colab": {}
      },
      "source": [
        "cliente_relatorio()"
      ],
      "execution_count": null,
      "outputs": []
    },
    {
      "cell_type": "code",
      "metadata": {
        "id": "81yDo0esmfoa",
        "colab_type": "code",
        "colab": {}
      },
      "source": [
        "import csv\n",
        "nomes = []\n",
        "rgs = []\n",
        "with open('clientes.csv', 'w') as f:\n",
        "  writer = csv.DictWriter(f, fieldnames = [\"CPF\", \"Nome\", \"RG\"], delimiter = ',')\n",
        "  writer.writeheader()\n",
        "  for key in clientes.keys():\n",
        "    f.write(\"%s,%s\\n\"%(key,clientes[key]))"
      ],
      "execution_count": null,
      "outputs": []
    },
    {
      "cell_type": "code",
      "metadata": {
        "id": "bwpFPgCN6gTY",
        "colab_type": "code",
        "colab": {}
      },
      "source": [
        ""
      ],
      "execution_count": null,
      "outputs": []
    }
  ]
}