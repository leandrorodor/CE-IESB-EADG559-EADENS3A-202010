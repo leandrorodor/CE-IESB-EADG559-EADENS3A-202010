{
  "nbformat": 4,
  "nbformat_minor": 0,
  "metadata": {
    "colab": {
      "name": "Untitled3.ipynb",
      "provenance": [],
      "collapsed_sections": [],
      "authorship_tag": "ABX9TyPBaMX+vkRY3AbUpQTsKnxU",
      "include_colab_link": true
    },
    "kernelspec": {
      "name": "python3",
      "display_name": "Python 3"
    }
  },
  "cells": [
    {
      "cell_type": "markdown",
      "metadata": {
        "id": "view-in-github",
        "colab_type": "text"
      },
      "source": [
        "<a href=\"https://colab.research.google.com/github/leandrorodor/GR-IESB-EADG559-EADENS3A-202010/blob/master/atividade_ativa.ipynb\" target=\"_parent\"><img src=\"https://colab.research.google.com/assets/colab-badge.svg\" alt=\"Open In Colab\"/></a>"
      ]
    },
    {
      "cell_type": "code",
      "metadata": {
        "id": "sLr8E28n6BrS",
        "colab_type": "code",
        "colab": {}
      },
      "source": [
        "### 20/08/2020\n",
        "### Leandro Rodor de Oliveira"
      ],
      "execution_count": null,
      "outputs": []
    },
    {
      "cell_type": "markdown",
      "metadata": {
        "id": "f6S4VBYfaImO",
        "colab_type": "text"
      },
      "source": [
        "**Parte 1**"
      ]
    },
    {
      "cell_type": "markdown",
      "metadata": {
        "id": "3a1wrOgVI8In",
        "colab_type": "text"
      },
      "source": [
        "Função para gravar novo cliente em arquivo csv - CLIENTES\n",
        "\n",
        "\n",
        "---\n",
        "\n"
      ]
    },
    {
      "cell_type": "code",
      "metadata": {
        "id": "DpHiRiIzEhOq",
        "colab_type": "code",
        "colab": {}
      },
      "source": [
        "def gravar_clientes_csv(cpf, nome, rg):\n",
        "  \"\"\"\n",
        "  Dados dos clientes gravados em arquivo CSV, separado por “;” com os campos Nome, RG, CPF.\n",
        "  \"\"\"\n",
        "  csv = open(\"clientes.csv\",\"a\")\n",
        "  csv.write(f\"{nome};{rg};{cpf}\\r\\n\")"
      ],
      "execution_count": 4,
      "outputs": []
    },
    {
      "cell_type": "markdown",
      "metadata": {
        "id": "xRqjQT4FY3BH",
        "colab_type": "text"
      },
      "source": [
        "Estrutura de repetição para formulário de entrada de dados - CLIENTES\n",
        "\n",
        "\n",
        "---\n",
        "\n"
      ]
    },
    {
      "cell_type": "code",
      "metadata": {
        "id": "ZKUWCZp96WdS",
        "colab_type": "code",
        "colab": {
          "base_uri": "https://localhost:8080/",
          "height": 374
        },
        "outputId": "a05cd111-0ad1-48ed-d23b-b7894c460f97"
      },
      "source": [
        "# Criar um dicionário vazio\n",
        "clientes_dic = {}\n",
        "# Definir flag para indicar inserção de novos clientes\n",
        "clientes_novos = True\n",
        "while clientes_novos:\n",
        "  # Solicitar entrada para nome, cpf e rg\n",
        "  nome = input(\"Nome do cliente: \")\n",
        "  rg = input(\"RG do cliente: \")\n",
        "  cpf = input(\"CPF do cliente: \")\n",
        "\n",
        "  # Chamar função para gravação de arquivo csv\n",
        "  gravar_clientes_csv(cpf, nome, rg)\n",
        "\n",
        "  # Armazenar respostas em dicionário\n",
        "  clientes_dic[cpf] = [nome,rg]\n",
        "\n",
        "  # Perguntar ao usuário se deseja inserir novo cliente\n",
        "  print(\"Digite 'sim' ou 'nao'\")\n",
        "  repetir = input(\"\\n\\nVocê deseja incluir novo cliente? \")\n",
        "  if repetir == 'nao':\n",
        "    clientes_novos = False\n",
        "\n",
        "  # Finalizar e imprimir novo cliente cadastrado\n",
        "  print(\"\\n---Cliente cadastrados ---\")\n",
        "  for cliente in clientes_dic.items():\n",
        "    print (cliente[0],' - ',cliente[1][0],' - ',cliente[1][1])"
      ],
      "execution_count": 5,
      "outputs": [
        {
          "output_type": "stream",
          "text": [
            "Nome do cliente: Rolando Caio da Rocha\n",
            "RG do cliente: 123456\n",
            "CPF do cliente: 12345678911\n",
            "Digite 'sim' ou 'nao'\n",
            "\n",
            "\n",
            "Você deseja incluir novo cliente? sim\n",
            "\n",
            "---Cliente cadastrados ---\n",
            "12345678911  -  Rolando Caio da Rocha  -  123456\n",
            "Nome do cliente: Joao Sem Braço\n",
            "RG do cliente: 123789\n",
            "CPF do cliente: 12345678922\n",
            "Digite 'sim' ou 'nao'\n",
            "\n",
            "\n",
            "Você deseja incluir novo cliente? nao\n",
            "\n",
            "---Cliente cadastrados ---\n",
            "12345678911  -  Rolando Caio da Rocha  -  123456\n",
            "12345678922  -  Joao Sem Braço  -  123789\n"
          ],
          "name": "stdout"
        }
      ]
    },
    {
      "cell_type": "markdown",
      "metadata": {
        "id": "eOhlIjGmYO8K",
        "colab_type": "text"
      },
      "source": [
        "Função para gerar relatório a partir de arquivo csv - CLIENTES\n",
        "\n",
        "\n",
        "---\n",
        "\n"
      ]
    },
    {
      "cell_type": "code",
      "metadata": {
        "id": "3bXfQ9Lz2L-s",
        "colab_type": "code",
        "colab": {}
      },
      "source": [
        "def ler_clientes_csv():\n",
        "  \"\"\"\n",
        "  Dados dos clientes lidos a partir de arquivo CSV, separado por “;” com os campos Nome, RG, CPF.\n",
        "  \"\"\"\n",
        "  clientes_dic = {}\n",
        "  csv = open(\"clientes.csv\",\"r\")\n",
        "  arquivo = csv.read()\n",
        "  linhas = arquivo.split(\"\\n\")\n",
        "  for linha in linhas:\n",
        "    cliente = linha.split(\";\")\n",
        "    if len(linha) > 0:\n",
        "      clientes_dic[cliente[2]] = [cliente[0], cliente[1]]\n",
        "  print (\"-\" * 70) # cabeçalho\n",
        "  print (\"CPF\\t\\t\", \"NOME\\t\\t\\t\\t\", \"RG\\n\") # nome das colunas\n",
        "  for cliente in clientes_dic.items():\n",
        "    print (cliente[0],'\\t',cliente[1][0],'\\t\\t',cliente[1][1])\n"
      ],
      "execution_count": 9,
      "outputs": []
    },
    {
      "cell_type": "code",
      "metadata": {
        "id": "lmwnQnFE2Z2b",
        "colab_type": "code",
        "colab": {
          "base_uri": "https://localhost:8080/",
          "height": 102
        },
        "outputId": "aae80c9c-831e-4866-87ca-7540a6794049"
      },
      "source": [
        "ler_clientes_csv()"
      ],
      "execution_count": 10,
      "outputs": [
        {
          "output_type": "stream",
          "text": [
            "----------------------------------------------------------------------\n",
            "CPF\t\t NOME\t\t\t\t RG\n",
            "\n",
            "12345678911 \t Rolando Caio da Rocha \t\t 123456\n",
            "12345678922 \t Joao Sem Braço \t\t 123789\n"
          ],
          "name": "stdout"
        }
      ]
    },
    {
      "cell_type": "markdown",
      "metadata": {
        "id": "C2HR74TdbVga",
        "colab_type": "text"
      },
      "source": [
        "**Parte 2**"
      ]
    },
    {
      "cell_type": "markdown",
      "metadata": {
        "id": "GT0pdzcH4gN4",
        "colab_type": "text"
      },
      "source": [
        "Função para gravar novo cliente em arquivo csv - FILMES\n",
        "\n",
        "\n",
        "---\n",
        "\n"
      ]
    },
    {
      "cell_type": "code",
      "metadata": {
        "id": "iZm_NSLD45yd",
        "colab_type": "code",
        "colab": {}
      },
      "source": [
        "def gravar_filmes_csv(codigo, tipo, tituto, ano):\n",
        "  \"\"\"\n",
        "  Dados dos filmes gravados em arquivo CSV, separado por “;” com os campos Código, Tipo, Título, Ano.\n",
        "  \"\"\"\n",
        "  csv = open(\"filmes.csv\",\"a\")\n",
        "  csv.write(f\"{codigo};{tipo};{titulo};{ano}\\r\\n\")"
      ],
      "execution_count": 11,
      "outputs": []
    },
    {
      "cell_type": "markdown",
      "metadata": {
        "id": "oS4txOGIbj4k",
        "colab_type": "text"
      },
      "source": [
        "Estrutura de repetição para formulário de entrada de dados - FILMES\n",
        "\n",
        "\n",
        "---\n",
        "\n"
      ]
    },
    {
      "cell_type": "code",
      "metadata": {
        "id": "PnTjcMLn41sf",
        "colab_type": "code",
        "colab": {
          "base_uri": "https://localhost:8080/",
          "height": 459
        },
        "outputId": "9606e5d3-031e-4d8b-9b77-f79c65accbce"
      },
      "source": [
        "# Criar um dicionário vazio\n",
        "filmes_dic = {}\n",
        "# Definir flag para indicar inserção de novos filmes\n",
        "filmes_novos = True\n",
        "while filmes_novos:\n",
        "  # Solicitar entrada para tipo, titulo e ano\n",
        "  # O código será fornecido automaticamente\n",
        "  codigo = len(filmes_dic)+1\n",
        "  tipo = input(\"Tipo (Fita/DVD): \")\n",
        "  titulo = input(\"Título: \")\n",
        "  ano = input(\"Ano: \")\n",
        "\n",
        "  # Chamar função para gravação de arquivo csv\n",
        "  gravar_filmes_csv(codigo, tipo, titulo, ano)\n",
        "\n",
        "  # Armazenar respostas em dicionário\n",
        "  filmes_dic[codigo] = [tipo,titulo,ano]\n",
        "\n",
        "  # Perguntar ao usuário se deseja inserir novo filme\n",
        "  print(\"Digite 'sim' ou 'nao'\")\n",
        "  repetir = input(\"\\n\\nVocê deseja incluir novo filme? \")\n",
        "  if repetir == 'nao':\n",
        "    filmes_novos = False\n",
        "\n",
        "  # Finalizar e imprimir novo cliente cadastrado\n",
        "print(\"\\n---Filme cadastrado ---\")\n",
        "for filme in filmes_dic.items():\n",
        "  print (filme[0],' - ',filme[1][0],' - ',filme[1][1],' - ',filme[1][2])"
      ],
      "execution_count": 12,
      "outputs": [
        {
          "output_type": "stream",
          "text": [
            "Tipo (Fita/DVD): Fita\n",
            "Título: De volta para o futuro I\n",
            "Ano: 1985\n",
            "Digite 'sim' ou 'nao'\n",
            "\n",
            "\n",
            "Você deseja incluir novo filme? sim\n",
            "Tipo (Fita/DVD): Fita\n",
            "Título: De volta para o futuro II\n",
            "Ano: 1989\n",
            "Digite 'sim' ou 'nao'\n",
            "\n",
            "\n",
            "Você deseja incluir novo filme? sim\n",
            "Tipo (Fita/DVD): DVD\n",
            "Título: O Exterminador do Futuro\n",
            "Ano: 1984\n",
            "Digite 'sim' ou 'nao'\n",
            "\n",
            "\n",
            "Você deseja incluir novo filme? nao\n",
            "\n",
            "---Filme cadastrado ---\n",
            "1  -  Fita  -  De volta para o futuro I  -  1985\n",
            "2  -  Fita  -  De volta para o futuro II  -  1989\n",
            "3  -  DVD  -  O Exterminador do Futuro  -  1984\n"
          ],
          "name": "stdout"
        }
      ]
    },
    {
      "cell_type": "markdown",
      "metadata": {
        "id": "EhqJUzu4YliB",
        "colab_type": "text"
      },
      "source": [
        "Função para gerar relatório a partir de arquivo csv - FILMES\n",
        "\n",
        "\n",
        "---\n",
        "\n"
      ]
    },
    {
      "cell_type": "code",
      "metadata": {
        "id": "awfWJBeb7N6F",
        "colab_type": "code",
        "colab": {}
      },
      "source": [
        "def ler_filmes_csv():\n",
        "  \"\"\"\n",
        "  Dados dos filmes lidos a partir de arquivo CSV, separado por “;” com os campos Código, Tipo, Título, Ano.\n",
        "  \"\"\"\n",
        "  filmes_dic = {}\n",
        "  csv = open(\"filmes.csv\",\"r\")\n",
        "  arquivo = csv.read()\n",
        "  linhas = arquivo.split(\"\\n\")\n",
        "  for linha in linhas:\n",
        "    filme = linha.split(\";\")\n",
        "    if len(linha) > 0:\n",
        "      filmes_dic[filme[0]] = [filme[1], filme[2], filme[3]]\n",
        "  print (\"-\" * 70) # cabeçalho\n",
        "  print (\"Código\\t\", \"Tipo\\t\", \"Título\\t\\t\\t\\t\", \"Ano\\t\") # nome das colunas\n",
        "  for filme in filmes_dic.items():\n",
        "    print (filme[0],'\\t',filme[1][0],'\\t',filme[1][1],'\\t',filme[1][2])"
      ],
      "execution_count": 13,
      "outputs": []
    },
    {
      "cell_type": "code",
      "metadata": {
        "id": "dsMcOJ9J8FI4",
        "colab_type": "code",
        "colab": {
          "base_uri": "https://localhost:8080/",
          "height": 102
        },
        "outputId": "3b249518-0eba-46f8-8098-4dfecd9da62b"
      },
      "source": [
        "ler_filmes_csv()"
      ],
      "execution_count": 14,
      "outputs": [
        {
          "output_type": "stream",
          "text": [
            "----------------------------------------------------------------------\n",
            "Código\t Tipo\t Título\t\t\t\t Ano\t\n",
            "1 \t Fita \t De volta para o futuro I \t 1985\n",
            "2 \t Fita \t De volta para o futuro II \t 1989\n",
            "3 \t DVD \t O Exterminador do Futuro \t 1984\n"
          ],
          "name": "stdout"
        }
      ]
    },
    {
      "cell_type": "markdown",
      "metadata": {
        "id": "U5_8eFIga6u7",
        "colab_type": "text"
      },
      "source": [
        "**Parte 3**"
      ]
    },
    {
      "cell_type": "markdown",
      "metadata": {
        "id": "8GsCRhOQ-TPO",
        "colab_type": "text"
      },
      "source": [
        "Função para gravar novo cliente em arquivo csv - EMPRÉSTIMOS\n",
        "\n",
        "\n",
        "---\n",
        "\n",
        "\n"
      ]
    },
    {
      "cell_type": "code",
      "metadata": {
        "id": "0SXR4vSE__uW",
        "colab_type": "code",
        "colab": {}
      },
      "source": [
        "def gravar_emprestimos_csv(cpf ,nome, codigo, data):\n",
        "  \"\"\"\n",
        "  Dados dos empréstimos realizados em arquivo CSV, separado por “;” com os campos Usuário, Código, Data.\n",
        "  \"\"\"\n",
        "  csv = open(\"emprestimos.csv\",\"a\")\n",
        "  csv.write(f\"{cpf};{nome};{codigo};{data}\\r\\n\")"
      ],
      "execution_count": 16,
      "outputs": []
    },
    {
      "cell_type": "markdown",
      "metadata": {
        "id": "p5BilFoxdUhH",
        "colab_type": "text"
      },
      "source": [
        "Estrutura de repetição para formulário de entrada de dados - EMPRÉSTIMOS\n",
        "\n",
        "\n",
        "---\n",
        "\n"
      ]
    },
    {
      "cell_type": "code",
      "metadata": {
        "id": "X2hllift-vDR",
        "colab_type": "code",
        "colab": {
          "base_uri": "https://localhost:8080/",
          "height": 204
        },
        "outputId": "89ef2897-8784-4194-81c3-6d28ea1eeec5"
      },
      "source": [
        "# Criar um dicionário vazio\n",
        "emprestimos_dic = {}\n",
        "# Definir flag para indicar empréstimos\n",
        "emprestimos_novos = True\n",
        "while emprestimos_novos:\n",
        "  # Solicitar entrada para nome, codigo e titulo\n",
        "  cpf = input(\"CPF do usuário: \")\n",
        "  nome = input(\"Nome do usuário: \")\n",
        "  codigo = input(\"Código: \")\n",
        "  data_emprestimo = input('Data no formato DD-MM-AAAA')\n",
        "  dia, mes, ano = map(int, data_entrada.split('-'))\n",
        "  \n",
        "  # Chamar função para gravação de arquivo csv\n",
        "  gravar_emprestimos_csv(nome, cpf, codigo, data_emprestimo)\n",
        "\n",
        "  # Armazenar respostas em dicionário\n",
        "  emprestimos_dic[cpf] = [nome,codigo,data_emprestimo]\n",
        "\n",
        "  # Perguntar ao usuário se deseja realizar novo empréstimo\n",
        "  print(\"Digite 'sim' ou 'nao'\")\n",
        "  repetir = input(\"\\n\\nVocê deseja realizar outro empréstimo? \")\n",
        "  if repetir == 'nao':\n",
        "    emprestimos_novos = False\n",
        "\n",
        "  # Finalizar e imprimir empréstimo realizado\n",
        "print(\"\\n---Empréstimo realizado ---\")\n",
        "for emprestimo in emprestimos_dic.items():\n",
        "  print (emprestimo[0],' - ',emprestimo[1][0],' - ',emprestimo[1][1],' - ',emprestimo[1][2])"
      ],
      "execution_count": 20,
      "outputs": [
        {
          "output_type": "stream",
          "text": [
            "CPF do usuário: 12345678911\n",
            "Nome do usuário: Rolando Caio da Rocha\n",
            "Código: 1\n",
            "Data no formato DD-MM-AAAA12-05-2020\n",
            "Digite 'sim' ou 'nao'\n",
            "\n",
            "\n",
            "Você deseja realizar outro empréstimo? nao\n",
            "\n",
            "---Empréstimo realizado ---\n",
            "12345678911  -  Rolando Caio da Rocha  -  1  -  12-05-2020\n"
          ],
          "name": "stdout"
        }
      ]
    },
    {
      "cell_type": "markdown",
      "metadata": {
        "id": "n_fj4BnQe5iO",
        "colab_type": "text"
      },
      "source": [
        "Função para gerar relatório a partir de arquivo csv - EMPRÉSTIMOS\n",
        "\n",
        "\n",
        "---\n",
        "\n"
      ]
    },
    {
      "cell_type": "code",
      "metadata": {
        "id": "qjI7KiIkAwRJ",
        "colab_type": "code",
        "colab": {
          "base_uri": "https://localhost:8080/",
          "height": 129
        },
        "outputId": "02ec9b68-bdd7-4b43-ae59-8bfc7897e0f9"
      },
      "source": [
        "def ler_emprestimos_csv():\n",
        "  import datetime\n",
        "  \"\"\"\n",
        "  Dados dos empréstimos lidos a partir de arquivo CSV, separado por “;” com os campos Usuário, Código, Data.\n",
        "  \"\"\"\n",
        "  emprestimos_dic = {}\n",
        "  csv = open(\"emprestimos.csv\",\"r\")\n",
        "  arquivo = csv.read()\n",
        "  linhas = arquivo.split(\"\\n\")\n",
        "  for linha in linhas:\n",
        "    emprestimo = linha.split(\";\")\n",
        "    if len(linha) > 0:\n",
        "      emprestimos_dic[emprestimo[0]] = [emprestimo[1], emprestimo[2], emprestimo[3]]\n",
        "\n",
        "  print (\"-\" * 80) # cabeçalho\n",
        "  print (\"Usuário\\t\\t\\t\", \"CPF\\t\\t\", \"Código\\t\", \"Data de empréstimo\") # nome das colunas\n",
        "  for emprestimo in emprestimos_dic.items():\n",
        "    data_atual=datetime.datetime.now()\n",
        "    data_emprestimo = emprestimo[1][2].strftime(%d%m%Y)\n",
        "    dias_atrasados = data_atual - data_emprestimo\n",
        "    print (emprestimo[0],'\\t',emprestimo[1][0],'\\t',emprestimo[1][1],'\\t',emprestimo[1][2])"
      ],
      "execution_count": 39,
      "outputs": [
        {
          "output_type": "error",
          "ename": "SyntaxError",
          "evalue": "ignored",
          "traceback": [
            "\u001b[0;36m  File \u001b[0;32m\"<ipython-input-39-f212c5ad4a58>\"\u001b[0;36m, line \u001b[0;32m19\u001b[0m\n\u001b[0;31m    data_emprestimo = emprestimo[1][2].strftime(%d%m%Y)\u001b[0m\n\u001b[0m                                                ^\u001b[0m\n\u001b[0;31mSyntaxError\u001b[0m\u001b[0;31m:\u001b[0m invalid syntax\n"
          ]
        }
      ]
    },
    {
      "cell_type": "code",
      "metadata": {
        "id": "QtbyCIEkDbbX",
        "colab_type": "code",
        "colab": {
          "base_uri": "https://localhost:8080/",
          "height": 299
        },
        "outputId": "fbe67e4a-1c3b-45a9-db08-077803ba84d5"
      },
      "source": [
        "ler_emprestimos_csv()"
      ],
      "execution_count": 40,
      "outputs": [
        {
          "output_type": "stream",
          "text": [
            "--------------------------------------------------------------------------------\n",
            "Usuário\t\t\t CPF\t\t Código\t Data de empréstimo\n"
          ],
          "name": "stdout"
        },
        {
          "output_type": "error",
          "ename": "TypeError",
          "evalue": "ignored",
          "traceback": [
            "\u001b[0;31m---------------------------------------------------------------------------\u001b[0m",
            "\u001b[0;31mTypeError\u001b[0m                                 Traceback (most recent call last)",
            "\u001b[0;32m<ipython-input-40-4b180bd39fc0>\u001b[0m in \u001b[0;36m<module>\u001b[0;34m()\u001b[0m\n\u001b[0;32m----> 1\u001b[0;31m \u001b[0mler_emprestimos_csv\u001b[0m\u001b[0;34m(\u001b[0m\u001b[0;34m)\u001b[0m\u001b[0;34m\u001b[0m\u001b[0;34m\u001b[0m\u001b[0m\n\u001b[0m",
            "\u001b[0;32m<ipython-input-37-4c16d7748f9a>\u001b[0m in \u001b[0;36mler_emprestimos_csv\u001b[0;34m()\u001b[0m\n\u001b[1;32m     18\u001b[0m     \u001b[0mdata_atual\u001b[0m\u001b[0;34m=\u001b[0m\u001b[0mdatetime\u001b[0m\u001b[0;34m.\u001b[0m\u001b[0mdatetime\u001b[0m\u001b[0;34m.\u001b[0m\u001b[0mnow\u001b[0m\u001b[0;34m(\u001b[0m\u001b[0;34m)\u001b[0m\u001b[0;34m\u001b[0m\u001b[0;34m\u001b[0m\u001b[0m\n\u001b[1;32m     19\u001b[0m     \u001b[0mdata_emprestimo\u001b[0m \u001b[0;34m=\u001b[0m \u001b[0memprestimo\u001b[0m\u001b[0;34m[\u001b[0m\u001b[0;36m1\u001b[0m\u001b[0;34m]\u001b[0m\u001b[0;34m[\u001b[0m\u001b[0;36m2\u001b[0m\u001b[0;34m]\u001b[0m\u001b[0;34m\u001b[0m\u001b[0;34m\u001b[0m\u001b[0m\n\u001b[0;32m---> 20\u001b[0;31m     \u001b[0mdias_atrasados\u001b[0m \u001b[0;34m=\u001b[0m \u001b[0mdata_atual\u001b[0m \u001b[0;34m-\u001b[0m \u001b[0mdata_emprestimo\u001b[0m\u001b[0;34m\u001b[0m\u001b[0;34m\u001b[0m\u001b[0m\n\u001b[0m\u001b[1;32m     21\u001b[0m     \u001b[0mprint\u001b[0m \u001b[0;34m(\u001b[0m\u001b[0memprestimo\u001b[0m\u001b[0;34m[\u001b[0m\u001b[0;36m0\u001b[0m\u001b[0;34m]\u001b[0m\u001b[0;34m,\u001b[0m\u001b[0;34m'\\t'\u001b[0m\u001b[0;34m,\u001b[0m\u001b[0memprestimo\u001b[0m\u001b[0;34m[\u001b[0m\u001b[0;36m1\u001b[0m\u001b[0;34m]\u001b[0m\u001b[0;34m[\u001b[0m\u001b[0;36m0\u001b[0m\u001b[0;34m]\u001b[0m\u001b[0;34m,\u001b[0m\u001b[0;34m'\\t'\u001b[0m\u001b[0;34m,\u001b[0m\u001b[0memprestimo\u001b[0m\u001b[0;34m[\u001b[0m\u001b[0;36m1\u001b[0m\u001b[0;34m]\u001b[0m\u001b[0;34m[\u001b[0m\u001b[0;36m1\u001b[0m\u001b[0;34m]\u001b[0m\u001b[0;34m,\u001b[0m\u001b[0;34m'\\t'\u001b[0m\u001b[0;34m,\u001b[0m\u001b[0memprestimo\u001b[0m\u001b[0;34m[\u001b[0m\u001b[0;36m1\u001b[0m\u001b[0;34m]\u001b[0m\u001b[0;34m[\u001b[0m\u001b[0;36m2\u001b[0m\u001b[0;34m]\u001b[0m\u001b[0;34m)\u001b[0m\u001b[0;34m\u001b[0m\u001b[0;34m\u001b[0m\u001b[0m\n",
            "\u001b[0;31mTypeError\u001b[0m: unsupported operand type(s) for -: 'datetime.datetime' and 'str'"
          ]
        }
      ]
    },
    {
      "cell_type": "markdown",
      "metadata": {
        "id": "yVF_IrG-NJvn",
        "colab_type": "text"
      },
      "source": [
        "Função para exclusão de cliente\n",
        "\n",
        "---\n",
        "\n",
        "\n"
      ]
    },
    {
      "cell_type": "code",
      "metadata": {
        "id": "mIsOntZ0KZ3E",
        "colab_type": "code",
        "colab": {}
      },
      "source": [
        "def cliente_exclusao():\n",
        "  cpf=int(input(\"Digite o CPF do cliente: \"))\n",
        "  if cpf in clientes.keys():\n",
        "    del clientes[cpf]\n",
        "    print(\"Cliente excluído\")\n",
        "  else:\n",
        "    print(\"Cliente não encontrado com o CPF informado\")"
      ],
      "execution_count": null,
      "outputs": []
    },
    {
      "cell_type": "code",
      "metadata": {
        "id": "XaqBOYzmMEND",
        "colab_type": "code",
        "colab": {}
      },
      "source": [
        "cliente_exclusao()"
      ],
      "execution_count": null,
      "outputs": []
    },
    {
      "cell_type": "markdown",
      "metadata": {
        "id": "N6j5diRRMKgM",
        "colab_type": "text"
      },
      "source": [
        "Função para listar clientes e salvar arquivo csv"
      ]
    }
  ]
}