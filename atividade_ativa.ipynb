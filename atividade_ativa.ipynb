{
  "nbformat": 4,
  "nbformat_minor": 0,
  "metadata": {
    "colab": {
      "name": "Untitled3.ipynb",
      "provenance": [],
      "collapsed_sections": [],
      "authorship_tag": "ABX9TyOtshINPeOBBos6EYxHP397",
      "include_colab_link": true
    },
    "kernelspec": {
      "name": "python3",
      "display_name": "Python 3"
    }
  },
  "cells": [
    {
      "cell_type": "markdown",
      "metadata": {
        "id": "view-in-github",
        "colab_type": "text"
      },
      "source": [
        "<a href=\"https://colab.research.google.com/github/leandrorodor/GR-IESB-EADG559-EADENS3A-202010/blob/master/atividade_ativa.ipynb\" target=\"_parent\"><img src=\"https://colab.research.google.com/assets/colab-badge.svg\" alt=\"Open In Colab\"/></a>"
      ]
    },
    {
      "cell_type": "code",
      "metadata": {
        "id": "sLr8E28n6BrS",
        "colab_type": "code",
        "colab": {}
      },
      "source": [
        "### 20/08/2020\n",
        "### Leandro Rodor de Oliveira"
      ],
      "execution_count": null,
      "outputs": []
    },
    {
      "cell_type": "markdown",
      "metadata": {
        "id": "f6S4VBYfaImO",
        "colab_type": "text"
      },
      "source": [
        "**Parte 1**"
      ]
    },
    {
      "cell_type": "markdown",
      "metadata": {
        "id": "3a1wrOgVI8In",
        "colab_type": "text"
      },
      "source": [
        "Função para gravar novo cliente em arquivo csv - CLIENTES\n",
        "\n",
        "\n",
        "---\n",
        "\n"
      ]
    },
    {
      "cell_type": "code",
      "metadata": {
        "id": "DpHiRiIzEhOq",
        "colab_type": "code",
        "colab": {}
      },
      "source": [
        "def gravar_clientes_csv(cpf, nome, rg):\n",
        "  \"\"\"\n",
        "  Dados dos clientes gravados em arquivo CSV, separado por “;” com os campos Nome, RG, CPF.\n",
        "  \"\"\"\n",
        "  csv = open(\"clientes.csv\",\"a\")\n",
        "  csv.write(f\"{nome};{rg};{cpf}\\r\\n\")"
      ],
      "execution_count": 1,
      "outputs": []
    },
    {
      "cell_type": "markdown",
      "metadata": {
        "id": "9MjvDScQx090",
        "colab_type": "text"
      },
      "source": [
        "Verifica existência do arquivo clientes.csv e/ou cria dicionario - CLIENTES\n",
        "\n",
        "\n",
        "---\n",
        "\n"
      ]
    },
    {
      "cell_type": "code",
      "metadata": {
        "id": "1tOSkj_JwZ9g",
        "colab_type": "code",
        "colab": {
          "base_uri": "https://localhost:8080/",
          "height": 51
        },
        "outputId": "5a6e3f23-b99b-4fb2-bc50-494515ec6eeb"
      },
      "source": [
        "if not os.path.exists(\"/content/clientes.csv\"):\n",
        "  print(\"O arquivo clientes.csv não existe\")\n",
        "  clientes_dic={}\n",
        "  print(\"Um dicionário foi criado\")\n",
        "else:\n",
        "  print(\"Arquivo clientes.csv existe\") "
      ],
      "execution_count": 35,
      "outputs": [
        {
          "output_type": "stream",
          "text": [
            "O arquivo clientes.csv não existe\n",
            "Um dicionário foi criado\n"
          ],
          "name": "stdout"
        }
      ]
    },
    {
      "cell_type": "markdown",
      "metadata": {
        "id": "xRqjQT4FY3BH",
        "colab_type": "text"
      },
      "source": [
        "Estrutura de repetição para formulário de entrada de dados - CLIENTES\n",
        "\n",
        "\n",
        "---\n",
        "\n"
      ]
    },
    {
      "cell_type": "code",
      "metadata": {
        "id": "ZKUWCZp96WdS",
        "colab_type": "code",
        "colab": {
          "base_uri": "https://localhost:8080/",
          "height": 578
        },
        "outputId": "7c1c9073-af30-4646-f69f-b240ef4d44a8"
      },
      "source": [
        "# Definir flag para indicar inserção de novos clientes\n",
        "clientes_novos = True\n",
        "while clientes_novos:\n",
        "  # Solicitar entrada para nome, cpf e rg\n",
        "  nome = input(\"Nome do cliente: \")\n",
        "  rg = input(\"RG do cliente: \")\n",
        "  cpf = input(\"CPF do cliente: \")\n",
        "\n",
        "  # Chamar função para gravação de arquivo csv\n",
        "  gravar_clientes_csv(cpf, nome, rg)\n",
        "\n",
        "  # Armazenar respostas em dicionário\n",
        "  clientes_dic[cpf] = [nome,rg]\n",
        "\n",
        "  # Perguntar ao usuário se deseja inserir novo cliente\n",
        "  print(\"Digite 'sim' ou 'nao'\")\n",
        "  repetir = input(\"\\n\\nVocê deseja incluir novo cliente? \")\n",
        "  if repetir == 'nao':\n",
        "    clientes_novos = False\n",
        "\n",
        "  # Finalizar e imprimir novo cliente cadastrado\n",
        "  print(\"\\n---Cliente cadastrados ---\")\n",
        "  for cliente in clientes_dic.items():\n",
        "    print (cliente[0],' - ',cliente[1][0],' - ',cliente[1][1])"
      ],
      "execution_count": 38,
      "outputs": [
        {
          "output_type": "stream",
          "text": [
            "Nome do cliente: Rolando Caio da Rocha\n",
            "RG do cliente: 123\n",
            "CPF do cliente: 12345678911\n",
            "Digite 'sim' ou 'nao'\n",
            "\n",
            "\n",
            "Você deseja incluir novo cliente? sim\n",
            "\n",
            "---Cliente cadastrados ---\n",
            "12345678911  -  Rolando Caio da Rocha  -  123\n",
            "Nome do cliente: João Sem Braço\n",
            "RG do cliente: 456789\n",
            "CPF do cliente: 12345679822\n",
            "Digite 'sim' ou 'nao'\n",
            "\n",
            "\n",
            "Você deseja incluir novo cliente? sim\n",
            "\n",
            "---Cliente cadastrados ---\n",
            "12345678911  -  Rolando Caio da Rocha  -  123\n",
            "12345679822  -  João Sem Braço  -  456789\n",
            "Nome do cliente: José Ninguém\n",
            "RG do cliente: 852963\n",
            "CPF do cliente: 12345678933\n",
            "Digite 'sim' ou 'nao'\n",
            "\n",
            "\n",
            "Você deseja incluir novo cliente? nao\n",
            "\n",
            "---Cliente cadastrados ---\n",
            "12345678911  -  Rolando Caio da Rocha  -  123\n",
            "12345679822  -  João Sem Braço  -  456789\n",
            "12345678933  -  José Ninguém  -  852963\n"
          ],
          "name": "stdout"
        }
      ]
    },
    {
      "cell_type": "markdown",
      "metadata": {
        "id": "eOhlIjGmYO8K",
        "colab_type": "text"
      },
      "source": [
        "Função para gerar relatório a partir de arquivo csv - CLIENTES\n",
        "\n",
        "\n",
        "---\n",
        "\n"
      ]
    },
    {
      "cell_type": "code",
      "metadata": {
        "id": "3bXfQ9Lz2L-s",
        "colab_type": "code",
        "colab": {}
      },
      "source": [
        "def ler_clientes_csv():\n",
        "  \"\"\"\n",
        "  Dados dos clientes lidos a partir de arquivo CSV, separado por “;” com os campos Nome, RG, CPF.\n",
        "  \"\"\"\n",
        "  clientes_dic = {}\n",
        "  csv = open(\"clientes.csv\",\"r\")\n",
        "  arquivo = csv.read()\n",
        "  linhas = arquivo.split(\"\\n\")\n",
        "  for linha in linhas:\n",
        "    cliente = linha.split(\";\")\n",
        "    if len(linha) > 0:\n",
        "      clientes_dic[cliente[2]] = [cliente[0], cliente[1]]\n",
        "  print (\"-\" * 70) # cabeçalho\n",
        "  print (\"CPF\\t\\t\", \"NOME\\t\\t\\t\\t\", \"RG\") # nome das colunas\n",
        "  for cliente in clientes_dic.items():\n",
        "    print (cliente[0],'\\t',cliente[1][0],'\\t\\t',cliente[1][1])\n"
      ],
      "execution_count": 40,
      "outputs": []
    },
    {
      "cell_type": "code",
      "metadata": {
        "id": "lmwnQnFE2Z2b",
        "colab_type": "code",
        "colab": {
          "base_uri": "https://localhost:8080/",
          "height": 102
        },
        "outputId": "1c386eb5-7a2d-40e8-c05f-e75ffd1461b1"
      },
      "source": [
        "ler_clientes_csv()"
      ],
      "execution_count": 41,
      "outputs": [
        {
          "output_type": "stream",
          "text": [
            "----------------------------------------------------------------------\n",
            "CPF\t\t NOME\t\t\t\t RG\n",
            "12345678911 \t Rolando Caio da Rocha \t\t 123\n",
            "12345679822 \t João Sem Braço \t\t 456789\n",
            "12345678933 \t José Ninguém \t\t 852963\n"
          ],
          "name": "stdout"
        }
      ]
    },
    {
      "cell_type": "markdown",
      "metadata": {
        "id": "C2HR74TdbVga",
        "colab_type": "text"
      },
      "source": [
        "**Parte 2**"
      ]
    },
    {
      "cell_type": "markdown",
      "metadata": {
        "id": "2x1kx_L00vDB",
        "colab_type": "text"
      },
      "source": [
        "Verifica existência do arquivo filmes.csv e/ou cria dicionario - FILMES\n",
        "\n",
        "\n",
        "---\n"
      ]
    },
    {
      "cell_type": "code",
      "metadata": {
        "id": "iy1A-yL90vdP",
        "colab_type": "code",
        "colab": {
          "base_uri": "https://localhost:8080/",
          "height": 51
        },
        "outputId": "00f0cb1d-e5be-4a44-dbc8-409cbe331616"
      },
      "source": [
        "if not os.path.exists(\"/content/filmes.csv\"):\n",
        "  print(\"O arquivo filmes.csv não existe\")\n",
        "  filmes_dic={}\n",
        "  print(\"Um dicionário foi criado\")\n",
        "else:\n",
        "  print(\"Arquivo filmes.csv existe\") "
      ],
      "execution_count": 42,
      "outputs": [
        {
          "output_type": "stream",
          "text": [
            "O arquivo filmes.csv não existe\n",
            "Um dicionário foi criado\n"
          ],
          "name": "stdout"
        }
      ]
    },
    {
      "cell_type": "markdown",
      "metadata": {
        "id": "GT0pdzcH4gN4",
        "colab_type": "text"
      },
      "source": [
        "Função para gravar novo cliente em arquivo csv - FILMES\n",
        "\n",
        "\n",
        "---\n",
        "\n"
      ]
    },
    {
      "cell_type": "code",
      "metadata": {
        "id": "iZm_NSLD45yd",
        "colab_type": "code",
        "colab": {}
      },
      "source": [
        "def gravar_filmes_csv(codigo, tipo, tituto, ano):\n",
        "  \"\"\"\n",
        "  Dados dos filmes gravados em arquivo CSV, separado por “;” com os campos Código, Tipo, Título, Ano.\n",
        "  \"\"\"\n",
        "  csv = open(\"filmes.csv\",\"a\")\n",
        "  csv.write(f\"{codigo};{tipo};{titulo};{ano}\\r\\n\")"
      ],
      "execution_count": 44,
      "outputs": []
    },
    {
      "cell_type": "markdown",
      "metadata": {
        "id": "oS4txOGIbj4k",
        "colab_type": "text"
      },
      "source": [
        "Estrutura de repetição para formulário de entrada de dados - FILMES\n",
        "\n",
        "\n",
        "---\n",
        "\n"
      ]
    },
    {
      "cell_type": "code",
      "metadata": {
        "id": "PnTjcMLn41sf",
        "colab_type": "code",
        "colab": {
          "base_uri": "https://localhost:8080/",
          "height": 459
        },
        "outputId": "40b86117-e1d1-41f4-a70e-1e4ebcf955e7"
      },
      "source": [
        "# Criar um dicionário vazio\n",
        "filmes_dic = {}\n",
        "# Definir flag para indicar inserção de novos filmes\n",
        "filmes_novos = True\n",
        "while filmes_novos:\n",
        "  # Solicitar entrada para tipo, titulo e ano\n",
        "  # O código será fornecido automaticamente\n",
        "  codigo = len(filmes_dic)+1\n",
        "  tipo = input(\"Tipo (Fita/DVD): \")\n",
        "  titulo = input(\"Título: \")\n",
        "  ano = input(\"Ano: \")\n",
        "\n",
        "  # Chamar função para gravação de arquivo csv\n",
        "  gravar_filmes_csv(codigo, tipo, titulo, ano)\n",
        "\n",
        "  # Armazenar respostas em dicionário\n",
        "  filmes_dic[codigo] = [tipo,titulo,ano]\n",
        "\n",
        "  # Perguntar ao usuário se deseja inserir novo filme\n",
        "  print(\"Digite 'sim' ou 'nao'\")\n",
        "  repetir = input(\"\\n\\nVocê deseja incluir novo filme? \")\n",
        "  if repetir == 'nao':\n",
        "    filmes_novos = False\n",
        "\n",
        "  # Finalizar e imprimir novo cliente cadastrado\n",
        "print(\"\\n---Filme cadastrado ---\")\n",
        "for filme in filmes_dic.items():\n",
        "  print (filme[0],' - ',filme[1][0],' - ',filme[1][1],' - ',filme[1][2])"
      ],
      "execution_count": 45,
      "outputs": [
        {
          "output_type": "stream",
          "text": [
            "Tipo (Fita/DVD): Fita\n",
            "Título: De volta para o futuro I\n",
            "Ano: 1985\n",
            "Digite 'sim' ou 'nao'\n",
            "\n",
            "\n",
            "Você deseja incluir novo filme? sim\n",
            "Tipo (Fita/DVD): Fita\n",
            "Título: De volta para o futuro II\n",
            "Ano: 1989\n",
            "Digite 'sim' ou 'nao'\n",
            "\n",
            "\n",
            "Você deseja incluir novo filme? sim\n",
            "Tipo (Fita/DVD): Fita\n",
            "Título: De volta para o futuro III\n",
            "Ano: 1990\n",
            "Digite 'sim' ou 'nao'\n",
            "\n",
            "\n",
            "Você deseja incluir novo filme? nao\n",
            "\n",
            "---Filme cadastrado ---\n",
            "1  -  Fita  -  De volta para o futuro I  -  1985\n",
            "2  -  Fita  -  De volta para o futuro II  -  1989\n",
            "3  -  Fita  -  De volta para o futuro III  -  1990\n"
          ],
          "name": "stdout"
        }
      ]
    },
    {
      "cell_type": "markdown",
      "metadata": {
        "id": "EhqJUzu4YliB",
        "colab_type": "text"
      },
      "source": [
        "Função para gerar relatório a partir de arquivo csv - FILMES\n",
        "\n",
        "\n",
        "---\n",
        "\n"
      ]
    },
    {
      "cell_type": "code",
      "metadata": {
        "id": "awfWJBeb7N6F",
        "colab_type": "code",
        "colab": {}
      },
      "source": [
        "def ler_filmes_csv():\n",
        "  \"\"\"\n",
        "  Dados dos filmes lidos a partir de arquivo CSV, separado por “;” com os campos Código, Tipo, Título, Ano.\n",
        "  \"\"\"\n",
        "  filmes_dic = {}\n",
        "  csv = open(\"filmes.csv\",\"r\")\n",
        "  arquivo = csv.read()\n",
        "  linhas = arquivo.split(\"\\n\")\n",
        "  for linha in linhas:\n",
        "    filme = linha.split(\";\")\n",
        "    if len(linha) > 0:\n",
        "      filmes_dic[filme[0]] = [filme[1], filme[2], filme[3]]\n",
        "  print (\"-\" * 70) # cabeçalho\n",
        "  print (\"Código\\t\", \"Tipo\\t\", \"Título\\t\\t\\t\\t\", \"Ano\\t\") # nome das colunas\n",
        "  for filme in filmes_dic.items():\n",
        "    print (filme[0],'\\t',filme[1][0],'\\t',filme[1][1],'\\t',filme[1][2])"
      ],
      "execution_count": 46,
      "outputs": []
    },
    {
      "cell_type": "code",
      "metadata": {
        "id": "dsMcOJ9J8FI4",
        "colab_type": "code",
        "colab": {
          "base_uri": "https://localhost:8080/",
          "height": 102
        },
        "outputId": "dcea4832-2366-45ff-bc23-9de39278ef4d"
      },
      "source": [
        "ler_filmes_csv()"
      ],
      "execution_count": 47,
      "outputs": [
        {
          "output_type": "stream",
          "text": [
            "----------------------------------------------------------------------\n",
            "Código\t Tipo\t Título\t\t\t\t Ano\t\n",
            "1 \t Fita \t De volta para o futuro I \t 1985\n",
            "2 \t Fita \t De volta para o futuro II \t 1989\n",
            "3 \t Fita \t De volta para o futuro III \t 1990\n"
          ],
          "name": "stdout"
        }
      ]
    },
    {
      "cell_type": "markdown",
      "metadata": {
        "id": "U5_8eFIga6u7",
        "colab_type": "text"
      },
      "source": [
        "**Parte 3**"
      ]
    },
    {
      "cell_type": "markdown",
      "metadata": {
        "id": "TZtIvcot1iJU",
        "colab_type": "text"
      },
      "source": [
        "Verifica existência do arquivo emprestimos.csv e/ou cria dicionario - EMPRÉSTIMOS\n",
        "\n",
        "\n",
        "---\n",
        "\n"
      ]
    },
    {
      "cell_type": "code",
      "metadata": {
        "id": "nZ4l6NUP1jBS",
        "colab_type": "code",
        "colab": {
          "base_uri": "https://localhost:8080/",
          "height": 51
        },
        "outputId": "05a8c06b-9e2e-4f78-d7b0-90bd5e49379f"
      },
      "source": [
        "if not os.path.exists(\"/content/emprestimos.csv\"):\n",
        "  print(\"O arquivo emprestimos.csv não existe\")\n",
        "  filmes_dic={}\n",
        "  print(\"Um dicionário foi criado\")\n",
        "else:\n",
        "  print(\"Arquivo emprestimos.csv existe\") "
      ],
      "execution_count": 48,
      "outputs": [
        {
          "output_type": "stream",
          "text": [
            "O arquivo emprestimos.csv não existe\n",
            "Um dicionário foi criado\n"
          ],
          "name": "stdout"
        }
      ]
    },
    {
      "cell_type": "markdown",
      "metadata": {
        "id": "8GsCRhOQ-TPO",
        "colab_type": "text"
      },
      "source": [
        "Função para gravar novo cliente em arquivo csv - EMPRÉSTIMOS\n",
        "\n",
        "\n",
        "---\n",
        "\n",
        "\n"
      ]
    },
    {
      "cell_type": "code",
      "metadata": {
        "id": "0SXR4vSE__uW",
        "colab_type": "code",
        "colab": {}
      },
      "source": [
        "def gravar_emprestimos_csv(codigo,nome,data_emprestimo):\n",
        "  \"\"\"\n",
        "  Dados dos empréstimos realizados em arquivo CSV, separado por “;” com os campos Usuário, Código, Data.\n",
        "  \"\"\"\n",
        "  csv = open(\"historico.csv\",\"a\")\n",
        "  csv.write(f\"{codigo};{nome};{data_emprestimo}\\n\")"
      ],
      "execution_count": 53,
      "outputs": []
    },
    {
      "cell_type": "markdown",
      "metadata": {
        "id": "p5BilFoxdUhH",
        "colab_type": "text"
      },
      "source": [
        "Estrutura de repetição para formulário de entrada de dados - EMPRÉSTIMOS\n",
        "\n",
        "\n",
        "---\n",
        "\n"
      ]
    },
    {
      "cell_type": "code",
      "metadata": {
        "id": "X2hllift-vDR",
        "colab_type": "code",
        "colab": {}
      },
      "source": [
        "from datetime import datetime\n",
        "# Criar um dicionário vazio\n",
        "emprestimos_dic = {}\n",
        "# Definir flag para indicar empréstimos\n",
        "emprestimos_novos = True\n",
        "while emprestimos_novos:\n",
        "  # Solicitar entrada para nome, codigo e titulo\n",
        "  nome = input(\"Nome do usuário: \")\n",
        "  codigo = input(\"Código: \")\n",
        "  data = datetime.now()\n",
        "  data_emprestimo = data.strftime(' %d/%m/%Y')\n",
        "  \n",
        "  # Chamar função para gravação de arquivo csv\n",
        "  gravar_emprestimos_csv(codigo, nome, data_emprestimo)\n",
        "\n",
        "  # Armazenar respostas em dicionário\n",
        "  emprestimos_dic[codigo] = [nome,data_emprestimo]\n",
        "\n",
        "  # Perguntar ao usuário se deseja realizar novo empréstimo\n",
        "  print(\"Digite 'sim' ou 'nao'\")\n",
        "  repetir = input(\"\\n\\nVocê deseja realizar outro empréstimo? \")\n",
        "  if repetir == 'nao':\n",
        "    emprestimos_novos = False\n",
        "\n",
        "  # Finalizar e imprimir empréstimo realizado\n",
        "print(\"\\n---Empréstimo realizado ---\")\n",
        "for emprestimo in emprestimos_dic.items():\n",
        "  print (emprestimo[0],' - ',emprestimo[1][0],' - ',emprestimo[1][1])\n",
        "\n",
        "  for filme in filmes_dic.items():\n",
        "    print (filme[0],'\\t',filme[1][0],'\\t',filme[1][1],'\\t',filme[1][2])"
      ],
      "execution_count": null,
      "outputs": []
    },
    {
      "cell_type": "markdown",
      "metadata": {
        "id": "f0lfyRn_AqHq",
        "colab_type": "text"
      },
      "source": [
        "**Parte 4**"
      ]
    },
    {
      "cell_type": "markdown",
      "metadata": {
        "id": "n_fj4BnQe5iO",
        "colab_type": "text"
      },
      "source": [
        "Relatório a partir de arquivo csv - EMPRÉSTIMOS\n",
        "\n",
        "\n",
        "---\n",
        "\n"
      ]
    },
    {
      "cell_type": "code",
      "metadata": {
        "id": "qjI7KiIkAwRJ",
        "colab_type": "code",
        "colab": {}
      },
      "source": [
        "# Importação de biblioteca datetime\n",
        "from datetime import datetime\n",
        "from datetime import date"
      ],
      "execution_count": 58,
      "outputs": []
    },
    {
      "cell_type": "code",
      "metadata": {
        "id": "ou4JOcZd76fK",
        "colab_type": "code",
        "colab": {}
      },
      "source": [
        "# Função delta\n",
        "def delta(d1, d2):\n",
        "    \"\"\"\n",
        "    Função que calcula a diferença entre duas datas\n",
        "    \"\"\"\n",
        "    # Data do empréstimo\n",
        "    d1 = datetime.strptime(d2, '%d/%m/%Y')\n",
        "\n",
        "    # Data atual\n",
        "    d2 = datetime.strptime(d1, '%d/%m/%Y')\n",
        "\n",
        "    # Dias entre as datas\n",
        "    dias = abs((d1 - d2).days)\n",
        "    return dias"
      ],
      "execution_count": 82,
      "outputs": []
    },
    {
      "cell_type": "code",
      "metadata": {
        "id": "5Td0icO08dhi",
        "colab_type": "code",
        "colab": {
          "base_uri": "https://localhost:8080/",
          "height": 34
        },
        "outputId": "ebdff9a9-8f4d-4966-fc1f-21a5de9db044"
      },
      "source": [
        "# Data atual\n",
        "d2 = date.today()\n",
        "#d1 = \"15/07/2020\"\n",
        "#d1 = datetime.strptime(d1, '%Y/%m/%d')\n",
        "#Visualizando se o formato está correto, retirar depois\n",
        "print(str(d2))\n",
        "#Chamando a função para calcular o delta de hoje com a data informada"
      ],
      "execution_count": 66,
      "outputs": [
        {
          "output_type": "stream",
          "text": [
            "2020-08-21\n"
          ],
          "name": "stdout"
        }
      ]
    },
    {
      "cell_type": "code",
      "metadata": {
        "id": "g7aVHbkw6uCU",
        "colab_type": "code",
        "colab": {
          "base_uri": "https://localhost:8080/",
          "height": 68
        },
        "outputId": "b999916c-c542-4ff1-84bc-be3aeab1fe41"
      },
      "source": [
        "def rel_emprestimos_csv():\n",
        "  \"\"\"\n",
        "  Função que gera o relatório a partir do arquivo emprestimos.csv\n",
        "  \"\"\"\n",
        "  csv = open(\"emprestimos.csv\",\"r\")\n",
        "  arquivo = csv.read()\n",
        "  linhas = arquivo.split(\"\\n\")\n",
        "  \n",
        "\n",
        "  for linha in linhas:\n",
        "    filme = linha.split(\";\")\n",
        "    if len(linha) > 0:\n",
        "      emprestimos_dic[emprestimo[0]] = [emprestimo[1], emprestimo[2]]\n",
        "  \n",
        "  # Data atual\n",
        "  d2 = date.today()\n",
        "  # Data do empréstimo\n",
        "  d1 = emprestimo[1][1]\n",
        "  d3 = datetime.strptime(d1, '%Y/%m/%d')\n",
        "\n",
        "  print (\"-\" * 70) # cabeçalho\n",
        "  print (\"Código\\t\", \"Nome\\t\\t\\t\\t\", \"Empréstimo\") # nome das colunas\n",
        "  for empréstimo in emprestimos_dic.items():\n",
        "    print (emprestimo[0],'\\t',emprestimo[1][0],'\\t\\t',emprestimo[1][1])\n",
        "ler_emprestimos_csv()\n"
      ],
      "execution_count": 76,
      "outputs": [
        {
          "output_type": "stream",
          "text": [
            "----------------------------------------------------------------------\n",
            "Código\t Nome\t\t\t\t Empréstimo\n",
            "1 \t Rolando Caio da Rocha \t\t  21/08/2020\n"
          ],
          "name": "stdout"
        }
      ]
    },
    {
      "cell_type": "code",
      "metadata": {
        "id": "IqBULlLVDJVG",
        "colab_type": "code",
        "colab": {
          "base_uri": "https://localhost:8080/",
          "height": 34
        },
        "outputId": "76aeecb6-ea4c-4ddb-bf13-a7c7ce78080a"
      },
      "source": [
        "d1,d2"
      ],
      "execution_count": 84,
      "outputs": [
        {
          "output_type": "execute_result",
          "data": {
            "text/plain": [
              "('15/07/2020', datetime.date(2020, 8, 21))"
            ]
          },
          "metadata": {
            "tags": []
          },
          "execution_count": 84
        }
      ]
    },
    {
      "cell_type": "code",
      "metadata": {
        "id": "k8hfd6WO_QBv",
        "colab_type": "code",
        "colab": {}
      },
      "source": [
        "\n",
        "  emprestimos = open('emprestimos.csv', 'r')\n",
        "\n",
        "\n",
        "  \n",
        "  linhas = arquivo.split(\"\\n\")\n",
        "  for linha in linhas:\n",
        "    filme = linha.split(\";\")\n",
        "    if len(linha) > 0:\n",
        "      emprestimos_dic[filme[0]] = [filme[1], filme[2]]\n",
        "  print (\"-\" * 70) # cabeçalho\n",
        "  print (\"Código\\t\", \"Nome\\t\\t\\t\\t\", \"Empréstimo\") # nome das colunas\n",
        "  for empréstimo in emprestimos_dic.items():\n",
        "    print (emprestimo[0],'\\t',emprestimo[1][0],'\\t\\t',emprestimo[1][1])"
      ],
      "execution_count": null,
      "outputs": []
    },
    {
      "cell_type": "code",
      "metadata": {
        "id": "QtbyCIEkDbbX",
        "colab_type": "code",
        "colab": {
          "base_uri": "https://localhost:8080/",
          "height": 68
        },
        "outputId": "7c60ffec-ac51-4217-ac9b-10d1a3766312"
      },
      "source": [
        "ler_emprestimos_csv()"
      ],
      "execution_count": null,
      "outputs": [
        {
          "output_type": "stream",
          "text": [
            "----------------------------------------------------------------------\n",
            "Código\t Nome\t\t\t\t Empréstimo\n",
            "1 \t Rolando Caio da Rocha \t\t  20/08/2020\n"
          ],
          "name": "stdout"
        }
      ]
    },
    {
      "cell_type": "markdown",
      "metadata": {
        "id": "yVF_IrG-NJvn",
        "colab_type": "text"
      },
      "source": [
        "Funções extras\n",
        "\n",
        "---\n",
        "\n",
        "\n"
      ]
    },
    {
      "cell_type": "code",
      "metadata": {
        "id": "mIsOntZ0KZ3E",
        "colab_type": "code",
        "colab": {}
      },
      "source": [
        "### Exclusão de clientes\n",
        "\n",
        "def cliente_exclusao():\n",
        "  cpf=int(input(\"Digite o CPF do cliente: \"))\n",
        "  if cpf in clientes.keys():\n",
        "    del clientes[cpf]\n",
        "    print(\"Cliente excluído\")\n",
        "  else:\n",
        "    print(\"Cliente não encontrado com o CPF informado\")"
      ],
      "execution_count": null,
      "outputs": []
    },
    {
      "cell_type": "code",
      "metadata": {
        "id": "XaqBOYzmMEND",
        "colab_type": "code",
        "colab": {}
      },
      "source": [
        "cliente_exclusao()"
      ],
      "execution_count": null,
      "outputs": []
    },
    {
      "cell_type": "markdown",
      "metadata": {
        "id": "N6j5diRRMKgM",
        "colab_type": "text"
      },
      "source": [
        "Função para listar clientes e salvar arquivo csv"
      ]
    }
  ]
}