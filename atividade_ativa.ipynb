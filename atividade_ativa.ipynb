{
  "nbformat": 4,
  "nbformat_minor": 0,
  "metadata": {
    "colab": {
      "name": "Untitled3.ipynb",
      "provenance": [],
      "collapsed_sections": [],
      "authorship_tag": "ABX9TyPDJSrZWe8A8GfNt+jXKZg8",
      "include_colab_link": true
    },
    "kernelspec": {
      "name": "python3",
      "display_name": "Python 3"
    }
  },
  "cells": [
    {
      "cell_type": "markdown",
      "metadata": {
        "id": "view-in-github",
        "colab_type": "text"
      },
      "source": [
        "<a href=\"https://colab.research.google.com/github/leandrorodor/GR-IESB-EADG559-EADENS3A-202010/blob/master/atividade_ativa.ipynb\" target=\"_parent\"><img src=\"https://colab.research.google.com/assets/colab-badge.svg\" alt=\"Open In Colab\"/></a>"
      ]
    },
    {
      "cell_type": "code",
      "metadata": {
        "id": "N1zZijOwJ-Au",
        "colab_type": "code",
        "colab": {}
      },
      "source": [
        ""
      ],
      "execution_count": null,
      "outputs": []
    },
    {
      "cell_type": "markdown",
      "metadata": {
        "id": "3a1wrOgVI8In",
        "colab_type": "text"
      },
      "source": [
        "Função para cadastro de cliente\n",
        "\n",
        "---\n",
        "\n"
      ]
    },
    {
      "cell_type": "code",
      "metadata": {
        "id": "2Uz8G4kUJAgW",
        "colab_type": "code",
        "colab": {}
      },
      "source": [
        "def cliente_novo():\n",
        "  nome=str(input(\"Nome do cliente: \"))\n",
        "  rg=int(input(\"RG: \"))\n",
        "  cpf=int(input(\"CPF: \"))\n",
        "  if cpf in clientes.keys():\n",
        "    print(\"CPF já cadastrado\")\n",
        "  else:\n",
        "    clientes[cpf]=[nome,rg]\n",
        "    print(\"\\nCadastro concluído\") "
      ],
      "execution_count": 61,
      "outputs": []
    },
    {
      "cell_type": "code",
      "metadata": {
        "id": "qE5CClabJ7-R",
        "colab_type": "code",
        "colab": {}
      },
      "source": [
        "cliente_novo()"
      ],
      "execution_count": null,
      "outputs": []
    },
    {
      "cell_type": "markdown",
      "metadata": {
        "id": "yVF_IrG-NJvn",
        "colab_type": "text"
      },
      "source": [
        "Função para exclusão de cliente\n",
        "\n",
        "---\n",
        "\n",
        "\n"
      ]
    },
    {
      "cell_type": "code",
      "metadata": {
        "id": "mIsOntZ0KZ3E",
        "colab_type": "code",
        "colab": {}
      },
      "source": [
        "def cliente_exclusao():\n",
        "  cpf=int(input(\"Digite o CPF do cliente: \"))\n",
        "  if cpf in clientes.keys():\n",
        "    del clientes[cpf]\n",
        "    print(\"Cliente excluído\")\n",
        "  else:\n",
        "    print(\"Cliente não encontrado com o CPF informado\")"
      ],
      "execution_count": 32,
      "outputs": []
    },
    {
      "cell_type": "code",
      "metadata": {
        "id": "XaqBOYzmMEND",
        "colab_type": "code",
        "colab": {}
      },
      "source": [
        "cliente_exclusao()"
      ],
      "execution_count": null,
      "outputs": []
    },
    {
      "cell_type": "markdown",
      "metadata": {
        "id": "N6j5diRRMKgM",
        "colab_type": "text"
      },
      "source": [
        "Função para listar clientes e salvar arquivo csv"
      ]
    },
    {
      "cell_type": "code",
      "metadata": {
        "id": "8xj6zMwYMV_s",
        "colab_type": "code",
        "colab": {}
      },
      "source": [
        "def cliente_relatorio():\n",
        "    print(\"Clientes cadastrados:\")\n",
        "    for item, amount in clientes.items():  # dct.iteritems() in Python 2\n",
        "        print(\"{} {}\".format(item, amount))\n",
        "        #print(\"Nome do cliente: {}\\nRG: {} \\nCPF: {}\".format(nome, rg, cpf))\n"
      ],
      "execution_count": 165,
      "outputs": []
    },
    {
      "cell_type": "code",
      "metadata": {
        "id": "T931NyqFv5r-",
        "colab_type": "code",
        "colab": {}
      },
      "source": [
        "cliente_relatorio()"
      ],
      "execution_count": null,
      "outputs": []
    },
    {
      "cell_type": "code",
      "metadata": {
        "id": "81yDo0esmfoa",
        "colab_type": "code",
        "colab": {}
      },
      "source": [
        "import csv\n",
        "nomes = []\n",
        "rgs = []\n",
        "with open('clientes.csv', 'w') as f:\n",
        "  writer = csv.DictWriter(f, fieldnames = [\"CPF\", \"Nome\", \"RG\"], delimiter = ',')\n",
        "  writer.writeheader()\n",
        "  for key in clientes.keys():\n",
        "    f.write(\"%s,%s\\n\"%(key,clientes[key]))"
      ],
      "execution_count": 167,
      "outputs": []
    },
    {
      "cell_type": "code",
      "metadata": {
        "id": "bwpFPgCN6gTY",
        "colab_type": "code",
        "colab": {}
      },
      "source": [
        ""
      ],
      "execution_count": null,
      "outputs": []
    }
  ]
}