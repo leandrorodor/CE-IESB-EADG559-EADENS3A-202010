{
  "nbformat": 4,
  "nbformat_minor": 0,
  "metadata": {
    "colab": {
      "name": "Untitled3.ipynb",
      "provenance": [],
      "collapsed_sections": [],
      "authorship_tag": "ABX9TyM4nneQOmnR9fZaEOzQF+UC",
      "include_colab_link": true
    },
    "kernelspec": {
      "name": "python3",
      "display_name": "Python 3"
    }
  },
  "cells": [
    {
      "cell_type": "markdown",
      "metadata": {
        "id": "view-in-github",
        "colab_type": "text"
      },
      "source": [
        "<a href=\"https://colab.research.google.com/github/leandrorodor/GR-IESB-EADG559-EADENS3A-202010/blob/master/atividade_ativa.ipynb\" target=\"_parent\"><img src=\"https://colab.research.google.com/assets/colab-badge.svg\" alt=\"Open In Colab\"/></a>"
      ]
    },
    {
      "cell_type": "code",
      "metadata": {
        "id": "sLr8E28n6BrS",
        "colab_type": "code",
        "colab": {}
      },
      "source": [
        "### 20/08/2020\n",
        "### Leandro Rodor de Oliveira"
      ],
      "execution_count": 14,
      "outputs": []
    },
    {
      "cell_type": "markdown",
      "metadata": {
        "id": "3a1wrOgVI8In",
        "colab_type": "text"
      },
      "source": [
        "Estrutura de repetição para cadastro de clientes em dicionário e função para gravar arquivo csv correspondente\n",
        "\n"
      ]
    },
    {
      "cell_type": "code",
      "metadata": {
        "id": "ZKUWCZp96WdS",
        "colab_type": "code",
        "colab": {}
      },
      "source": [
        "# Criar um dicionário vazio\n",
        "clientes_dic = {}\n",
        "# Definir flag para indicar inserção de novos clientes\n",
        "clientes_novos = True\n",
        "while clientes_novos:\n",
        "  # Solicitar entrada para nome, cpf e rg\n",
        "  nome = input(\"Nome do cliente: \")\n",
        "  rg = input(\"RG do cliente: \")\n",
        "  cpf = input(\"CPF do cliente: \")\n",
        "\n",
        "  # Chamar função para gravação de arquivo csv\n",
        "  gravar_clientes_csv(cpf, nome, rg)\n",
        "\n",
        "  # Armazenar respostas em dicionário\n",
        "  clientes_dic[cpf] = [nome,rg]\n",
        "\n",
        "  # Perguntar ao usuário se deseja inserir novo cliente\n",
        "  print(\"Digite 'sim' ou 'nao'\")\n",
        "  repetir = input(\"\\n\\nVocê deseja incluir novo cliente? \")\n",
        "  if repetir == 'nao':\n",
        "    clientes_novos = False\n",
        "\n",
        "  # Finalizar e imprimir novo cliente cadastrado\n",
        "print(\"\\n---Cliente cadastrados ---\")\n",
        "for cliente in clientes_dic.items():\n",
        "  print (cliente[0],' - ',cliente[1][0],' - ',cliente[1][1])"
      ],
      "execution_count": null,
      "outputs": []
    },
    {
      "cell_type": "code",
      "metadata": {
        "id": "DpHiRiIzEhOq",
        "colab_type": "code",
        "colab": {}
      },
      "source": [
        "def gravar_clientes_csv(cpf, nome, rg):\n",
        "  \"\"\"\n",
        "  Dados dos clientes gravados em arquivo CSV, separado por “;” com os campos Nome, RG, CPF.\n",
        "  \"\"\"\n",
        "  csv = open(\"clientes.csv\",\"a\")\n",
        "  csv.write(f\"{nome};{rg};{cpf}\\r\\n\")"
      ],
      "execution_count": 135,
      "outputs": []
    },
    {
      "cell_type": "code",
      "metadata": {
        "id": "3bXfQ9Lz2L-s",
        "colab_type": "code",
        "colab": {}
      },
      "source": [
        "def ler_clientes_csv():\n",
        "  \"\"\"\n",
        "  Dados dos clientes lidos a partir de arquivo CSV, separado por “;” com os campos Nome, RG, CPF.\n",
        "  \"\"\"\n",
        "  clientes_dic = {}\n",
        "  csv = open(\"clientes.csv\",\"r\")\n",
        "  arquivo = csv.read()\n",
        "  linhas = arquivo.split(\"\\n\")\n",
        "  for linha in linhas:\n",
        "    cliente = linha.split(\";\")\n",
        "    if len(linha) > 0:\n",
        "      clientes_dic[cliente[2]] = [cliente[0], cliente[1]]\n",
        "  print (\"-\" * 70) # cabeçalho\n",
        "  print (\"CPF\\t\\t\", \"NOME\\t\\t\\t\\t\", \"RG\\n\") # nome das colunas\n",
        "  for cliente in clientes_dic.items():\n",
        "    print (cliente[0],'\\t',cliente[1][0],'\\t',cliente[1][1])\n"
      ],
      "execution_count": 137,
      "outputs": []
    },
    {
      "cell_type": "code",
      "metadata": {
        "id": "lmwnQnFE2Z2b",
        "colab_type": "code",
        "colab": {
          "base_uri": "https://localhost:8080/",
          "height": 102
        },
        "outputId": "20d175be-aedd-47dc-ab36-ed0c38416bc9"
      },
      "source": [
        "ler_clientes_csv()"
      ],
      "execution_count": 138,
      "outputs": [
        {
          "output_type": "stream",
          "text": [
            "----------------------------------------------------------------------\n",
            "CPF\t\t NOME\t\t\t\t RG\n",
            "\n",
            "12345678911 \t Rolando Caio da Rocha I \t 123456\n",
            "12345678922 \t Rolando Caio da Rocha II \t 321654\n"
          ],
          "name": "stdout"
        }
      ]
    },
    {
      "cell_type": "code",
      "metadata": {
        "id": "qE5CClabJ7-R",
        "colab_type": "code",
        "colab": {}
      },
      "source": [
        "  cadastro = {}\n",
        "  nome = input(\"Nome do cliente: \")\n",
        "  cpf = input(\"CPF: \")\n",
        "  rg = input(\"RG: \")\n",
        "  cadastro[cpf] = [nome, rg]\n",
        "  gravar_cliente(cpf, cadastro[cpf][0], cadastro[cpf][1])"
      ],
      "execution_count": 34,
      "outputs": []
    },
    {
      "cell_type": "code",
      "metadata": {
        "id": "6yXadoktxNPN",
        "colab_type": "code",
        "colab": {}
      },
      "source": [
        "def gravar_cliente(cpf, nome, rg):\n",
        "  csv = open(\"clientes.csv\",\"a\")\n",
        "  csv.write(f\"{nome};{rg};{cpf}\\r\\n\")"
      ],
      "execution_count": 35,
      "outputs": []
    },
    {
      "cell_type": "code",
      "metadata": {
        "id": "zrpOIfsPvWQ8",
        "colab_type": "code",
        "colab": {
          "base_uri": "https://localhost:8080/",
          "height": 68
        },
        "outputId": "e7e37615-22a3-4fb2-f0d2-b7f9c3e56af1"
      },
      "source": [
        "novo_cliente()"
      ],
      "execution_count": 36,
      "outputs": [
        {
          "output_type": "stream",
          "text": [
            "Nome do cliente: asdf\n",
            "CPF: 2341243\n",
            "RG: 4312431243\n"
          ],
          "name": "stdout"
        }
      ]
    },
    {
      "cell_type": "code",
      "metadata": {
        "id": "p2iLQ3YkwUfW",
        "colab_type": "code",
        "colab": {
          "base_uri": "https://localhost:8080/",
          "height": 163
        },
        "outputId": "a660676d-ff7a-48e2-8b2c-1da2d6086067"
      },
      "source": [
        "cadastro"
      ],
      "execution_count": 37,
      "outputs": [
        {
          "output_type": "error",
          "ename": "NameError",
          "evalue": "ignored",
          "traceback": [
            "\u001b[0;31m---------------------------------------------------------------------------\u001b[0m",
            "\u001b[0;31mNameError\u001b[0m                                 Traceback (most recent call last)",
            "\u001b[0;32m<ipython-input-37-a6cf93c74dfc>\u001b[0m in \u001b[0;36m<module>\u001b[0;34m()\u001b[0m\n\u001b[0;32m----> 1\u001b[0;31m \u001b[0mcadastro\u001b[0m\u001b[0;34m\u001b[0m\u001b[0;34m\u001b[0m\u001b[0m\n\u001b[0m",
            "\u001b[0;31mNameError\u001b[0m: name 'cadastro' is not defined"
          ]
        }
      ]
    },
    {
      "cell_type": "markdown",
      "metadata": {
        "id": "yVF_IrG-NJvn",
        "colab_type": "text"
      },
      "source": [
        "Função para exclusão de cliente\n",
        "\n",
        "---\n",
        "\n",
        "\n"
      ]
    },
    {
      "cell_type": "code",
      "metadata": {
        "id": "mIsOntZ0KZ3E",
        "colab_type": "code",
        "colab": {}
      },
      "source": [
        "def cliente_exclusao():\n",
        "  cpf=int(input(\"Digite o CPF do cliente: \"))\n",
        "  if cpf in clientes.keys():\n",
        "    del clientes[cpf]\n",
        "    print(\"Cliente excluído\")\n",
        "  else:\n",
        "    print(\"Cliente não encontrado com o CPF informado\")"
      ],
      "execution_count": null,
      "outputs": []
    },
    {
      "cell_type": "code",
      "metadata": {
        "id": "XaqBOYzmMEND",
        "colab_type": "code",
        "colab": {}
      },
      "source": [
        "cliente_exclusao()"
      ],
      "execution_count": null,
      "outputs": []
    },
    {
      "cell_type": "markdown",
      "metadata": {
        "id": "N6j5diRRMKgM",
        "colab_type": "text"
      },
      "source": [
        "Função para listar clientes e salvar arquivo csv"
      ]
    },
    {
      "cell_type": "code",
      "metadata": {
        "id": "8xj6zMwYMV_s",
        "colab_type": "code",
        "colab": {}
      },
      "source": [
        "def cliente_relatorio():\n",
        "    print(\"Clientes cadastrados:\")\n",
        "    for item, amount in clientes.items():  # dct.iteritems() in Python 2\n",
        "        print(\"{} {}\".format(item, amount))\n",
        "        #print(\"Nome do cliente: {}\\nRG: {} \\nCPF: {}\".format(nome, rg, cpf))\n"
      ],
      "execution_count": null,
      "outputs": []
    },
    {
      "cell_type": "code",
      "metadata": {
        "id": "T931NyqFv5r-",
        "colab_type": "code",
        "colab": {}
      },
      "source": [
        "cliente_relatorio()"
      ],
      "execution_count": null,
      "outputs": []
    },
    {
      "cell_type": "code",
      "metadata": {
        "id": "81yDo0esmfoa",
        "colab_type": "code",
        "colab": {}
      },
      "source": [
        "import csv\n",
        "nomes = []\n",
        "rgs = []\n",
        "with open('clientes.csv', 'w') as f:\n",
        "  writer = csv.DictWriter(f, fieldnames = [\"CPF\", \"Nome\", \"RG\"], delimiter = ',')\n",
        "  writer.writeheader()\n",
        "  for key in clientes.keys():\n",
        "    f.write(\"%s,%s\\n\"%(key,clientes[key]))"
      ],
      "execution_count": null,
      "outputs": []
    },
    {
      "cell_type": "code",
      "metadata": {
        "id": "bwpFPgCN6gTY",
        "colab_type": "code",
        "colab": {}
      },
      "source": [
        ""
      ],
      "execution_count": null,
      "outputs": []
    }
  ]
}