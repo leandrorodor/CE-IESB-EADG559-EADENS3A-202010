{
  "nbformat": 4,
  "nbformat_minor": 0,
  "metadata": {
    "colab": {
      "name": "Untitled3.ipynb",
      "provenance": [],
      "collapsed_sections": [],
      "authorship_tag": "ABX9TyMfx1c+59MDyYEKIpzTm+bD",
      "include_colab_link": true
    },
    "kernelspec": {
      "name": "python3",
      "display_name": "Python 3"
    }
  },
  "cells": [
    {
      "cell_type": "markdown",
      "metadata": {
        "id": "view-in-github",
        "colab_type": "text"
      },
      "source": [
        "<a href=\"https://colab.research.google.com/github/leandrorodor/GR-IESB-EADG559-EADENS3A-202010/blob/master/atividade_ativa.ipynb\" target=\"_parent\"><img src=\"https://colab.research.google.com/assets/colab-badge.svg\" alt=\"Open In Colab\"/></a>"
      ]
    },
    {
      "cell_type": "code",
      "metadata": {
        "id": "sLr8E28n6BrS",
        "colab_type": "code",
        "colab": {}
      },
      "source": [
        "### 20/08/2020\n",
        "### Leandro Rodor de Oliveira"
      ],
      "execution_count": null,
      "outputs": []
    },
    {
      "cell_type": "code",
      "metadata": {
        "id": "T1exm4zU6jtf",
        "colab_type": "code",
        "colab": {}
      },
      "source": [
        "from datetime import datetime"
      ],
      "execution_count": 57,
      "outputs": []
    },
    {
      "cell_type": "markdown",
      "metadata": {
        "id": "f6S4VBYfaImO",
        "colab_type": "text"
      },
      "source": [
        "**Parte 1**"
      ]
    },
    {
      "cell_type": "markdown",
      "metadata": {
        "id": "3a1wrOgVI8In",
        "colab_type": "text"
      },
      "source": [
        "Função para gravar novo cliente em arquivo csv - CLIENTES\n",
        "\n",
        "\n",
        "---\n",
        "\n"
      ]
    },
    {
      "cell_type": "code",
      "metadata": {
        "id": "DpHiRiIzEhOq",
        "colab_type": "code",
        "colab": {}
      },
      "source": [
        "def gravar_clientes_csv(cpf, nome, rg):\n",
        "  \"\"\"\n",
        "  Função para gracação dos dados de clientes arquivo CSV, separado por “;” com os campos CPF, Nome e RG.\n",
        "  \"\"\"\n",
        "  csv = open(\"clientes.csv\",\"a\")\n",
        "  csv.write(f\"{cpf};{nome};{rg}\\n\")\n",
        "  csv.close()\n",
        "  print(\"Observação registrada em arquivo csv\")"
      ],
      "execution_count": 36,
      "outputs": []
    },
    {
      "cell_type": "markdown",
      "metadata": {
        "id": "xRqjQT4FY3BH",
        "colab_type": "text"
      },
      "source": [
        "Estrutura de repetição para formulário de entrada de dados - CLIENTES\n",
        "\n",
        "\n",
        "---\n",
        "\n"
      ]
    },
    {
      "cell_type": "code",
      "metadata": {
        "id": "ZKUWCZp96WdS",
        "colab_type": "code",
        "colab": {}
      },
      "source": [
        "# Flag para indicar inserção de novos clientes\n",
        "clientes_novos = True\n",
        "while clientes_novos:\n",
        "\n",
        "  # Solicitar entrada para cpf, nome e rg\n",
        "  cpf = input(\"CPF do cliente: \")\n",
        "  nome = input(\"Nome do cliente: \")\n",
        "  rg = input(\"RG do cliente: \")\n",
        "  \n",
        "  # Armazenar dados em dicionário\n",
        "  clientes_dic = {}\n",
        "  clientes_dic[cpf] = [nome,rg]\n",
        "\n",
        "  # Chama função para gravação de arquivo csv\n",
        "  gravar_clientes_csv(cpf, nome, rg)\n",
        "\n",
        "  # Perguntar ao usuário se deseja inserir novo cliente\n",
        "  print(\"\\nDigite 'sim' ou 'nao'\\n\")\n",
        "  repetir = input(\"\\n\\nVocê deseja incluir novo cliente? \\n\")\n",
        "  if repetir == 'nao':\n",
        "    clientes_novos = False\n",
        "\n",
        "  # Finalizar e imprimir comprovante de cadastro de cliente\n",
        "  print (\"-\" * 70) # cabeçalho\n",
        "  print(\"CLIENTE CADASTRADO COM SUCESSO\\n\")\n"
      ],
      "execution_count": null,
      "outputs": []
    },
    {
      "cell_type": "markdown",
      "metadata": {
        "id": "eOhlIjGmYO8K",
        "colab_type": "text"
      },
      "source": [
        "Função para gerar relatório de clientes a partir de arquivo csv - CLIENTES\n",
        "\n",
        "\n",
        "---\n",
        "\n"
      ]
    },
    {
      "cell_type": "code",
      "metadata": {
        "id": "3bXfQ9Lz2L-s",
        "colab_type": "code",
        "colab": {}
      },
      "source": [
        "def ler_clientes_csv():\n",
        "  \"\"\"\n",
        "  Dados dos clientes lidos a partir de arquivo CSV, separado por “;” com os campos Nome, RG, CPF.\n",
        "  \"\"\"\n",
        "  # Abre arquivo clientes.csv\n",
        "  clientes = open(\"clientes.csv\", \"r\").read().split(\"\\n\")\n",
        "\n",
        "  #  Cabeçalho \n",
        "  print (\"-\" * 70) \n",
        "  print (\"CPF\\t\\t\", \"NOME\\t\\t\\t\\t\", \"RG\") # nome das colunas\n",
        "  \n",
        "  \n",
        "  for cliente in clientes:\n",
        "    if cliente != \"\":\n",
        "      cpf_cliente, nome_cliente, rg_cliente = cliente.split(\";\")\n",
        "      print(f\"{cpf_cliente}\\t{nome_cliente}\\t\\t{rg_cliente}\")"
      ],
      "execution_count": 108,
      "outputs": []
    },
    {
      "cell_type": "code",
      "metadata": {
        "id": "lmwnQnFE2Z2b",
        "colab_type": "code",
        "colab": {
          "base_uri": "https://localhost:8080/",
          "height": 119
        },
        "outputId": "e5b068ef-7ac7-4c18-f43d-9ba44551085e"
      },
      "source": [
        "ler_clientes_csv()"
      ],
      "execution_count": 109,
      "outputs": [
        {
          "output_type": "stream",
          "text": [
            "----------------------------------------------------------------------\n",
            "CPF\t\t NOME\t\t\t\t RG\n",
            "65933079120\tRolando Caio da Rocha\t\t123456\n",
            "12345678922\tJoão Sem Braço\t\t123789\n",
            "12345678933\tJosé Baixinho\t\t963852\n",
            "12345678944\tJoão Ninguém\t\t987357\n"
          ],
          "name": "stdout"
        }
      ]
    },
    {
      "cell_type": "markdown",
      "metadata": {
        "id": "C2HR74TdbVga",
        "colab_type": "text"
      },
      "source": [
        "**Parte 2**"
      ]
    },
    {
      "cell_type": "markdown",
      "metadata": {
        "id": "GT0pdzcH4gN4",
        "colab_type": "text"
      },
      "source": [
        "Função para gravar novo cliente em arquivo csv - FILMES\n",
        "\n",
        "\n",
        "---\n",
        "\n"
      ]
    },
    {
      "cell_type": "code",
      "metadata": {
        "id": "iZm_NSLD45yd",
        "colab_type": "code",
        "colab": {}
      },
      "source": [
        "def gravar_filmes_csv(codigo, tipo, tituto, ano):\n",
        "  \"\"\"\n",
        "  Dados dos filmes gravados em arquivo CSV, separado por “;” com os campos Código, Tipo, Título, Ano.\n",
        "  \"\"\"\n",
        "  csv = open(\"filmes.csv\",\"a\")\n",
        "  csv.write(f\"{codigo};{tipo};{titulo};{ano}\\r\")\n",
        "  csv.close()\n",
        "  print(\"Observação registrada em arquivo csv\")"
      ],
      "execution_count": 91,
      "outputs": []
    },
    {
      "cell_type": "markdown",
      "metadata": {
        "id": "oS4txOGIbj4k",
        "colab_type": "text"
      },
      "source": [
        "Estrutura de repetição para formulário de entrada de dados - FILMES\n",
        "\n",
        "\n",
        "---\n",
        "\n"
      ]
    },
    {
      "cell_type": "code",
      "metadata": {
        "id": "PnTjcMLn41sf",
        "colab_type": "code",
        "colab": {
          "base_uri": "https://localhost:8080/",
          "height": 238
        },
        "outputId": "c8128166-8cb3-4202-be88-0736ad547a9c"
      },
      "source": [
        "# Flag para indicar inserção de novos filmes\n",
        "filmes_novos = True\n",
        "while filmes_novos:\n",
        "  # Solicitar entrada para tipo, titulo e ano\n",
        "  # O código será fornecido automaticamente\n",
        "  \n",
        "  codigo = input(\"Código: \")\n",
        "  tipo = input(\"Tipo (Fita/DVD): \")\n",
        "  titulo = input(\"Título: \")\n",
        "  ano = input(\"Ano: \")\n",
        "\n",
        "  # Armazenar dados em dicionário\n",
        "  filmes_dic = {} \n",
        "  filmes_dic[codigo] = [tipo,titulo,ano]\n",
        "\n",
        "  # Chama função para gravação de arquivo csv\n",
        "  gravar_filmes_csv(codigo, tipo, titulo, ano)\n",
        "\n",
        "  # Perguntar ao usuário se deseja inserir novo filme\n",
        "  print(\"Digite 'sim' ou 'nao'\")\n",
        "  repetir = input(\"\\n\\nVocê deseja incluir novo filme? \")\n",
        "  if repetir == 'nao':\n",
        "    filmes_novos = False\n",
        "\n",
        "    print(\"Rotina encerrada\")\n",
        "\n",
        "  # Finalizar e imprimir comprovante de cadastro de cliente\n",
        "  print (\"-\" * 70) # cabeçalho\n",
        "  print(\"FILME CADASTRADO COM SUCESSO\\n\")"
      ],
      "execution_count": 100,
      "outputs": [
        {
          "output_type": "stream",
          "text": [
            "Código: 2\n",
            "Tipo (Fita/DVD): DVD\n",
            "Título: Terminator\n",
            "Ano: 1984\n",
            "Observação registrada em arquivo csv\n",
            "Digite 'sim' ou 'nao'\n",
            "\n",
            "\n",
            "Você deseja incluir novo filme? nao\n",
            "Rotina encerrada\n",
            "----------------------------------------------------------------------\n",
            "FILME CADASTRADO COM SUCESSO\n",
            "\n"
          ],
          "name": "stdout"
        }
      ]
    },
    {
      "cell_type": "markdown",
      "metadata": {
        "id": "EhqJUzu4YliB",
        "colab_type": "text"
      },
      "source": [
        "Função para gerar relatório a partir de arquivo csv - FILMES\n",
        "\n",
        "\n",
        "---\n",
        "\n"
      ]
    },
    {
      "cell_type": "code",
      "metadata": {
        "id": "awfWJBeb7N6F",
        "colab_type": "code",
        "colab": {}
      },
      "source": [
        "def ler_filmes_csv():\n",
        "  \"\"\"\n",
        "  Dados dos filmes lidos a partir de arquivo CSV, separado por “;” com os campos Código, Tipo, Título, Ano.\n",
        "  \"\"\"\n",
        "  # Abre arquivo filmes.csv\n",
        "  filmes = open(\"filmes.csv\", \"r\").read().split(\"\\n\")\n",
        "\n",
        "  #  Cabeçalho \n",
        "  print (\"-\" * 70) \n",
        "  print (\"Código\\t\\t\", \"Tipo\\t\\t\", \"Título\\t\\t\\t\\t\", \"Ano\") # nome das colunas\n",
        "  \n",
        "  \n",
        "  for filme in filmes:\n",
        "    if filme != \"\":\n",
        "      codigo_filme, tipo_filme, titulo_filme, ano_filme = filme.split(\";\")\n",
        "      print(f\"{codigo_filme}\\t{tipo_filme}\\t\\t{titulo_filme}\\t\\t{ano_filme}\")        "
      ],
      "execution_count": 114,
      "outputs": []
    },
    {
      "cell_type": "code",
      "metadata": {
        "id": "dsMcOJ9J8FI4",
        "colab_type": "code",
        "colab": {
          "base_uri": "https://localhost:8080/",
          "height": 119
        },
        "outputId": "1e3b151e-12e1-457c-921d-b6e800572df2"
      },
      "source": [
        "ler_filmes_csv()"
      ],
      "execution_count": 115,
      "outputs": [
        {
          "output_type": "stream",
          "text": [
            "----------------------------------------------------------------------\n",
            "Código\t\t Tipo\t\t Título\t\t\t\t Ano\n",
            "1\tFita\t\tDe volta para o futuro I\t\t1985\n",
            "1\tFita\t\tDevolta para o furuto II\t\t1989\n",
            "1\tFita\t\tDevolta para o furuto III\t\t1990\n",
            "2\tDVD\t\tTerminator\t\t1984\n"
          ],
          "name": "stdout"
        }
      ]
    },
    {
      "cell_type": "markdown",
      "metadata": {
        "id": "U5_8eFIga6u7",
        "colab_type": "text"
      },
      "source": [
        "**Parte 3**"
      ]
    },
    {
      "cell_type": "markdown",
      "metadata": {
        "id": "8GsCRhOQ-TPO",
        "colab_type": "text"
      },
      "source": [
        "Função para gravar novo cliente em arquivo csv - EMPRÉSTIMOS\n",
        "\n",
        "\n",
        "---\n",
        "\n",
        "\n"
      ]
    },
    {
      "cell_type": "code",
      "metadata": {
        "id": "0SXR4vSE__uW",
        "colab_type": "code",
        "colab": {}
      },
      "source": [
        "def gravar_emprestimos_csv(codigo,nome,data_emprestimo):\n",
        "  \"\"\"\n",
        "  Dados dos empréstimos realizados em arquivo CSV, separado por “;” com os campos Usuário, Código, Data.\n",
        "  \"\"\"\n",
        "  csv = open(\"emprestimos.csv\",\"a\")\n",
        "  csv.write(f\"{codigo};{nome};{data_emprestimo}\\r\")\n",
        "  csv.close()\n",
        "  print(\"Observação registrada em arquivo csv\")"
      ],
      "execution_count": 116,
      "outputs": []
    },
    {
      "cell_type": "markdown",
      "metadata": {
        "id": "p5BilFoxdUhH",
        "colab_type": "text"
      },
      "source": [
        "Estrutura de repetição para formulário de entrada de dados - EMPRÉSTIMOS\n",
        "\n",
        "\n",
        "---\n",
        "\n"
      ]
    },
    {
      "cell_type": "code",
      "metadata": {
        "id": "X2hllift-vDR",
        "colab_type": "code",
        "colab": {
          "base_uri": "https://localhost:8080/",
          "height": 221
        },
        "outputId": "239836e7-31e8-4412-ed3e-17427a920e63"
      },
      "source": [
        "# Flag para indicar inserção de empréstimos\n",
        "emprestimos_novos = True\n",
        "while emprestimos_novos:\n",
        "  # Solicitar entrada para nome, codigo e data\n",
        " \n",
        "  nome = input(\"Nome: \")\n",
        "  codigo = input(\"Código: \")\n",
        "  data = input(\"Data: \")\n",
        "\n",
        "  # Armazenar dados em dicionário\n",
        "  emprestimos_dic = {} \n",
        "  emprestimos_dic[codigo] = [nome,data]\n",
        "\n",
        "  # Chama função para gravação de arquivo csv\n",
        "  gravar_emprestimos_csv(codigo,nome,data)\n",
        "\n",
        "  # Perguntar ao usuário se deseja realizar outro empréstimo\n",
        "  print(\"Digite 'sim' ou 'nao'\")\n",
        "  repetir = input(\"\\n\\nVocê deseja realizar outro empréstimo? \")\n",
        "  if repetir == 'nao':\n",
        "    emprestimos_novos = False\n",
        "\n",
        "    print(\"Rotina encerrada\")\n",
        "\n",
        "  # Finalizar e imprimir comprovante empréstimo\n",
        "  print (\"-\" * 70) # cabeçalho\n",
        "  print(\"EMPRÉSTIMO REALIZADO COM SUCESSO\\n\")"
      ],
      "execution_count": 119,
      "outputs": [
        {
          "output_type": "stream",
          "text": [
            "Nome: Rolando Caio da Rocha\n",
            "Código: 1\n",
            "Data: 15/06/2020\n",
            "Observação registrada em arquivo csv\n",
            "Digite 'sim' ou 'nao'\n",
            "\n",
            "\n",
            "Você deseja realizar outro empréstimo? nao\n",
            "Rotina encerrada\n",
            "----------------------------------------------------------------------\n",
            "EMPRÉSTIMO REALIZADO COM SUCESSO\n",
            "\n"
          ],
          "name": "stdout"
        }
      ]
    },
    {
      "cell_type": "code",
      "metadata": {
        "id": "3-OJeJfqJgle",
        "colab_type": "code",
        "colab": {}
      },
      "source": [
        "def ler_emprestimos_csv():\n",
        "  \"\"\"\n",
        "  Dados dos emprestimos lidos a partir de arquivo CSV, separado por “;” com os campos Código, nome e Data.\n",
        "  \"\"\"\n",
        "  # Abre arquivo emprestimos.csv\n",
        "  emprestimos = open(\"emprestimos.csv\", \"r\").read().split(\"\\n\")\n",
        "\n",
        "  #  Cabeçalho \n",
        "  print (\"-\" * 70) \n",
        "  print (\"Código\\t\\t\",\"Nome\\t\\t\\t\\t\", \"Data\") # nome das colunas\n",
        "  \n",
        "  for emprestimo in emprestimos:\n",
        "    if emprestimo != \"\":\n",
        "      codigo_emprestimo, nome_emprestimo, data_emprestimo = emprestimo.split(\";\")\n",
        "      print(f\"{codigo_emprestimo}\\t\\t{nome_emprestimo}\\t\\t{data_emprestimo}\")\n",
        "  ler_emprestimos_csv()"
      ],
      "execution_count": 139,
      "outputs": []
    },
    {
      "cell_type": "markdown",
      "metadata": {
        "id": "f0lfyRn_AqHq",
        "colab_type": "text"
      },
      "source": [
        "**Parte 4**"
      ]
    },
    {
      "cell_type": "markdown",
      "metadata": {
        "id": "n_fj4BnQe5iO",
        "colab_type": "text"
      },
      "source": [
        "Relatório a partir de arquivo csv - EMPRÉSTIMOS\n",
        "\n",
        "\n",
        "---\n",
        "\n"
      ]
    },
    {
      "cell_type": "code",
      "metadata": {
        "id": "qjI7KiIkAwRJ",
        "colab_type": "code",
        "colab": {}
      },
      "source": [
        "# Importação de biblioteca datetime\n",
        "from datetime import datetime\n",
        "from datetime import date"
      ],
      "execution_count": null,
      "outputs": []
    },
    {
      "cell_type": "code",
      "metadata": {
        "id": "ou4JOcZd76fK",
        "colab_type": "code",
        "colab": {}
      },
      "source": [
        "# Função delta\n",
        "def delta(d1, d2):\n",
        "    \"\"\"\n",
        "    Função que calcula a diferença entre duas datas\n",
        "    \"\"\"\n",
        "    # Data do empréstimo\n",
        "    d1 = datetime.strptime(d2, '%d/%m/%Y')\n",
        "\n",
        "    # Data atual\n",
        "    d2 = datetime.strptime(d1, '%d/%m/%Y')\n",
        "\n",
        "    # Dias entre as datas\n",
        "    dias = abs((d1 - d2).days)\n",
        "    return dias"
      ],
      "execution_count": null,
      "outputs": []
    },
    {
      "cell_type": "code",
      "metadata": {
        "id": "5Td0icO08dhi",
        "colab_type": "code",
        "colab": {
          "base_uri": "https://localhost:8080/",
          "height": 34
        },
        "outputId": "ebdff9a9-8f4d-4966-fc1f-21a5de9db044"
      },
      "source": [
        "# Data atual\n",
        "d2 = date.today()\n",
        "#d1 = \"15/07/2020\"\n",
        "#d1 = datetime.strptime(d1, '%Y/%m/%d')\n",
        "#Visualizando se o formato está correto, retirar depois\n",
        "print(str(d2))\n",
        "#Chamando a função para calcular o delta de hoje com a data informada"
      ],
      "execution_count": null,
      "outputs": [
        {
          "output_type": "stream",
          "text": [
            "2020-08-21\n"
          ],
          "name": "stdout"
        }
      ]
    },
    {
      "cell_type": "code",
      "metadata": {
        "id": "g7aVHbkw6uCU",
        "colab_type": "code",
        "colab": {
          "base_uri": "https://localhost:8080/",
          "height": 68
        },
        "outputId": "b999916c-c542-4ff1-84bc-be3aeab1fe41"
      },
      "source": [
        "def rel_emprestimos_csv():\n",
        "  \"\"\"\n",
        "  Função que gera o relatório a partir do arquivo emprestimos.csv\n",
        "  \"\"\"\n",
        "  csv = open(\"emprestimos.csv\",\"r\")\n",
        "  arquivo = csv.read()\n",
        "  linhas = arquivo.split(\"\\n\")\n",
        "  \n",
        "\n",
        "  for linha in linhas:\n",
        "    filme = linha.split(\";\")\n",
        "    if len(linha) > 0:\n",
        "      emprestimos_dic[emprestimo[0]] = [emprestimo[1], emprestimo[2]]\n",
        "  \n",
        "  # Data atual\n",
        "  d2 = date.today()\n",
        "  # Data do empréstimo\n",
        "  d1 = emprestimo[1][1]\n",
        "  d3 = datetime.strptime(d1, '%Y/%m/%d')\n",
        "\n",
        "  print (\"-\" * 70) # cabeçalho\n",
        "  print (\"Código\\t\", \"Nome\\t\\t\\t\\t\", \"Empréstimo\") # nome das colunas\n",
        "  for empréstimo in emprestimos_dic.items():\n",
        "    print (emprestimo[0],'\\t',emprestimo[1][0],'\\t\\t',emprestimo[1][1])\n",
        "ler_emprestimos_csv()\n"
      ],
      "execution_count": null,
      "outputs": [
        {
          "output_type": "stream",
          "text": [
            "----------------------------------------------------------------------\n",
            "Código\t Nome\t\t\t\t Empréstimo\n",
            "1 \t Rolando Caio da Rocha \t\t  21/08/2020\n"
          ],
          "name": "stdout"
        }
      ]
    },
    {
      "cell_type": "code",
      "metadata": {
        "id": "IqBULlLVDJVG",
        "colab_type": "code",
        "colab": {
          "base_uri": "https://localhost:8080/",
          "height": 34
        },
        "outputId": "76aeecb6-ea4c-4ddb-bf13-a7c7ce78080a"
      },
      "source": [
        "d1,d2"
      ],
      "execution_count": null,
      "outputs": [
        {
          "output_type": "execute_result",
          "data": {
            "text/plain": [
              "('15/07/2020', datetime.date(2020, 8, 21))"
            ]
          },
          "metadata": {
            "tags": []
          },
          "execution_count": 84
        }
      ]
    },
    {
      "cell_type": "code",
      "metadata": {
        "id": "k8hfd6WO_QBv",
        "colab_type": "code",
        "colab": {}
      },
      "source": [
        "\n",
        "  emprestimos = open('emprestimos.csv', 'r')\n",
        "\n",
        "\n",
        "  \n",
        "  linhas = arquivo.split(\"\\n\")\n",
        "  for linha in linhas:\n",
        "    filme = linha.split(\";\")\n",
        "    if len(linha) > 0:\n",
        "      emprestimos_dic[filme[0]] = [filme[1], filme[2]]\n",
        "  print (\"-\" * 70) # cabeçalho\n",
        "  print (\"Código\\t\", \"Nome\\t\\t\\t\\t\", \"Empréstimo\") # nome das colunas\n",
        "  for empréstimo in emprestimos_dic.items():\n",
        "    print (emprestimo[0],'\\t',emprestimo[1][0],'\\t\\t',emprestimo[1][1])"
      ],
      "execution_count": null,
      "outputs": []
    },
    {
      "cell_type": "code",
      "metadata": {
        "id": "QtbyCIEkDbbX",
        "colab_type": "code",
        "colab": {
          "base_uri": "https://localhost:8080/",
          "height": 68
        },
        "outputId": "7c60ffec-ac51-4217-ac9b-10d1a3766312"
      },
      "source": [
        "ler_emprestimos_csv()"
      ],
      "execution_count": null,
      "outputs": [
        {
          "output_type": "stream",
          "text": [
            "----------------------------------------------------------------------\n",
            "Código\t Nome\t\t\t\t Empréstimo\n",
            "1 \t Rolando Caio da Rocha \t\t  20/08/2020\n"
          ],
          "name": "stdout"
        }
      ]
    },
    {
      "cell_type": "markdown",
      "metadata": {
        "id": "yVF_IrG-NJvn",
        "colab_type": "text"
      },
      "source": [
        "Funções extras\n",
        "\n",
        "---\n",
        "\n",
        "\n"
      ]
    },
    {
      "cell_type": "code",
      "metadata": {
        "id": "mIsOntZ0KZ3E",
        "colab_type": "code",
        "colab": {}
      },
      "source": [
        "### Exclusão de clientes\n",
        "\n",
        "def cliente_exclusao():\n",
        "  cpf=int(input(\"Digite o CPF do cliente: \"))\n",
        "  if cpf in clientes.keys():\n",
        "    del clientes[cpf]\n",
        "    print(\"Cliente excluído\")\n",
        "  else:\n",
        "    print(\"Cliente não encontrado com o CPF informado\")"
      ],
      "execution_count": null,
      "outputs": []
    },
    {
      "cell_type": "code",
      "metadata": {
        "id": "XaqBOYzmMEND",
        "colab_type": "code",
        "colab": {}
      },
      "source": [
        "cliente_exclusao()"
      ],
      "execution_count": null,
      "outputs": []
    },
    {
      "cell_type": "markdown",
      "metadata": {
        "id": "N6j5diRRMKgM",
        "colab_type": "text"
      },
      "source": [
        "Função para listar clientes e salvar arquivo csv"
      ]
    }
  ]
}