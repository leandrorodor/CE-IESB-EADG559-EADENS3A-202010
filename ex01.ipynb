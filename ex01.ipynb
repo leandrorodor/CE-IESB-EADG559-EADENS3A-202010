{
 "metadata": {
  "language_info": {
   "codemirror_mode": {
    "name": "ipython",
    "version": 3
   },
   "file_extension": ".py",
   "mimetype": "text/x-python",
   "name": "python",
   "nbconvert_exporter": "python",
   "pygments_lexer": "ipython3",
   "version": 3
  },
  "orig_nbformat": 2,
  "kernelspec": {
   "name": "python_defaultSpec_1595469825324",
   "display_name": "Python 3.7.6 64-bit ('base': conda)"
  }
 },
 "nbformat": 4,
 "nbformat_minor": 2,
 "cells": [
  {
   "cell_type": "code",
   "execution_count": 1,
   "metadata": {},
   "outputs": [],
   "source": [
    "### Faça um programa que irá receber duas notas digitadas no teclado e irá mostrar a média das notas ###"
   ]
  },
  {
   "cell_type": "code",
   "execution_count": 2,
   "metadata": {},
   "outputs": [
    {
     "output_type": "error",
     "ename": "SyntaxError",
     "evalue": "EOL while scanning string literal (<ipython-input-2-1ad6b62fba86>, line 2)",
     "traceback": [
      "\u001b[0;36m  File \u001b[0;32m\"<ipython-input-2-1ad6b62fba86>\"\u001b[0;36m, line \u001b[0;32m2\u001b[0m\n\u001b[0;31m    nota2 = input (\"Digite a segunda nota)\u001b[0m\n\u001b[0m                                          ^\u001b[0m\n\u001b[0;31mSyntaxError\u001b[0m\u001b[0;31m:\u001b[0m EOL while scanning string literal\n"
     ]
    }
   ],
   "source": [
    "print(\"Digite notas para cálculo da média\")\n",
    "n1 = input (\"Digite a primeira nota\")\n",
    "n2 = input (\"Digite a segunda nota\")\n",
    "soma = int(n1) + int(n2)\n",
    "print (\"A média das notas é \", soma/2)"
   ]
  },
  {
   "cell_type": "code",
   "execution_count": null,
   "metadata": {},
   "outputs": [],
   "source": [
    "### Faça um programa que soma o conteudo da lista de numeros inteiros de 1 a 5 ###"
   ]
  },
  {
   "cell_type": "code",
   "execution_count": null,
   "metadata": {},
   "outputs": [],
   "source": [
    "num_int=list(range(1,6))\n",
    "print (\"A soma dos itens da lista é \", sum(num_int)"
   ]
  },
  {
   "cell_type": "code",
   "execution_count": null,
   "metadata": {},
   "outputs": [],
   "source": [
    "### Faça um programa que recebe uma frase digitada no teclado e transforma as letras em maisculas ###"
   ]
  },
  {
   "cell_type": "code",
   "execution_count": null,
   "metadata": {},
   "outputs": [],
   "source": [
    "frase = input (\"Digite uma frase qualquer\")\n",
    "print(frase.upper())"
   ]
  },
  {
   "cell_type": "code",
   "execution_count": null,
   "metadata": {},
   "outputs": [],
   "source": [
    "### Faça um programa que recebe um valor digitado e informa o tipo ###"
   ]
  },
  {
   "cell_type": "code",
   "execution_count": null,
   "metadata": {},
   "outputs": [],
   "source": [
    "valor = input (\"Digite uma palavra ou número\")\n",
    "type(valor)\n",
    "# O retorno da função input() é do tipo string"
   ]
  },
  {
   "cell_type": "code",
   "execution_count": null,
   "metadata": {},
   "outputs": [],
   "source": [
    "### Faça um programa que recebe um valor e informa se é maior que zero ###\n"
   ]
  },
  {
   "cell_type": "code",
   "execution_count": null,
   "metadata": {},
   "outputs": [],
   "source": [
    "numero = input (\"Digite um número\")\n",
    "numero=int(numero)\n",
    "if (numero<0):\n",
    "    "
   ]
  },
  {
   "cell_type": "code",
   "execution_count": null,
   "metadata": {},
   "outputs": [],
   "source": [
    "numero = input (\"Digite um número \")\n",
    "numero=int(numero)\n",
    "if (numero<0):\n",
    "  print(numero, \"é menor que zero\")\n",
    "elif (numero==0):\n",
    "  print (numero, \" é igual a zero\")\n",
    "else:\n",
    "  print (numero, \"é maior que zero\")"
   ]
  }
 ]
}